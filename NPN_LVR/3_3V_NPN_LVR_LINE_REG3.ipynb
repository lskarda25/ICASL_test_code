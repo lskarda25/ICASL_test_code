{
 "cells": [
  {
   "cell_type": "code",
   "execution_count": null,
   "metadata": {
    "scrolled": true
   },
   "outputs": [],
   "source": [
    "<b> Import Library, find available devices </b>"
   ]
  },
  {
   "cell_type": "code",
   "execution_count": 1,
   "metadata": {},
   "outputs": [
    {
     "data": {
      "text/plain": [
       "('USB0::0x2A8D::0x0101::MY57508183::INSTR',\n",
       " 'ASRL3::INSTR',\n",
       " 'ASRL4::INSTR',\n",
       " 'USB0::0x0957::0x0607::MY45002108::0::INSTR',\n",
       " 'USB0::0x0957::0x1796::MY57231548::0::INSTR',\n",
       " 'USB0::0x0957::0x1796::MY57231553::0::INSTR',\n",
       " 'USB0::0x0957::0x17B6::MY56310504::0::INSTR',\n",
       " 'USB0::0x0957::0x2C07::MY57890777::0::INSTR',\n",
       " 'USB0::0x2A8D::0x0101::MY54505624::0::INSTR')"
      ]
     },
     "execution_count": 1,
     "metadata": {},
     "output_type": "execute_result"
    }
   ],
   "source": [
    "# Initialization code for 3.3 V SiGe LVR Load Regulation Testing.\n",
    "# This block identifies and initializes the connected SMUs (Source Measure Units).\n",
    "# If running for the first time, ensure the SMU names are correctly referenced in the subsequent code block.\n",
    "\n",
    "# This program sweeps VIN for a fixed VREF and measures total quiescent current (IQ) and VOUT. \n",
    "# This program sets up a directory for all measurements taken at a specific temperature by prompting the user for the temperature.\n",
    "# This program creates a .csv file to save the measurements for a VREF in the temperature directory. \n",
    "\n",
    "# The setup assumes the use of two SMUs:\n",
    "# - One dedicated to VIN sweeps.\n",
    "# - One Sinks a load current and measures VOUT.\n",
    "\n",
    "import pyvisa                    # Importing the pyvisa library for instrument communication\n",
    "import time                      # Importing the time module to handle time-related tasks (e.g., delays)\n",
    "import matplotlib.pyplot as plt  # Importing matplotlib.pyplot for plotting graphs and visualizing data\n",
    "import numpy as np               # Importing numpy for numerical operations, particularly with arrays\n",
    "import pandas as dp              # Importing pandas as dp for data manipulation and analysis\n",
    "import os                        # Importing os to interact with the operating system, such as handling file paths\n",
    "import csv                       # Importing csv to read from and write to CSV files\n",
    "rm = pyvisa.ResourceManager()    # Create a ResourceManager object, which manages communication with instruments\n",
    "rm.list_resources()              # List all available resources (e.g., connected instruments) managed by pyvisa"
   ]
  },
  {
   "cell_type": "code",
   "execution_count": 2,
   "metadata": {},
   "outputs": [
    {
     "name": "stdout",
     "output_type": "stream",
     "text": [
      "SerialInstrument at ASRL3::INSTR\n",
      "KEITHLEY INSTRUMENTS INC.,MODEL 2400,1033554,C27   Feb  4 2004 14:58:04/A02  /K/H\n",
      "SerialInstrument at ASRL4::INSTR\n",
      "KEITHLEY INSTRUMENTS INC.,MODEL 2400,0904402,C32   Oct  4 2010 14:20:11/A02  /J/H\n",
      "USBInstrument at USB0::10893::257::MY57508183::0::INSTR\n",
      "Keysight Technologies,34465A,MY57508183,A.02.17-02.40-02.17-00.52-04-01\n"
     ]
    }
   ],
   "source": [
    "#Establishing Connection for VIN SMU\n",
    "SM_VIN = rm.open_resource('ASRL3::INSTR')  # Open a connection to the instrument with the address 'ASRL3::INSTR' and assign it to SM_VIN\n",
    "SM_VIN.read_termination = '\\n'             # Set the read termination character to a newline. This tells pyvisa when to consider a message as complete when reading from the instrument.\n",
    "SM_VIN.write_termination = '\\n'            # Set the write termination character to a newline. This ensures that each command sent to the instrument is properly terminated.\n",
    "SM_VIN.baud_rate = 9600                    # Set the baud rate for serial communication to 9600. This is the speed at which data is transmitted over the serial connection.\n",
    "print(SM_VIN)                              # Print the resource object (SM_VIN) to display its properties\n",
    "print(SM_VIN.query('*IDN?'))               # Send the '*IDN?' command to the instrument and print its response. This command usually asks the instrument to identify itself (e.g., manufacturer, model number).\n",
    "\n",
    "#Establishing Connection for VOUT SMU\n",
    "SM_VOUT = rm.open_resource('ASRL4::INSTR') # Open a connection to the instrument with the address 'ASRL4::INSTR' and assign it to SM_VOUT\n",
    "SM_VOUT.read_termination = '\\n'            # Set the read termination character to a newline for SM_VOUT, similar to SM_VIN\n",
    "SM_VOUT.write_termination = '\\n'           # Set the write termination character to a newline for SM_VOUT, similar to SM_VIN\n",
    "SM_VOUT.baud_rate = 9600                   # Set the baud rate for SM_VOUT to 9600, ensuring both instruments communicate at the same speed\n",
    "print(SM_VOUT)                             # Print the resource object (SM_VOUT) to display its properties\n",
    "print(SM_VOUT.query('*IDN?'))              # Send the '*IDN?' command to the SM_VOUT instrument and print its response, identifying the instrument\n",
    "\n",
    "#Establishing Connection for VOUT multimeter\n",
    "MM_VOUT = rm.open_resource('USB0::10893::257::MY57508183::0::INSTR')\n",
    "MM_VOUT.read_termination = '\\n'             # Set the read termination character to a newline. This tells pyvisa when to consider a message as complete when reading from the instrument.\n",
    "MM_VOUT.write_termination = '\\n'\n",
    "MM_VOUT.baud_rate = 9600\n",
    "print(MM_VOUT)                             # Print the resource object (SM_VOUT) to display its properties\n",
    "print(MM_VOUT.query('*IDN?'))\n",
    "\n",
    "VIN_MAX=33\n",
    "VIN_STEP=1\n",
    "VIN_MIN=9\n",
    "ILMAX=-.01\n",
    "VIN=[]\n",
    "IQ=[]\n",
    "VOUT=[]"
   ]
  },
  {
   "cell_type": "code",
   "execution_count": null,
   "metadata": {},
   "outputs": [],
   "source": [
    "#<b> Initialize Source Meter (VIN) </b>"
   ]
  },
  {
   "cell_type": "code",
   "execution_count": null,
   "metadata": {},
   "outputs": [
    {
     "name": "stdout",
     "output_type": "stream",
     "text": [
      "\"CURR:DC\"\n"
     ]
    },
    {
     "data": {
      "text/plain": [
       "12"
      ]
     },
     "execution_count": 3,
     "metadata": {},
     "output_type": "execute_result"
    }
   ],
   "source": [
    "SM_VIN.write(\":CONF:CURR\")                  # Configure the SMU to measure current\n",
    "print(SM_VIN.query(\":CONF?\"))               # Query and print the current configuration of the SMU\n",
    "SM_VIN.write(\"SENS:CURR:PROT:LEV 0.0105\")   # Set the current protection level (compliance) to 10.5 mA. This limits the maximum current to protect the device under test.\n",
    "SM_VIN.write(\"SENS:CURR:RANG 1E-2\")         # Set the current measurement range to 10 mA. This sets the expected maximum current for accurate measurement.\n",
    "SM_VIN.write(\"CURR:NPLC 10\")                # Set the number of power line cycles (NPLC) for the current measurement to 10. \n",
    "                                            # This controls the integration time, with higher values leading to more accurate but slower measurements.\n",
    "SM_VIN.write(\"OUTP:STAT 0\")                 # Turn off the VIN source meter"
   ]
  },
  {
   "cell_type": "code",
   "execution_count": null,
   "metadata": {},
   "outputs": [],
   "source": [
    "#Initialize Source Meter (Source/Sink)"
   ]
  },
  {
   "cell_type": "code",
   "execution_count": null,
   "metadata": {},
   "outputs": [
    {
     "name": "stdout",
     "output_type": "stream",
     "text": [
      "-2.985000E-03,-5.366790E-04,+9.910000E+37,+1.150531E+04,+2.150800E+04\n"
     ]
    },
    {
     "data": {
      "text/plain": [
       "12"
      ]
     },
     "execution_count": 53,
     "metadata": {},
     "output_type": "execute_result"
    }
   ],
   "source": [
    "SM_VOUT.write(\":SOUR:FUNC CURR\")             #Configure \n",
    "SM_VOUT.write(\"SOUR:CURR:RANG 0.0105\") \n",
    "SM_VOUT.write(\":CONF:VOLT\")                  # Configure the SMU to measure voltage\n",
    "print(SM_VOUT.query(\":CONF?\"))               # Query and print the current configuration of the SMU\n",
    "\n",
    "SM_VOUT.write(\"SENS:VOLT:PROT:LEV 2.5\")      # Set the voltage protection level (compliance) to 2.5 V. This limits the maximum voltage to protect the device under test.\n",
    "SM_VOUT.write(\"SENS:VOLT:RANG 2.5\")          # Set the voltage measurement range to 10 V. This sets the expected maximum voltage for accurate measurement.\n",
    "SM_VOUT.write(\"VOLT:NPLC 10\")                # Set the number of power line cycles (NPLC) for the current measurement to 10. \n",
    "                                             # This controls the integration time, with higher values leading to more accurate but slower measurements.\n",
    "SM_VOUT.write(\"OUTP:STAT 0\")                 # Turn off the VIN source meter"
   ]
  },
  {
   "cell_type": "code",
   "execution_count": null,
   "metadata": {},
   "outputs": [],
   "source": [
    "#Initialize Multi Meter "
   ]
  },
  {
   "cell_type": "code",
   "execution_count": 5,
   "metadata": {},
   "outputs": [
    {
     "name": "stdout",
     "output_type": "stream",
     "text": [
      "\"VOLT +1.00000000E+01,+1.00000000E-06\"\n"
     ]
    }
   ],
   "source": [
    "MM_VOUT.write(\":CONF:VOLT:DC\")\n",
    "print(MM_VOUT.query(\":CONF?\"))"
   ]
  },
  {
   "cell_type": "code",
   "execution_count": null,
   "metadata": {
    "scrolled": true
   },
   "outputs": [],
   "source": [
    "#<b> Enter the Device under Test </b>"
   ]
  },
  {
   "cell_type": "code",
   "execution_count": 6,
   "metadata": {},
   "outputs": [],
   "source": [
    "directory_name = input(\"Enter the Device under Test (DUT):\")  # Prompt the user to input the temperature of the experiment, which will be used as the directory name\n",
    "DUT=\"DUT_\"+str(directory_name)\n",
    "os.makedirs(DUT, exist_ok=True)                          # Create a directory with the given name. If the directory already exists, it won't raise an error due to exist_ok=True"
   ]
  },
  {
   "cell_type": "code",
   "execution_count": null,
   "metadata": {
    "scrolled": true
   },
   "outputs": [],
   "source": [
    "#<b> Enter the Experiment Temperature </b>"
   ]
  },
  {
   "cell_type": "code",
   "execution_count": 7,
   "metadata": {},
   "outputs": [],
   "source": [
    "sub_directory_name = input(\"Enter the temperaure of this experiment:\")  # Prompt the user to input the temperature of the experiment, which will be used as the directory name\n",
    "local=str(DUT)+\"/TEMP_\"+str(sub_directory_name)\n",
    "os.makedirs(local, exist_ok=True)                          # Create a directory with the given name. If the directory already exists, it won't raise an error due to exist_ok=True"
   ]
  },
  {
   "cell_type": "code",
   "execution_count": null,
   "metadata": {},
   "outputs": [],
   "source": [
    "#<b> VIN Sweep </b>"
   ]
  },
  {
   "cell_type": "code",
   "execution_count": 8,
   "metadata": {},
   "outputs": [],
   "source": [
    "VREF = input(\"Enter the reference voltage of this experiment:\")  # Prompt the user to input the reference voltage of the experiment, which will be used to name the .csv file."
   ]
  },
  {
   "cell_type": "code",
   "execution_count": null,
   "metadata": {},
   "outputs": [],
   "source": []
  },
  {
   "cell_type": "code",
   "execution_count": 54,
   "metadata": {},
   "outputs": [
    {
     "ename": "KeyboardInterrupt",
     "evalue": "",
     "output_type": "error",
     "traceback": [
      "\u001b[1;31m---------------------------------------------------------------------------\u001b[0m",
      "\u001b[1;31mKeyboardInterrupt\u001b[0m                         Traceback (most recent call last)",
      "Cell \u001b[1;32mIn[54], line 44\u001b[0m\n\u001b[0;32m     42\u001b[0m     acc \u001b[38;5;241m=\u001b[39m \u001b[38;5;241m.05\u001b[39m\n\u001b[0;32m     43\u001b[0m \u001b[38;5;28;01melse\u001b[39;00m: acc \u001b[38;5;241m=\u001b[39m \u001b[38;5;241m.01\u001b[39m\n\u001b[1;32m---> 44\u001b[0m \u001b[38;5;28;01mwhile\u001b[39;00m \u001b[38;5;28mabs\u001b[39m(ILMAX \u001b[38;5;241m-\u001b[39m \u001b[38;5;28mfloat\u001b[39m(VOUTdata[\u001b[38;5;241m1\u001b[39m])) \u001b[38;5;241m>\u001b[39m \u001b[38;5;28mabs\u001b[39m(ILMAX) \u001b[38;5;241m*\u001b[39m acc:\n\u001b[0;32m     45\u001b[0m     \u001b[38;5;66;03m#TODO: Need to find step resolution \u001b[39;00m\n\u001b[0;32m     46\u001b[0m     \u001b[38;5;66;03m#Switch RBIASfix with RBIAS\u001b[39;00m\n\u001b[0;32m     47\u001b[0m     step \u001b[38;5;241m=\u001b[39m VLguess\u001b[38;5;241m/\u001b[39m\u001b[38;5;241m5000\u001b[39m\n\u001b[0;32m     48\u001b[0m     \u001b[38;5;28;01mif\u001b[39;00m \u001b[38;5;28mfloat\u001b[39m(VOUTdata[\u001b[38;5;241m1\u001b[39m]) \u001b[38;5;241m>\u001b[39m ILMAX:          \u001b[38;5;66;03m#sweep down\u001b[39;00m\n",
      "Cell \u001b[1;32mIn[54], line 44\u001b[0m\n\u001b[0;32m     42\u001b[0m     acc \u001b[38;5;241m=\u001b[39m \u001b[38;5;241m.05\u001b[39m\n\u001b[0;32m     43\u001b[0m \u001b[38;5;28;01melse\u001b[39;00m: acc \u001b[38;5;241m=\u001b[39m \u001b[38;5;241m.01\u001b[39m\n\u001b[1;32m---> 44\u001b[0m \u001b[38;5;28;01mwhile\u001b[39;00m \u001b[38;5;28mabs\u001b[39m(ILMAX \u001b[38;5;241m-\u001b[39m \u001b[38;5;28mfloat\u001b[39m(VOUTdata[\u001b[38;5;241m1\u001b[39m])) \u001b[38;5;241m>\u001b[39m \u001b[38;5;28mabs\u001b[39m(ILMAX) \u001b[38;5;241m*\u001b[39m acc:\n\u001b[0;32m     45\u001b[0m     \u001b[38;5;66;03m#TODO: Need to find step resolution \u001b[39;00m\n\u001b[0;32m     46\u001b[0m     \u001b[38;5;66;03m#Switch RBIASfix with RBIAS\u001b[39;00m\n\u001b[0;32m     47\u001b[0m     step \u001b[38;5;241m=\u001b[39m VLguess\u001b[38;5;241m/\u001b[39m\u001b[38;5;241m5000\u001b[39m\n\u001b[0;32m     48\u001b[0m     \u001b[38;5;28;01mif\u001b[39;00m \u001b[38;5;28mfloat\u001b[39m(VOUTdata[\u001b[38;5;241m1\u001b[39m]) \u001b[38;5;241m>\u001b[39m ILMAX:          \u001b[38;5;66;03m#sweep down\u001b[39;00m\n",
      "File \u001b[1;32m_pydevd_bundle/pydevd_cython.pyx:1457\u001b[0m, in \u001b[0;36m_pydevd_bundle.pydevd_cython.SafeCallWrapper.__call__\u001b[1;34m()\u001b[0m\n",
      "File \u001b[1;32m_pydevd_bundle/pydevd_cython.pyx:701\u001b[0m, in \u001b[0;36m_pydevd_bundle.pydevd_cython.PyDBFrame.trace_dispatch\u001b[1;34m()\u001b[0m\n",
      "File \u001b[1;32m_pydevd_bundle/pydevd_cython.pyx:1152\u001b[0m, in \u001b[0;36m_pydevd_bundle.pydevd_cython.PyDBFrame.trace_dispatch\u001b[1;34m()\u001b[0m\n",
      "File \u001b[1;32m_pydevd_bundle/pydevd_cython.pyx:1135\u001b[0m, in \u001b[0;36m_pydevd_bundle.pydevd_cython.PyDBFrame.trace_dispatch\u001b[1;34m()\u001b[0m\n",
      "File \u001b[1;32m_pydevd_bundle/pydevd_cython.pyx:312\u001b[0m, in \u001b[0;36m_pydevd_bundle.pydevd_cython.PyDBFrame.do_wait_suspend\u001b[1;34m()\u001b[0m\n",
      "File \u001b[1;32mc:\\ProgramData\\anaconda3\\Lib\\site-packages\\debugpy\\_vendored\\pydevd\\pydevd.py:2070\u001b[0m, in \u001b[0;36mPyDB.do_wait_suspend\u001b[1;34m(self, thread, frame, event, arg, exception_type)\u001b[0m\n\u001b[0;32m   2067\u001b[0m             from_this_thread\u001b[38;5;241m.\u001b[39mappend(frame_custom_thread_id)\n\u001b[0;32m   2069\u001b[0m     \u001b[38;5;28;01mwith\u001b[39;00m \u001b[38;5;28mself\u001b[39m\u001b[38;5;241m.\u001b[39m_threads_suspended_single_notification\u001b[38;5;241m.\u001b[39mnotify_thread_suspended(thread_id, thread, stop_reason):\n\u001b[1;32m-> 2070\u001b[0m         keep_suspended \u001b[38;5;241m=\u001b[39m \u001b[38;5;28mself\u001b[39m\u001b[38;5;241m.\u001b[39m_do_wait_suspend(thread, frame, event, arg, suspend_type, from_this_thread, frames_tracker)\n\u001b[0;32m   2072\u001b[0m frames_list \u001b[38;5;241m=\u001b[39m \u001b[38;5;28;01mNone\u001b[39;00m\n\u001b[0;32m   2074\u001b[0m \u001b[38;5;28;01mif\u001b[39;00m keep_suspended:\n\u001b[0;32m   2075\u001b[0m     \u001b[38;5;66;03m# This means that we should pause again after a set next statement.\u001b[39;00m\n",
      "File \u001b[1;32mc:\\ProgramData\\anaconda3\\Lib\\site-packages\\debugpy\\_vendored\\pydevd\\pydevd.py:2106\u001b[0m, in \u001b[0;36mPyDB._do_wait_suspend\u001b[1;34m(self, thread, frame, event, arg, suspend_type, from_this_thread, frames_tracker)\u001b[0m\n\u001b[0;32m   2103\u001b[0m         \u001b[38;5;28mself\u001b[39m\u001b[38;5;241m.\u001b[39m_call_input_hook()\n\u001b[0;32m   2105\u001b[0m     \u001b[38;5;28mself\u001b[39m\u001b[38;5;241m.\u001b[39mprocess_internal_commands()\n\u001b[1;32m-> 2106\u001b[0m     time\u001b[38;5;241m.\u001b[39msleep(\u001b[38;5;241m0.01\u001b[39m)\n\u001b[0;32m   2108\u001b[0m \u001b[38;5;28mself\u001b[39m\u001b[38;5;241m.\u001b[39mcancel_async_evaluation(get_current_thread_id(thread), \u001b[38;5;28mstr\u001b[39m(\u001b[38;5;28mid\u001b[39m(frame)))\n\u001b[0;32m   2110\u001b[0m \u001b[38;5;66;03m# process any stepping instructions\u001b[39;00m\n",
      "\u001b[1;31mKeyboardInterrupt\u001b[0m: "
     ]
    }
   ],
   "source": [
    "# Makes list of load currents to test\n",
    "ILlist=[]\n",
    "for j in [-.00001, -.0001, -.001]:\n",
    "    for j2 in range(1,10):\n",
    "        ILlist.append(j*j2)\n",
    "\n",
    "SHEET=\"VREF=\"+str(VREF)+\".csv\"                               # Create a CSV file name based on the VREF value\n",
    "VIN=[]                                                       # Initialize an empty list to store VIN values\n",
    "IQ=[]                                                        # Initialize an empty list to store IQ (current) values\n",
    "VOUT=[]                                                      # Initialize an empty list to store VOUT values\n",
    "VOUTcalc=[]\n",
    "IL=[]\n",
    "VOUTSM=[]\n",
    "RBIASfix = 1500         #TODO: Calculate RBIAS?\n",
    "ILMAX = ILlist[0]\n",
    "VL = float(VREF) + RBIASfix * ILMAX                         # Initial estimate for VL, should speed up test TODO: REMOVE?\n",
    "VLOAD=\"SOUR:VOLT:LEV:IMM:AMPL \" + str(VL)\n",
    "SM_VOUT.write(VLOAD)                                         # Set the voltage level on the VOUT bias source meter\n",
    "SM_VIN.write(\"SOUR:VOLT:LEV:IMM:AMPL 3.3\")                  \n",
    "SM_VIN.write(\"OUTP:STAT 1\")                                  # Turn on the VIN source meter output\n",
    "time.sleep(.5)\n",
    "SM_VOUT.write(\":SOUR:VOLT:MODE FIX\")\n",
    "SM_VOUT.write(\"OUTP:STAT 1\")                                 # Turn on the VOUT source meter output\n",
    "SM_VIN.query(\":MEAS:CURR?\") #TODO: still necessary? could replace with INIT or CONF?\n",
    "time.sleep(1)\n",
    "\n",
    "#TODO: Change order of test cases to be the most useful\n",
    "\n",
    "##################### FIRST: Sweep of IL for VIN = 3.3V #####################\n",
    "for ILMAX in ILlist:\n",
    "    # Set the source meter voltage\n",
    "    VLguess = float(VREF) + RBIASfix * ILMAX                         # Initial estimate for VL, should speed up test\n",
    "    VL = VLguess\n",
    "    VLOAD=\"SOUR:VOLT:LEV:IMM:AMPL \" + str(VL)\n",
    "    SM_VOUT.write(VLOAD)\n",
    "    time.sleep(.5)          # Wait time before measurement is taken\n",
    "\n",
    "    # Measure ILOAD and modify VOUT to achieve ILOAD = ILMAX\n",
    "    VOUTdata = SM_VOUT.query(\":MEAS:CURR?\").split(',')\n",
    "    VOUTvolt = MM_VOUT.query(\":MEAS:VOLT?\")\n",
    "    if abs(ILMAX) < .0001:\n",
    "        acc = .05\n",
    "    else: acc = .01\n",
    "    while abs(ILMAX - float(VOUTdata[1])) > abs(ILMAX) * acc:\n",
    "        #TODO: Need to find step resolution \n",
    "        #Switch RBIASfix with RBIAS\n",
    "        step = VLguess/5000\n",
    "        if float(VOUTdata[1]) > ILMAX:          #sweep down\n",
    "            start = float(VOUTdata[0])\n",
    "            step = -step\n",
    "            stop = start + 20*step\n",
    "        if float(VOUTdata[1]) < ILMAX:          #sweep up\n",
    "            start = float(VOUTdata[0])\n",
    "            step = step\n",
    "            stop = start + 20*step\n",
    "        #SM_VOUT.write(\":SENS:FUNC:CONC OFF\")\n",
    "        SM_VOUT.write(\":SOUR:VOLT:START \" + str(start))\n",
    "        SM_VOUT.write(\":SOUR:VOLT:STOP \" + str(stop))\n",
    "        SM_VOUT.write(\":SOUR:VOLT:STEP \" + str(step))\n",
    "        SM_VOUT.write(\":SOUR:VOLT:MODE SWE\")\n",
    "        count = int(abs((start-stop)/step))\n",
    "        SM_VOUT.write(\":TRIG:COUN \" + str(count))\n",
    "        SM_VOUT.write(\":SOUR:DEL 0.1\")\n",
    "        SM_VOUT.write(\":INIT\")\n",
    "        time.sleep(count)\n",
    "        SweepData = SM_VOUT.query(\":FETC?\").split(',')\n",
    "        SweepCurrentData =[]\n",
    "        bestDIFF = 1000\n",
    "        foundVOLT = False\n",
    "        for i, ele in enumerate(SweepData):\n",
    "            if i % 5 == 1:\n",
    "                SweepCurrentData.append(float(ele))\n",
    "        for i, ele in enumerate(SweepCurrentData):\n",
    "            if abs(ILMAX - ele) < bestDIFF:\n",
    "                bestDIFF = abs(ILMAX - ele)\n",
    "                bestVOLT = SweepData[i*5]\n",
    "                if abs(ILMAX - ele) > abs(ILMAX) * acc:\n",
    "                    bestVOLT = SweepData[5*len(SweepCurrentData) - 5]\n",
    "        VLOAD=\"SOUR:VOLT:LEV:IMM:AMPL \" + str(bestVOLT)\n",
    "        SM_VOUT.write(\":SOUR:VOLT:MODE FIX\")\n",
    "        SM_VOUT.write(VLOAD)\n",
    "        time.sleep(1)\n",
    "        VOUTdata = SM_VOUT.query(\":MEAS:CURR?\").split(',')\n",
    "        VOUTvolt = MM_VOUT.query(\":MEAS:VOLT?\")\n",
    "        time.sleep(1)\n",
    "    print(VLOAD)\n",
    "    VOUT.append(VOUTvolt)\n",
    "    VOUTcalc.append(VOUTdata[1]*RBIASfix + VOUTdata[0])\n",
    "    VOUTSM.append(VOUTdata[0])\n",
    "    IL.append(VOUTdata[1])                                    \n",
    "    VIN.append(3.3)                                          # Append the current VIN value to the VIN list\n",
    "    IQ.append(SM_VIN.query(\":MEAS:CURR?\").split(',')[1])     # Query and append the measured IQ current\n",
    "    time.sleep(.5)\n",
    "\n",
    "\n",
    "##################### SECOND: Sweep of VIN for IL=10mA #####################\n",
    "ILMAX = -.01\n",
    "\n",
    "VL = float(VREF) + RBIASfix * ILMAX                         # Initial estimate for VL, should speed up test\n",
    "VLOAD=\"SOUR:VOLT:LEV:IMM:AMPL \" + str(VL)\n",
    "SM_VOUT.write(VLOAD)\n",
    "\n",
    "for i in range (VIN_MAX,VIN_MIN,-VIN_STEP):                  # Loop from VIN_MAX to VIN_MIN in steps of VIN_STEP\n",
    "                                                            # This range will decrement VIN from VIN_MAX to VIN_MIN\n",
    "    val = i / 10                                             # Convert the current loop index into a floating-point voltage value\n",
    "    # Set the source meter voltage\n",
    "    VIN_V = \"SOUR:VOLT:LEV:IMM:AMPL \" + str(val)             # Create the command string to set VIN voltage\n",
    "    SM_VIN.write(VIN_V)                                      # Write the command to set the VIN voltage on the source meter\n",
    "    time.sleep(1)                                            # Pause for 1 second to allow the system to stabilize\n",
    "    \n",
    "    # Measure ILOAD and modify VOUT to achieve ILOAD = ILMAX\n",
    "    VOUTdata = SM_VOUT.query(\":MEAS:CURR?\").split(',')\n",
    "    VOUTvolt = MM_VOUT.query(\":MEAS:VOLT?\")\n",
    "    acc = .01\n",
    "    if abs(ILMAX - float(VOUTdata[1])) > abs(ILMAX) * acc and float(VOUTvolt) < float(VREF) - .1:\n",
    "        SM_VOUT.write(\"SOUR:VOLT:LEV:IMM:AMPL \" + str(float(VOUTdata[0]) - .1))\n",
    "        time.sleep(1)\n",
    "        VOUTdata = SM_VOUT.query(\":MEAS:CURR?\").split(',')\n",
    "        VOUTvolt = MM_VOUT.query(\":MEAS:VOLT?\")\n",
    "    while abs(ILMAX - float(VOUTdata[1])) > abs(ILMAX) * acc:\n",
    "        RBIAS = (float(VOUTvolt) - VL) / float(VOUTdata[1])\n",
    "        VL = float(VOUTdata[0]) - (ILMAX - float(VOUTdata[1])) * RBIAS \n",
    "        VLOAD=\"SOUR:VOLT:LEV:IMM:AMPL \" + str(VL)\n",
    "        print(VLOAD)\n",
    "        SM_VOUT.write(VLOAD)\n",
    "        time.sleep(1)\n",
    "        VOUTdata = SM_VOUT.query(\":MEAS:CURR?\").split(',')\n",
    "        VOUTvolt = MM_VOUT.query(\":MEAS:VOLT?\")\n",
    "    VOUT.append(VOUTvolt)\n",
    "    VOUTcalc.append(VOUTdata[1]*RBIASfix + VOUTdata[0])\n",
    "    VOUTSM.append(VOUTdata[0])\n",
    "    IL.append(VOUTdata[1])                                     #TODO: check if this works, else call query instead of VOUTdata variable\n",
    "    VIN.append(val)                                          # Append the current VIN value to the VIN list\n",
    "    IQ.append(SM_VIN.query(\":MEAS:CURR?\").split(',')[1])     # Query and append the measured IQ current\n",
    "\n",
    "    # TODO: ADD Check of RBIAS, maybe calculate RBIAS at the beginning of each new temp\n",
    "\n",
    "# After the loop completes, turn off the source meters\n",
    "SM_VOUT.write(\"OUTP:STAT 0\")                                 # Turn off the VOUT source meter\n",
    "SM_VIN.write(\"OUTP:STAT 0\")                                  # Turn off the VIN source meter\n",
    "\n",
    "# Create a DataFrame with the collected data\n",
    "df = dp.DataFrame({'VIN': VIN, 'IQ': IQ, 'IL': IL, 'VOUT': VOUT, 'VOUTcalc': VOUTcalc, 'VOUTSM': VOUTSM})      # Create a pandas DataFrame from VIN, IQ, and VOUT lists\n",
    "\n",
    "csv_path=os.path.join(local, SHEET)                          # Generate the file path for saving the CSV\n",
    "df.to_csv(csv_path, index=False)                             # Save the DataFrame to a CSV file without including the index"
   ]
  },
  {
   "cell_type": "code",
   "execution_count": 55,
   "metadata": {},
   "outputs": [
    {
     "data": {
      "text/plain": [
       "12"
      ]
     },
     "execution_count": 55,
     "metadata": {},
     "output_type": "execute_result"
    }
   ],
   "source": [
    "SM_VOUT.write(\"OUTP:STAT 0\")                                 # Turn off the VOUT source meter\n",
    "SM_VIN.write(\"OUTP:STAT 0\") "
   ]
  }
 ],
 "metadata": {
  "kernelspec": {
   "display_name": "base",
   "language": "python",
   "name": "python3"
  },
  "language_info": {
   "codemirror_mode": {
    "name": "ipython",
    "version": 3
   },
   "file_extension": ".py",
   "mimetype": "text/x-python",
   "name": "python",
   "nbconvert_exporter": "python",
   "pygments_lexer": "ipython3",
   "version": "3.11.7"
  }
 },
 "nbformat": 4,
 "nbformat_minor": 4
}
