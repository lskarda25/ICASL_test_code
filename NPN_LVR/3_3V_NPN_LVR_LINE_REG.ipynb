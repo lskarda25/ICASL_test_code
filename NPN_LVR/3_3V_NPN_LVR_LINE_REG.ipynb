{
 "cells": [
  {
   "cell_type": "code",
   "execution_count": null,
   "metadata": {
    "scrolled": true
   },
   "outputs": [],
   "source": [
    "<b> Import Library, find available devices </b>"
   ]
  },
  {
   "cell_type": "code",
   "execution_count": 54,
   "metadata": {},
   "outputs": [
    {
     "data": {
      "text/plain": [
       "('ASRL3::INSTR',\n",
       " 'USB0::0x0957::0x0607::MY45002108::0::INSTR',\n",
       " 'USB0::0x0957::0x1796::MY57231548::0::INSTR',\n",
       " 'USB0::0x0957::0x1796::MY57231553::0::INSTR',\n",
       " 'USB0::0x0957::0x17B6::MY56310504::0::INSTR',\n",
       " 'USB0::0x0957::0x2C07::MY57890777::0::INSTR',\n",
       " 'USB0::0x2A8D::0x0101::MY54505624::0::INSTR',\n",
       " 'USB0::0x2A8D::0x0101::MY57508183::0::INSTR',\n",
       " 'ASRL4::INSTR')"
      ]
     },
     "execution_count": 54,
     "metadata": {},
     "output_type": "execute_result"
    }
   ],
   "source": [
    "# Initialization code for 3.3 V SiGe LVR Load Regulation Testing.\n",
    "# This block identifies and initializes the connected SMUs (Source Measure Units).\n",
    "# If running for the first time, ensure the SMU names are correctly referenced in the subsequent code block.\n",
    "\n",
    "# This program sweeps VIN for a fixed VREF and measures total quiescent current (IQ) and VOUT. \n",
    "# This program sets up a directory for all measurements taken at a specific temperature by prompting the user for the temperature.\n",
    "# This program creates a .csv file to save the measurements for a VREF in the temperature directory. \n",
    "\n",
    "# The setup assumes the use of two SMUs:\n",
    "# - One dedicated to VIN sweeps.\n",
    "# - One Sinks a load current and measures VOUT.\n",
    "\n",
    "import pyvisa                    # Importing the pyvisa library for instrument communication\n",
    "import time                      # Importing the time module to handle time-related tasks (e.g., delays)\n",
    "import matplotlib.pyplot as plt  # Importing matplotlib.pyplot for plotting graphs and visualizing data\n",
    "import numpy as np               # Importing numpy for numerical operations, particularly with arrays\n",
    "import pandas as dp              # Importing pandas as dp for data manipulation and analysis\n",
    "import os                        # Importing os to interact with the operating system, such as handling file paths\n",
    "import csv                       # Importing csv to read from and write to CSV files\n",
    "rm = pyvisa.ResourceManager()    # Create a ResourceManager object, which manages communication with instruments\n",
    "rm.list_resources()              # List all available resources (e.g., connected instruments) managed by pyvisa"
   ]
  },
  {
   "cell_type": "code",
   "execution_count": 55,
   "metadata": {},
   "outputs": [
    {
     "name": "stdout",
     "output_type": "stream",
     "text": [
      "SerialInstrument at ASRL3::INSTR\n",
      "\u0000KEITHLEY INSTRUMENTS INC.,MODEL 2400,1033554,C27   Feb  4 2004 14:58:04/A02  /K/H\n",
      "SerialInstrument at ASRL4::INSTR\n",
      "\u0000KEITHLEY INSTRUMENTS INC.,MODEL 2400,0904402,C32   Oct  4 2010 14:20:11/A02  /J/H\n"
     ]
    }
   ],
   "source": [
    "#Establishing Connection for VIN SMU\n",
    "SM_VIN = rm.open_resource('ASRL3::INSTR')  # Open a connection to the instrument with the address 'ASRL3::INSTR' and assign it to SM_VIN\n",
    "SM_VIN.read_termination = '\\n'             # Set the read termination character to a newline. This tells pyvisa when to consider a message as complete when reading from the instrument.\n",
    "SM_VIN.write_termination = '\\n'            # Set the write termination character to a newline. This ensures that each command sent to the instrument is properly terminated.\n",
    "SM_VIN.baud_rate = 9600                    # Set the baud rate for serial communication to 9600. This is the speed at which data is transmitted over the serial connection.\n",
    "print(SM_VIN)                              # Print the resource object (SM_VIN) to display its properties\n",
    "print(SM_VIN.query('*IDN?'))               # Send the '*IDN?' command to the instrument and print its response. This command usually asks the instrument to identify itself (e.g., manufacturer, model number).\n",
    "\n",
    "#Establishing Connection for VOUT SMU\n",
    "SM_VOUT = rm.open_resource('ASRL4::INSTR') # Open a connection to the instrument with the address 'ASRL4::INSTR' and assign it to SM_VOUT\n",
    "SM_VOUT.read_termination = '\\n'            # Set the read termination character to a newline for SM_VOUT, similar to SM_VIN\n",
    "SM_VOUT.write_termination = '\\n'           # Set the write termination character to a newline for SM_VOUT, similar to SM_VIN\n",
    "SM_VOUT.baud_rate = 9600                   # Set the baud rate for SM_VOUT to 9600, ensuring both instruments communicate at the same speed\n",
    "print(SM_VOUT)                             # Print the resource object (SM_VOUT) to display its properties\n",
    "print(SM_VOUT.query('*IDN?'))              # Send the '*IDN?' command to the SM_VOUT instrument and print its response, identifying the instrument\n",
    "\n",
    "VIN_MAX=33\n",
    "VIN_STEP=1\n",
    "VIN_MIN=9\n",
    "ILMAX=-.01\n",
    "VIN=[]\n",
    "IQ=[]\n",
    "VOUT=[]"
   ]
  },
  {
   "cell_type": "code",
   "execution_count": null,
   "metadata": {},
   "outputs": [],
   "source": [
    "<b> Initialize Source Meter (VIN) </b>"
   ]
  },
  {
   "cell_type": "code",
   "execution_count": 80,
   "metadata": {},
   "outputs": [
    {
     "name": "stdout",
     "output_type": "stream",
     "text": [
      "\"CURR:DC\"\n"
     ]
    },
    {
     "data": {
      "text/plain": [
       "12"
      ]
     },
     "execution_count": 80,
     "metadata": {},
     "output_type": "execute_result"
    }
   ],
   "source": [
    "SM_VIN.write(\":CONF:CURR\")                  # Configure the SMU to measure current\n",
    "print(SM_VIN.query(\":CONF?\"))               # Query and print the current configuration of the SMU\n",
    "SM_VIN.write(\"SENS:CURR:PROT:LEV 0.013\")   # Set the current protection level (compliance) to 10.5 mA. This limits the maximum current to protect the device under test.\n",
    "SM_VIN.write(\"SENS:CURR:RANG 1E-2\")         # Set the current measurement range to 100 mA. This sets the expected maximum current for accurate measurement.\n",
    "SM_VIN.write(\"CURR:NPLC 10\")                # Set the number of power line cycles (NPLC) for the current measurement to 10. \n",
    "                                            # This controls the integration time, with higher values leading to more accurate but slower measurements.\n",
    "SM_VIN.write(\"OUTP:STAT 0\")                 # Turn off the VIN source meter"
   ]
  },
  {
   "cell_type": "code",
   "execution_count": 246,
   "metadata": {},
   "outputs": [
    {
     "ename": "SyntaxError",
     "evalue": "invalid syntax (2715934647.py, line 1)",
     "output_type": "error",
     "traceback": [
      "\u001b[1;36m  Cell \u001b[1;32mIn[246], line 1\u001b[1;36m\u001b[0m\n\u001b[1;33m    Initialize Source Meter (Source/Sink)\u001b[0m\n\u001b[1;37m               ^\u001b[0m\n\u001b[1;31mSyntaxError\u001b[0m\u001b[1;31m:\u001b[0m invalid syntax\n"
     ]
    }
   ],
   "source": [
    "Initialize Source Meter (Source/Sink)"
   ]
  },
  {
   "cell_type": "code",
   "execution_count": 79,
   "metadata": {},
   "outputs": [
    {
     "name": "stdout",
     "output_type": "stream",
     "text": [
      "\"VOLT:DC\"\n"
     ]
    },
    {
     "data": {
      "text/plain": [
       "12"
      ]
     },
     "execution_count": 79,
     "metadata": {},
     "output_type": "execute_result"
    }
   ],
   "source": [
    "SM_VOUT.write(\":SOUR:FUNC CURR\")             #Configure \n",
    "SM_VOUT.write(\"SOUR:CURR:RANG 0.0105\") \n",
    "SM_VOUT.write(\":CONF:VOLT\")                  # Configure the SMU to measure current\n",
    "print(SM_VOUT.query(\":CONF?\"))               # Query and print the current configuration of the SMU\n",
    "SM_VOUT.write(\"SENS:VOLT:PROT:LEV 10\")      # Set the voltage protection level (compliance) to 2.5 V. This limits the maximum voltage to protect the device under test.\n",
    "SM_VOUT.write(\"SENS:VOLT:RANG 10\")          # Set the voltage measurement range to 10 V. This sets the expected maximum voltage for accurate measurement.\n",
    "SM_VOUT.write(\"VOLT:NPLC 10\")                # Set the number of power line cycles (NPLC) for the current measurement to 10. \n",
    "                                             # This controls the integration time, with higher values leading to more accurate but slower measurements.\n",
    "SM_VOUT.write(\"OUTP:STAT 0\")                 # Turn off the VIN source meter"
   ]
  },
  {
   "cell_type": "code",
   "execution_count": null,
   "metadata": {
    "scrolled": true
   },
   "outputs": [],
   "source": [
    "<b> Enter the Device under Test </b>"
   ]
  },
  {
   "cell_type": "code",
   "execution_count": 59,
   "metadata": {},
   "outputs": [],
   "source": [
    "directory_name = input(\"Enter the Device under Test (DUT):\")  # Prompt the user to input the temperature of the experiment, which will be used as the directory name\n",
    "DUT=\"DUT_\"+str(directory_name)\n",
    "os.makedirs(DUT, exist_ok=True)                          # Create a directory with the given name. If the directory already exists, it won't raise an error due to exist_ok=True"
   ]
  },
  {
   "cell_type": "code",
   "execution_count": null,
   "metadata": {
    "scrolled": true
   },
   "outputs": [],
   "source": [
    "<b> Enter the Experiment Temperature </b>"
   ]
  },
  {
   "cell_type": "code",
   "execution_count": 86,
   "metadata": {},
   "outputs": [],
   "source": [
    "sub_directory_name = input(\"Enter the temperaure of this experiment:\")  # Prompt the user to input the temperature of the experiment, which will be used as the directory name\n",
    "local=str(DUT)+\"/TEMP_\"+str(sub_directory_name)\n",
    "os.makedirs(local, exist_ok=True)                          # Create a directory with the given name. If the directory already exists, it won't raise an error due to exist_ok=True"
   ]
  },
  {
   "cell_type": "code",
   "execution_count": null,
   "metadata": {},
   "outputs": [],
   "source": [
    "<b> VIN Sweep </b>"
   ]
  },
  {
   "cell_type": "code",
   "execution_count": 61,
   "metadata": {},
   "outputs": [],
   "source": [
    "VREF = input(\"Enter the reference voltage of this experiment:\")  # Prompt the user to input the reference voltage of the experiment, which will be used to name the .csv file."
   ]
  },
  {
   "cell_type": "code",
   "execution_count": null,
   "metadata": {},
   "outputs": [
    {
     "name": "stdout",
     "output_type": "stream",
     "text": [
      "SOUR:CURR:LEV:IMM:AMPL -0.01\n",
      "SOUR:CURR:LEV:IMM:AMPL -0.005\n"
     ]
    },
    {
     "ename": "KeyboardInterrupt",
     "evalue": "",
     "output_type": "error",
     "traceback": [
      "\u001b[1;31m---------------------------------------------------------------------------\u001b[0m",
      "\u001b[1;31mKeyboardInterrupt\u001b[0m                         Traceback (most recent call last)",
      "Cell \u001b[1;32mIn[84], line 26\u001b[0m\n\u001b[0;32m     24\u001b[0m time\u001b[38;5;241m.\u001b[39msleep(\u001b[38;5;241m2\u001b[39m)                                            \u001b[38;5;66;03m# Pause for 1 second to allow the system to stabilize\u001b[39;00m\n\u001b[0;32m     25\u001b[0m \u001b[38;5;66;03m# Measure VOUT and append to the VOUT list\u001b[39;00m\n\u001b[1;32m---> 26\u001b[0m VOUT\u001b[38;5;241m.\u001b[39mappend(SM_VOUT\u001b[38;5;241m.\u001b[39mquery(\u001b[38;5;124m\"\u001b[39m\u001b[38;5;124m:MEAS:VOLT?\u001b[39m\u001b[38;5;124m\"\u001b[39m)\u001b[38;5;241m.\u001b[39msplit(\u001b[38;5;124m'\u001b[39m\u001b[38;5;124m,\u001b[39m\u001b[38;5;124m'\u001b[39m)[\u001b[38;5;241m0\u001b[39m])  \u001b[38;5;66;03m# Query and append the measured VOUT voltage\u001b[39;00m\n\u001b[0;32m     28\u001b[0m VIN\u001b[38;5;241m.\u001b[39mappend(val)                                          \u001b[38;5;66;03m# Append the current VIN value to the VIN list\u001b[39;00m\n\u001b[0;32m     30\u001b[0m \u001b[38;5;66;03m# Measure IQ (current) and append to the IQ list\u001b[39;00m\n",
      "File \u001b[1;32mc:\\ProgramData\\anaconda3\\Lib\\site-packages\\pyvisa\\resources\\messagebased.py:647\u001b[0m, in \u001b[0;36mMessageBasedResource.query\u001b[1;34m(self, message, delay)\u001b[0m\n\u001b[0;32m    644\u001b[0m \u001b[38;5;28;01mif\u001b[39;00m delay \u001b[38;5;241m>\u001b[39m \u001b[38;5;241m0.0\u001b[39m:\n\u001b[0;32m    645\u001b[0m     time\u001b[38;5;241m.\u001b[39msleep(delay)\n\u001b[1;32m--> 647\u001b[0m \u001b[38;5;28;01mreturn\u001b[39;00m \u001b[38;5;28mself\u001b[39m\u001b[38;5;241m.\u001b[39mread()\n",
      "File \u001b[1;32mc:\\ProgramData\\anaconda3\\Lib\\site-packages\\pyvisa\\resources\\messagebased.py:485\u001b[0m, in \u001b[0;36mMessageBasedResource.read\u001b[1;34m(self, termination, encoding)\u001b[0m\n\u001b[0;32m    483\u001b[0m \u001b[38;5;28;01mif\u001b[39;00m termination \u001b[38;5;129;01mis\u001b[39;00m \u001b[38;5;28;01mNone\u001b[39;00m:\n\u001b[0;32m    484\u001b[0m     termination \u001b[38;5;241m=\u001b[39m \u001b[38;5;28mself\u001b[39m\u001b[38;5;241m.\u001b[39m_read_termination\n\u001b[1;32m--> 485\u001b[0m     message \u001b[38;5;241m=\u001b[39m \u001b[38;5;28mself\u001b[39m\u001b[38;5;241m.\u001b[39m_read_raw()\u001b[38;5;241m.\u001b[39mdecode(enco)\n\u001b[0;32m    486\u001b[0m \u001b[38;5;28;01melse\u001b[39;00m:\n\u001b[0;32m    487\u001b[0m     \u001b[38;5;28;01mwith\u001b[39;00m \u001b[38;5;28mself\u001b[39m\u001b[38;5;241m.\u001b[39mread_termination_context(termination):\n",
      "File \u001b[1;32mc:\\ProgramData\\anaconda3\\Lib\\site-packages\\pyvisa\\resources\\messagebased.py:441\u001b[0m, in \u001b[0;36mMessageBasedResource._read_raw\u001b[1;34m(self, size)\u001b[0m\n\u001b[0;32m    434\u001b[0m     \u001b[38;5;28;01mwhile\u001b[39;00m status \u001b[38;5;241m==\u001b[39m loop_status:\n\u001b[0;32m    435\u001b[0m         logger\u001b[38;5;241m.\u001b[39mdebug(\n\u001b[0;32m    436\u001b[0m             \u001b[38;5;124m\"\u001b[39m\u001b[38;5;132;01m%s\u001b[39;00m\u001b[38;5;124m - reading \u001b[39m\u001b[38;5;132;01m%d\u001b[39;00m\u001b[38;5;124m bytes (last status \u001b[39m\u001b[38;5;132;01m%r\u001b[39;00m\u001b[38;5;124m)\u001b[39m\u001b[38;5;124m\"\u001b[39m,\n\u001b[0;32m    437\u001b[0m             \u001b[38;5;28mself\u001b[39m\u001b[38;5;241m.\u001b[39m_resource_name,\n\u001b[0;32m    438\u001b[0m             size,\n\u001b[0;32m    439\u001b[0m             status,\n\u001b[0;32m    440\u001b[0m         )\n\u001b[1;32m--> 441\u001b[0m         chunk, status \u001b[38;5;241m=\u001b[39m \u001b[38;5;28mself\u001b[39m\u001b[38;5;241m.\u001b[39mvisalib\u001b[38;5;241m.\u001b[39mread(\u001b[38;5;28mself\u001b[39m\u001b[38;5;241m.\u001b[39msession, size)\n\u001b[0;32m    442\u001b[0m         ret\u001b[38;5;241m.\u001b[39mextend(chunk)\n\u001b[0;32m    443\u001b[0m \u001b[38;5;28;01mexcept\u001b[39;00m errors\u001b[38;5;241m.\u001b[39mVisaIOError \u001b[38;5;28;01mas\u001b[39;00m e:\n",
      "File \u001b[1;32mc:\\ProgramData\\anaconda3\\Lib\\site-packages\\pyvisa\\ctwrapper\\functions.py:2336\u001b[0m, in \u001b[0;36mread\u001b[1;34m(library, session, count)\u001b[0m\n\u001b[0;32m   2334\u001b[0m buffer \u001b[38;5;241m=\u001b[39m create_string_buffer(count)\n\u001b[0;32m   2335\u001b[0m return_count \u001b[38;5;241m=\u001b[39m ViUInt32()\n\u001b[1;32m-> 2336\u001b[0m ret \u001b[38;5;241m=\u001b[39m library\u001b[38;5;241m.\u001b[39mviRead(session, buffer, count, byref(return_count))\n\u001b[0;32m   2337\u001b[0m \u001b[38;5;28;01mreturn\u001b[39;00m buffer\u001b[38;5;241m.\u001b[39mraw[: return_count\u001b[38;5;241m.\u001b[39mvalue], ret\n",
      "File \u001b[1;32mc:\\ProgramData\\anaconda3\\Lib\\site-packages\\pyvisa\\ctwrapper\\highlevel.py:184\u001b[0m, in \u001b[0;36mIVIVisaLibrary._return_handler\u001b[1;34m(self, ret_value, func, arguments)\u001b[0m\n\u001b[0;32m    181\u001b[0m     \u001b[38;5;28;01mfor\u001b[39;00m method_name \u001b[38;5;129;01min\u001b[39;00m \u001b[38;5;28mgetattr\u001b[39m(\u001b[38;5;28mself\u001b[39m\u001b[38;5;241m.\u001b[39mlib, \u001b[38;5;124m\"\u001b[39m\u001b[38;5;124m_functions\u001b[39m\u001b[38;5;124m\"\u001b[39m, []):\n\u001b[0;32m    182\u001b[0m         \u001b[38;5;28msetattr\u001b[39m(\u001b[38;5;28mself\u001b[39m, method_name, \u001b[38;5;28mgetattr\u001b[39m(\u001b[38;5;28mself\u001b[39m\u001b[38;5;241m.\u001b[39mlib, method_name))\n\u001b[1;32m--> 184\u001b[0m \u001b[38;5;28;01mdef\u001b[39;00m \u001b[38;5;21m_return_handler\u001b[39m(\u001b[38;5;28mself\u001b[39m, ret_value: \u001b[38;5;28mint\u001b[39m, func: Callable, arguments: \u001b[38;5;28mtuple\u001b[39m) \u001b[38;5;241m-\u001b[39m\u001b[38;5;241m>\u001b[39m Any:\n\u001b[0;32m    185\u001b[0m \u001b[38;5;250m    \u001b[39m\u001b[38;5;124;03m\"\"\"Check return values for errors and warnings.\"\"\"\u001b[39;00m\n\u001b[0;32m    186\u001b[0m     logger\u001b[38;5;241m.\u001b[39mdebug(\n\u001b[0;32m    187\u001b[0m         \u001b[38;5;124m\"\u001b[39m\u001b[38;5;132;01m%s\u001b[39;00m\u001b[38;5;132;01m%s\u001b[39;00m\u001b[38;5;124m -> \u001b[39m\u001b[38;5;132;01m%r\u001b[39;00m\u001b[38;5;124m\"\u001b[39m,\n\u001b[0;32m    188\u001b[0m         func\u001b[38;5;241m.\u001b[39m\u001b[38;5;18m__name__\u001b[39m,\n\u001b[1;32m   (...)\u001b[0m\n\u001b[0;32m    191\u001b[0m         extra\u001b[38;5;241m=\u001b[39m\u001b[38;5;28mself\u001b[39m\u001b[38;5;241m.\u001b[39m_logging_extra,\n\u001b[0;32m    192\u001b[0m     )\n",
      "\u001b[1;31mKeyboardInterrupt\u001b[0m: "
     ]
    }
   ],
   "source": [
    "l1 = [-0.01, -0.005, -0.000001]                                            # Load currents to test\n",
    "for ILMAX in l1:\n",
    "    SM_VIN.write(\"SENS:CURR:RANG \" + str(-ILMAX)) \n",
    "    SHEET=\"VREF=\"+str(VREF)+\"_IL=\"+str(ILMAX)+\".csv\"                               # Create a CSV file name based on the VREF value\n",
    "    VIN=[]                                                       # Initialize an empty list to store VIN values\n",
    "    IQ=[]                                                        # Initialize an empty list to store IQ (current) values\n",
    "    VOUT=[]                                                      # Initialize an empty list to store VOUT values\n",
    "    ILOAD=\"SOUR:CURR:LEV:IMM:AMPL \" + str(ILMAX)                 # Create a string command to set the current level to ILOAD\n",
    "    print(ILOAD)                                                 # Print the ILOAD command for verification\n",
    "    SM_VOUT.write(ILOAD)                                         # Set the current level on the VOUT source meter\n",
    "    SM_VIN.write(\"SOUR:VOLT:LEV:IMM:AMPL 5\")\n",
    "    SM_VIN.write(\"OUTP:STAT 1\")                                  # Turn on the VIN source meter output\n",
    "    time.sleep(1)\n",
    "    SM_VOUT.write(\"OUTP:STAT 1\")                                 # Turn on the VOUT source meter output\n",
    "    #SM_VOUT.write(ILOAD)                                         # Set the current level on the VOUT source meter\n",
    "    time.sleep(1)\n",
    "    \n",
    "    for i in range (50,15,-VIN_STEP):                  # Loop from VIN_MAX to VIN_MIN in steps of VIN_STEP\n",
    "                                                                 # This range will decrement VIN from VIN_MAX to VIN_MIN\n",
    "        val = i / 10                                             # Convert the current loop index into a floating-point voltage value\n",
    "        \n",
    "        # Set the source meter voltage\n",
    "        VIN_V = \"SOUR:VOLT:LEV:IMM:AMPL \" + str(val)             # Create the command string to set VIN voltage\n",
    "        SM_VIN.write(VIN_V)                                      # Write the command to set the VIN voltage on the source meter\n",
    "        time.sleep(2)                                            # Pause for 1 second to allow the system to stabilize\n",
    "        # Measure VOUT and append to the VOUT list\n",
    "        VOUT.append(SM_VOUT.query(\":MEAS:VOLT?\").split(',')[0])  # Query and append the measured VOUT voltage\n",
    "    \n",
    "        VIN.append(val)                                          # Append the current VIN value to the VIN list\n",
    "    \n",
    "        # Measure IQ (current) and append to the IQ list\n",
    "        IQ.append(SM_VIN.query(\":MEAS:CURR?\").split(',')[1])     # Query and append the measured IQ current\n",
    "    \n",
    "    # After the loop completes, turn off the source meters\n",
    "    #SM_VOUT.write(\"OUTP:STAT 0\")                                 # Turn off the VOUT source meter\n",
    "    #SM_VIN.write(\"OUTP:STAT 0\")                                  # Turn off the VIN source meter\n",
    "    \n",
    "    # Create a DataFrame with the collected data\n",
    "    df = dp.DataFrame({'VIN': VIN, 'IQ': IQ, 'VOUT': VOUT})      # Create a pandas DataFrame from VIN, IQ, and VOUT lists\n",
    "    \n",
    "    csv_path=os.path.join(local, SHEET)                          # Generate the file path for saving the CSV\n",
    "    df.to_csv(csv_path, index=False)                             # Save the DataFrame to a CSV file without including the index\n",
    "    time.sleep(1)\n",
    "SM_VOUT.write(\"OUTP:STAT 0\")                                 # Turn off the VOUT source meter\n",
    "SM_VIN.write(\"OUTP:STAT 0\")                                  # Turn off the VIN source meter"
   ]
  },
  {
   "cell_type": "code",
   "execution_count": 85,
   "metadata": {},
   "outputs": [
    {
     "data": {
      "text/plain": [
       "12"
      ]
     },
     "execution_count": 85,
     "metadata": {},
     "output_type": "execute_result"
    }
   ],
   "source": [
    "SM_VOUT.write(\"OUTP:STAT 0\")                                 # Turn off the VOUT source meter\n",
    "SM_VIN.write(\"OUTP:STAT 0\") "
   ]
  }
 ],
 "metadata": {
  "kernelspec": {
   "display_name": "base",
   "language": "python",
   "name": "python3"
  },
  "language_info": {
   "codemirror_mode": {
    "name": "ipython",
    "version": 3
   },
   "file_extension": ".py",
   "mimetype": "text/x-python",
   "name": "python",
   "nbconvert_exporter": "python",
   "pygments_lexer": "ipython3",
   "version": "3.11.7"
  }
 },
 "nbformat": 4,
 "nbformat_minor": 4
}
