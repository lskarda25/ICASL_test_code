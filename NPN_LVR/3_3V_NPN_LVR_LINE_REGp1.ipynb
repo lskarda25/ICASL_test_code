{
 "cells": [
  {
   "cell_type": "code",
   "execution_count": 18,
   "metadata": {
    "scrolled": true
   },
   "outputs": [
    {
     "ename": "SyntaxError",
     "evalue": "invalid syntax (261751092.py, line 1)",
     "output_type": "error",
     "traceback": [
      "\u001b[1;36m  Cell \u001b[1;32mIn[18], line 1\u001b[1;36m\u001b[0m\n\u001b[1;33m    <b> Import Library, find available devices </b>\u001b[0m\n\u001b[1;37m    ^\u001b[0m\n\u001b[1;31mSyntaxError\u001b[0m\u001b[1;31m:\u001b[0m invalid syntax\n"
     ]
    }
   ],
   "source": [
    "<b> Import Library, find available devices </b>"
   ]
  },
  {
   "cell_type": "code",
   "execution_count": null,
   "metadata": {},
   "outputs": [
    {
     "data": {
      "text/plain": [
       "('USB0::0x2A8D::0x0101::MY57508183::INSTR',\n",
       " 'ASRL3::INSTR',\n",
       " 'ASRL4::INSTR',\n",
       " 'USB0::0x0957::0x0607::MY45002108::0::INSTR',\n",
       " 'USB0::0x0957::0x1796::MY57231548::0::INSTR',\n",
       " 'USB0::0x0957::0x1796::MY57231553::0::INSTR',\n",
       " 'USB0::0x0957::0x17B6::MY56310504::0::INSTR',\n",
       " 'USB0::0x0957::0x2C07::MY57890777::0::INSTR',\n",
       " 'USB0::0x2A8D::0x0101::MY54505624::0::INSTR')"
      ]
     },
     "execution_count": 2,
     "metadata": {},
     "output_type": "execute_result"
    }
   ],
   "source": [
    "# Initialization code for 3.3 V SiGe LVR Load Regulation Testing.\n",
    "# This block identifies and initializes the connected SMUs (Source Measure Units).\n",
    "# If running for the first time, ensure the SMU names are correctly referenced in the subsequent code block.\n",
    "\n",
    "# This program sweeps VIN for a fixed VREF and measures total quiescent current (IQ) and VOUT. \n",
    "# This program sets up a directory for all measurements taken at a specific temperature by prompting the user for the temperature.\n",
    "# This program creates a .csv file to save the measurements for a VREF in the temperature directory. \n",
    "\n",
    "# The setup assumes the use of two SMUs:\n",
    "# - One dedicated to VIN sweeps.\n",
    "# - One Sinks a load current and measures VOUT.\n",
    "\n",
    "import pyvisa                    # Importing the pyvisa library for instrument communication\n",
    "import time                      # Importing the time module to handle time-related tasks (e.g., delays)\n",
    "import matplotlib.pyplot as plt  # Importing matplotlib.pyplot for plotting graphs and visualizing data\n",
    "import numpy as np               # Importing numpy for numerical operations, particularly with arrays\n",
    "import pandas as dp              # Importing pandas as dp for data manipulation and analysis\n",
    "import os                        # Importing os to interact with the operating system, such as handling file paths\n",
    "import csv                       # Importing csv to read from and write to CSV files\n",
    "rm = pyvisa.ResourceManager()    # Create a ResourceManager object, which manages communication with instruments\n",
    "rm.list_resources()              # List all available resources (e.g., connected instruments) managed by pyvisa"
   ]
  },
  {
   "cell_type": "code",
   "execution_count": null,
   "metadata": {},
   "outputs": [
    {
     "name": "stdout",
     "output_type": "stream",
     "text": [
      "SerialInstrument at ASRL3::INSTR\n",
      "KEITHLEY INSTRUMENTS INC.,MODEL 2400,1033554,C27   Feb  4 2004 14:58:04/A02  /K/H\n",
      "SerialInstrument at ASRL4::INSTR\n",
      "KEITHLEY INSTRUMENTS INC.,MODEL 2400,0904402,C32   Oct  4 2010 14:20:11/A02  /J/H\n"
     ]
    }
   ],
   "source": [
    "#Establishing Connection for VIN SMU\n",
    "SM_VIN = rm.open_resource('ASRL3::INSTR')  # Open a connection to the instrument with the address 'ASRL3::INSTR' and assign it to SM_VIN\n",
    "SM_VIN.read_termination = '\\n'             # Set the read termination character to a newline. This tells pyvisa when to consider a message as complete when reading from the instrument.\n",
    "SM_VIN.write_termination = '\\n'            # Set the write termination character to a newline. This ensures that each command sent to the instrument is properly terminated.\n",
    "SM_VIN.baud_rate = 9600                    # Set the baud rate for serial communication to 9600. This is the speed at which data is transmitted over the serial connection.\n",
    "print(SM_VIN)                              # Print the resource object (SM_VIN) to display its properties\n",
    "print(SM_VIN.query('*IDN?'))               # Send the '*IDN?' command to the instrument and print its response. This command usually asks the instrument to identify itself (e.g., manufacturer, model number).\n",
    "\n",
    "#Establishing Connection for VOUT SMU\n",
    "SM_VOUT = rm.open_resource('ASRL4::INSTR') # Open a connection to the instrument with the address 'ASRL4::INSTR' and assign it to SM_VOUT\n",
    "SM_VOUT.read_termination = '\\n'            # Set the read termination character to a newline for SM_VOUT, similar to SM_VIN\n",
    "SM_VOUT.write_termination = '\\n'           # Set the write termination character to a newline for SM_VOUT, similar to SM_VIN\n",
    "SM_VOUT.baud_rate = 9600                   # Set the baud rate for SM_VOUT to 9600, ensuring both instruments communicate at the same speed\n",
    "print(SM_VOUT)                             # Print the resource object (SM_VOUT) to display its properties\n",
    "print(SM_VOUT.query('*IDN?'))              # Send the '*IDN?' command to the SM_VOUT instrument and print its response, identifying the instrument\n",
    "\n",
    "VIN_MAX=33\n",
    "VIN_STEP=1\n",
    "VIN_MIN=9\n",
    "ILMAX=-.01\n",
    "VIN=[]\n",
    "IQ=[]\n",
    "VOUT=[]"
   ]
  },
  {
   "cell_type": "code",
   "execution_count": null,
   "metadata": {},
   "outputs": [],
   "source": [
    "<b> Initialize Source Meter (VIN) </b>"
   ]
  },
  {
   "cell_type": "code",
   "execution_count": null,
   "metadata": {},
   "outputs": [
    {
     "name": "stdout",
     "output_type": "stream",
     "text": [
      "\"CURR:DC\"\n"
     ]
    },
    {
     "data": {
      "text/plain": [
       "12"
      ]
     },
     "execution_count": 16,
     "metadata": {},
     "output_type": "execute_result"
    }
   ],
   "source": [
    "SM_VIN.write(\":CONF:CURR\")                  # Configure the SMU to measure current\n",
    "print(SM_VIN.query(\":CONF?\"))               # Query and print the current configuration of the SMU\n",
    "SM_VIN.write(\"SENS:CURR:PROT:LEV 0.013\")   # Set the current protection level (compliance) to 10.5 mA. This limits the maximum current to protect the device under test.\n",
    "SM_VIN.write(\"SENS:CURR:RANG 1E-2\")         # Set the current measurement range to 100 mA. This sets the expected maximum current for accurate measurement.\n",
    "SM_VIN.write(\"CURR:NPLC 10\")                # Set the number of power line cycles (NPLC) for the current measurement to 10. \n",
    "                                            # This controls the integration time, with higher values leading to more accurate but slower measurements.\n",
    "SM_VIN.write(\"OUTP:STAT 0\")                 # Turn off the VIN source meter"
   ]
  },
  {
   "cell_type": "code",
   "execution_count": null,
   "metadata": {},
   "outputs": [
    {
     "ename": "SyntaxError",
     "evalue": "invalid syntax (2715934647.py, line 1)",
     "output_type": "error",
     "traceback": [
      "\u001b[1;36m  Cell \u001b[1;32mIn[246], line 1\u001b[1;36m\u001b[0m\n\u001b[1;33m    Initialize Source Meter (Source/Sink)\u001b[0m\n\u001b[1;37m               ^\u001b[0m\n\u001b[1;31mSyntaxError\u001b[0m\u001b[1;31m:\u001b[0m invalid syntax\n"
     ]
    }
   ],
   "source": [
    "Initialize Source Meter (Source/Sink)"
   ]
  },
  {
   "cell_type": "code",
   "execution_count": null,
   "metadata": {},
   "outputs": [
    {
     "name": "stdout",
     "output_type": "stream",
     "text": [
      "\"VOLT:DC\"\n"
     ]
    },
    {
     "data": {
      "text/plain": [
       "12"
      ]
     },
     "execution_count": 15,
     "metadata": {},
     "output_type": "execute_result"
    }
   ],
   "source": [
    "SM_VOUT.write(\":SOUR:FUNC CURR\")             #Configure \n",
    "SM_VOUT.write(\"SOUR:CURR:RANG 0.0105\") \n",
    "SM_VOUT.write(\":CONF:VOLT\")                  # Configure the SMU to measure current\n",
    "print(SM_VOUT.query(\":CONF?\"))               # Query and print the current configuration of the SMU\n",
    "SM_VOUT.write(\"SENS:VOLT:PROT:LEV 10\")      # Set the voltage protection level (compliance) to 2.5 V. This limits the maximum voltage to protect the device under test.\n",
    "SM_VOUT.write(\"SENS:VOLT:RANG 5\")          # Set the voltage measurement range to 10 V. This sets the expected maximum voltage for accurate measurement.\n",
    "SM_VOUT.write(\"VOLT:NPLC 10\")                # Set the number of power line cycles (NPLC) for the current measurement to 10. \n",
    "                                             # This controls the integration time, with higher values leading to more accurate but slower measurements.\n",
    "SM_VOUT.write(\"OUTP:STAT 0\")                 # Turn off the VIN source meter"
   ]
  },
  {
   "cell_type": "code",
   "execution_count": null,
   "metadata": {
    "scrolled": true
   },
   "outputs": [],
   "source": [
    "<b> Enter the Device under Test </b>"
   ]
  },
  {
   "cell_type": "code",
   "execution_count": null,
   "metadata": {},
   "outputs": [],
   "source": [
    "directory_name = input(\"Enter the Device under Test (DUT):\")  # Prompt the user to input the temperature of the experiment, which will be used as the directory name\n",
    "DUT=\"DUT_\"+str(directory_name)\n",
    "os.makedirs(DUT, exist_ok=True)                          # Create a directory with the given name. If the directory already exists, it won't raise an error due to exist_ok=True"
   ]
  },
  {
   "cell_type": "code",
   "execution_count": null,
   "metadata": {
    "scrolled": true
   },
   "outputs": [],
   "source": [
    "<b> Enter the Experiment Temperature </b>"
   ]
  },
  {
   "cell_type": "code",
   "execution_count": 23,
   "metadata": {},
   "outputs": [],
   "source": [
    "sub_directory_name = input(\"Enter the temperaure of this experiment:\")  # Prompt the user to input the temperature of the experiment, which will be used as the directory name\n",
    "local=str(DUT)+\"/TEMP_\"+str(sub_directory_name)\n",
    "os.makedirs(local, exist_ok=True)                          # Create a directory with the given name. If the directory already exists, it won't raise an error due to exist_ok=True"
   ]
  },
  {
   "cell_type": "code",
   "execution_count": null,
   "metadata": {},
   "outputs": [],
   "source": [
    "<b> VIN Sweep </b>"
   ]
  },
  {
   "cell_type": "code",
   "execution_count": null,
   "metadata": {},
   "outputs": [],
   "source": [
    "VREF = input(\"Enter the reference voltage of this experiment:\")  # Prompt the user to input the reference voltage of the experiment, which will be used to name the .csv file."
   ]
  },
  {
   "cell_type": "code",
   "execution_count": null,
   "metadata": {},
   "outputs": [
    {
     "name": "stdout",
     "output_type": "stream",
     "text": [
      "SOUR:CURR:LEV:IMM:AMPL -0.01\n",
      "SOUR:CURR:LEV:IMM:AMPL -0.005\n",
      "SOUR:CURR:LEV:IMM:AMPL -1e-06\n"
     ]
    },
    {
     "data": {
      "text/plain": [
       "12"
      ]
     },
     "execution_count": 24,
     "metadata": {},
     "output_type": "execute_result"
    }
   ],
   "source": [
    "SM_VOUT.write(\"SENS:VOLT:RANG \" + str(VREF))\n",
    "l1 = [-.01, -0.005, -0.000001]                                            # Load currents to test\n",
    "for ILMAX in l1:\n",
    "    SM_VIN.write(\"OUTP:STAT 0\")\n",
    "    SM_VOUT.write(\"OUTP:STAT 0\") \n",
    "    SM_VIN.write(\"SENS:CURR:RANG \" + str(-ILMAX + .0025)) \n",
    "    SHEET=\"VREF=\"+str(VREF)+\"_IL=\"+str(ILMAX)+\".csv\"                               # Create a CSV file name based on the VREF value\n",
    "    VIN=[]                                                       # Initialize an empty list to store VIN values\n",
    "    IQ=[]                                                        # Initialize an empty list to store IQ (current) values\n",
    "    VOUT=[]                                                      # Initialize an empty list to store VOUT values\n",
    "    ILOAD=\"SOUR:CURR:LEV:IMM:AMPL \" + str(ILMAX)                 # Create a string command to set the current level to ILOAD\n",
    "    print(ILOAD)                                                 # Print the ILOAD command for verification\n",
    "    SM_VOUT.write(ILOAD)                                         # Set the current level on the VOUT source meter\n",
    "    SM_VIN.write(\"SOUR:VOLT:LEV:IMM:AMPL 5\")\n",
    "    SM_VIN.write(\"OUTP:STAT 1\")                                  # Turn on the VIN source meter output\n",
    "    time.sleep(1)\n",
    "    SM_VOUT.write(\"OUTP:STAT 1\")                                 # Turn on the VOUT source meter output\n",
    "    #SM_VOUT.write(ILOAD)                                         # Set the current level on the VOUT source meter\n",
    "    time.sleep(1)\n",
    "    \n",
    "    for i in range (50,15,-VIN_STEP):                  # Loop from VIN_MAX to VIN_MIN in steps of VIN_STEP\n",
    "                                                                 # This range will decrement VIN from VIN_MAX to VIN_MIN\n",
    "        val = i / 10                                             # Convert the current loop index into a floating-point voltage value\n",
    "        \n",
    "        # Set the source meter voltage\n",
    "        VIN_V = \"SOUR:VOLT:LEV:IMM:AMPL \" + str(val)             # Create the command string to set VIN voltage\n",
    "        SM_VIN.write(VIN_V)                                      # Write the command to set the VIN voltage on the source meter\n",
    "        time.sleep(.5)                                            # Pause for 1 second to allow the system to stabilize\n",
    "        # Measure VOUT and append to the VOUT list\n",
    "        VOUT.append(SM_VOUT.query(\":READ?\").split(',')[0])  # Query and append the measured VOUT voltage\n",
    "    \n",
    "        VIN.append(val)                                          # Append the current VIN value to the VIN list\n",
    "    \n",
    "        # Measure IQ (current) and append to the IQ list\n",
    "        IQ.append(SM_VIN.query(\":READ?\").split(',')[1])     # Query and append the measured IQ current\n",
    "    \n",
    "    # After the loop completes, turn off the source meters\n",
    "    #SM_VOUT.write(\"OUTP:STAT 0\")                                 # Turn off the VOUT source meter\n",
    "    #SM_VIN.write(\"OUTP:STAT 0\")                                  # Turn off the VIN source meter\n",
    "    \n",
    "    # Create a DataFrame with the collected data\n",
    "    df = dp.DataFrame({'VIN': VIN, 'IQ': IQ, 'VOUT': VOUT})      # Create a pandas DataFrame from VIN, IQ, and VOUT lists\n",
    "    \n",
    "    csv_path=os.path.join(local, SHEET)                          # Generate the file path for saving the CSV\n",
    "    df.to_csv(csv_path, index=False)                             # Save the DataFrame to a CSV file without including the index\n",
    "    time.sleep(1)\n",
    "SM_VOUT.write(\"OUTP:STAT 0\")                                 # Turn off the VOUT source meter\n",
    "SM_VIN.write(\"OUTP:STAT 0\")                                  # Turn off the VIN source meter"
   ]
  },
  {
   "cell_type": "code",
   "execution_count": null,
   "metadata": {},
   "outputs": [
    {
     "data": {
      "text/plain": [
       "12"
      ]
     },
     "execution_count": 13,
     "metadata": {},
     "output_type": "execute_result"
    }
   ],
   "source": [
    "SM_VOUT.write(\"OUTP:STAT 0\")                                 # Turn off the VOUT source meter\n",
    "SM_VIN.write(\"OUTP:STAT 0\") "
   ]
  }
 ],
 "metadata": {
  "kernelspec": {
   "display_name": "base",
   "language": "python",
   "name": "python3"
  },
  "language_info": {
   "codemirror_mode": {
    "name": "ipython",
    "version": 3
   },
   "file_extension": ".py",
   "mimetype": "text/x-python",
   "name": "python",
   "nbconvert_exporter": "python",
   "pygments_lexer": "ipython3",
   "version": "3.11.7"
  }
 },
 "nbformat": 4,
 "nbformat_minor": 4
}
