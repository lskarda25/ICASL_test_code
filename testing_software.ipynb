{
 "cells": [
  {
   "cell_type": "markdown",
   "id": "71d4ed55-c266-4c68-a44a-016dbe0c9fb5",
   "metadata": {},
   "source": [
    "<h2> Infrastructure </h2>"
   ]
  },
  {
   "cell_type": "code",
   "execution_count": 1,
   "id": "8d483129-87f9-46d1-8315-21eb84d3b33d",
   "metadata": {},
   "outputs": [],
   "source": [
    "# Created by Shawn\n",
    "# Tests odds and ends more related to general python funtionality, interfacing with meters, etc. Want to store\n",
    "# Most of the infrastructure is taken from the PMOS_LDO code on 5/26/25\n",
    "import pyvisa                    # Instrument communication\n",
    "import time                      # Handle time-related tasks (e.g., delays)\n",
    "import matplotlib.pyplot as plt  # Plotting graphs and visualizing data\n",
    "import numpy as np               # Numerical operations, particularly with arrays\n",
    "import pandas as pd              # Data manipulation and analysis\n",
    "import os                        # Interact with the operating system, such as handling file paths\n",
    "import csv                       # Read from and write to CSV files\n",
    "from datetime import date        # Read current date\n",
    "from collections import defaultdict"
   ]
  },
  {
   "cell_type": "code",
   "execution_count": 2,
   "id": "c651a9eb",
   "metadata": {},
   "outputs": [],
   "source": [
    "# Determine the appropriate scaling for generated plots in Engineering Notation\n",
    "def scale(list):\n",
    "    array = np.asarray(list, dtype='float') # Python's lists don't support multiplication by a float. Numpy's arrays do.\n",
    "    if np.max(np.abs(array)) < 1e-9:\n",
    "        k = 1e12\n",
    "    elif np.max(np.abs(array)) < 1e-6:\n",
    "        k = 1e9\n",
    "    elif np.max(np.abs(array)) < 1e-3:\n",
    "        k = 1e6\n",
    "    elif np.max(np.abs(array)) < 1:\n",
    "        k = 1e3\n",
    "    else:\n",
    "        k = 1\n",
    "    \n",
    "    return k*array # Return the scaled array\n",
    "\n",
    "# Determine the appropriate prefix for arrays that use scale(). \n",
    "# PASS THE ORIGINAL LIST, NOT THE SCALED\n",
    "def prefix(list):\n",
    "    array = np.asarray(list, dtype='float')\n",
    "    if np.max(np.abs(array)) < 1e-9:\n",
    "        k = 1e12\n",
    "        prefix = 'p'\n",
    "    elif np.max(np.abs(array)) < 1e-6:\n",
    "        k = 1e9\n",
    "        prefix = 'n'\n",
    "    elif np.max(np.abs(array)) < 1e-3:\n",
    "        k = 1e6\n",
    "        prefix = 'µ'\n",
    "    elif np.max(np.abs(array)) < 1:\n",
    "        k = 1e3\n",
    "        prefix = 'm'\n",
    "    else:\n",
    "        k = 1\n",
    "        prefix = ''\n",
    "\n",
    "    return prefix"
   ]
  },
  {
   "cell_type": "code",
   "execution_count": 3,
   "id": "4cf02534-4df7-4a13-a14d-869757380abe",
   "metadata": {},
   "outputs": [
    {
     "data": {
      "text/plain": [
       "('GPIB6::6::INSTR',\n",
       " 'USB0::0x0957::0x0607::MY45002108::0::INSTR',\n",
       " 'USB0::0x0957::0x1796::MY57231548::0::INSTR',\n",
       " 'USB0::0x0957::0x1796::MY57231553::0::INSTR',\n",
       " 'USB0::0x0957::0x17B6::MY56310504::0::INSTR',\n",
       " 'USB0::0x0957::0x2C07::MY57890777::0::INSTR',\n",
       " 'USB0::0x0957::0x5707::MY53802060::0::INSTR',\n",
       " 'USB0::0x2A8D::0x0101::MY54505624::0::INSTR',\n",
       " 'USB0::0x2A8D::0x0101::MY57508183::0::INSTR')"
      ]
     },
     "execution_count": 3,
     "metadata": {},
     "output_type": "execute_result"
    }
   ],
   "source": [
    "rm = pyvisa.ResourceManager()    # Create a ResourceManager object, which manages communication with instruments\n",
    "rm.list_resources()              # List all available resources (e.g., connected instruments) managed by pyvisa"
   ]
  },
  {
   "cell_type": "code",
   "execution_count": 4,
   "id": "e3190461-394d-4867-ad81-4afe753a948c",
   "metadata": {},
   "outputs": [],
   "source": [
    "# If running for the first time, ensure the equipment names are correctly referenced\n",
    "\n",
    "def establish_connection(address, query):\n",
    "    instrument = rm.open_resource(address)   # Open a connection to the instrument with the address and assign it to SM_VIN\n",
    "    instrument.read_termination = '\\n'       # Set the read termination character to a newline. This tells pyvisa when to consider a message as complete when reading from the instrument.\n",
    "    instrument.write_termination = '\\n'      # Set the write termination character to a newline. This ensures that each command sent to the instrument is properly terminated.\n",
    "    instrument.baud_rate = 9600              # Set the baud rate for serial communication to 9600. This is the speed at which data is transmitted over the serial connection.\n",
    "    print(instrument)                        # Print the resource object to display its properties\n",
    "    print(instrument.query(query))           # Send the query to the instrument and print its response. This command usually asks the instrument to identify itself (e.g., manufacturer, model number).\n",
    "    return instrument"
   ]
  },
  {
   "cell_type": "code",
   "execution_count": 6,
   "id": "9f8be9f2",
   "metadata": {},
   "outputs": [
    {
     "name": "stdout",
     "output_type": "stream",
     "text": [
      "GPIBInstrument at GPIB6::6::INSTR\n",
      "NNNNNNNYNNNNNNNNNN0\n"
     ]
    }
   ],
   "source": [
    "# SM_VIN = establish_connection('GPIB6::20::INSTR', '*IDN?') # Also measures current through VIN\n",
    "# MM_VOUT = establish_connection('USB0::10893::257::MY57508183::0::INSTR', '*IDN?')\n",
    "# MM_VDROP = establish_connection('USB0::0x2A8D::0x0101::MY54505624::INSTR', '*IDN?')\n",
    "# WG_VREF_VISET = establish_connection('USB0::2391::22279::MY53802060::0::INSTR', '*IDN?')\n",
    "CHAMBER = establish_connection('GPIB6::6::INSTR', 'STATUS?')"
   ]
  },
  {
   "cell_type": "code",
   "execution_count": 7,
   "id": "b7fbf360",
   "metadata": {},
   "outputs": [
    {
     "name": "stdout",
     "output_type": "stream",
     "text": [
      "VIN: [1.8   1.775 1.75  1.725 1.7   1.675 1.65  1.625 1.6   1.575 1.55  1.525\n",
      " 1.5   1.475 1.45  1.425 1.4   1.375 1.35  1.325 1.3   1.275 1.25  1.225\n",
      " 1.2   1.175 1.15  1.125 1.1   1.075 1.05  1.025 1.   ]\n",
      "VREF: [np.float64(0.85), np.float64(0.8), np.float64(0.75), np.float64(0.7), np.float64(0.65), np.float64(0.6), np.float64(0.55), np.float64(0.5), np.float64(0.45), np.float64(0.4), np.float64(0.35), np.float64(0.3)]\n",
      "[ 0.1  0.3  0.5  1.   2.   3.   4.   5.   6.   7.   8.   9.  10. ]\n"
     ]
    }
   ],
   "source": [
    "DEVICE_NAME = \"PMOS_LDO\" # Global directory\n",
    "SET_PRECISION = .15 # This determines how close the probe's temperature needs to get to the SET value before soak time begins \n",
    "\n",
    "# Circuit Values\n",
    "Rhi = 264.3\n",
    "Rlo = 68000\n",
    "\n",
    "# Desired Values (used for calcs)\n",
    "IL_default = .003\n",
    "VREF_default = .8\n",
    "\n",
    "#Sweeps\n",
    "VIN_MAX = 1.8\n",
    "VIN_STEP = -.025\n",
    "VIN_MIN = 1\n",
    "# Full VIN list isn't created until the tests, since the minimum value will change.\n",
    "print(\"VIN: \" + str(np.arange(VIN_MAX, VIN_MIN+VIN_STEP, VIN_STEP)))\n",
    "\n",
    "VREF_MAX = .85\n",
    "VREF_STEP = -.05\n",
    "VREF_MIN = .3\n",
    "VREFlist_unrounded = np.arange(VREF_MAX, VREF_MIN+VREF_STEP, VREF_STEP) # Adding the step to the second argument will include its value in the sweep.\n",
    "VREFlist = [round(VREF, 5) for VREF in VREFlist_unrounded] #If you don't round after arange() it'll display the floats with the precision they're stored with. i.e. 2 -> 1.99999999999999995\n",
    "print(\"VREF: \" + str(VREFlist))\n",
    "\n",
    "TEMPlist = [125, 100, 75, 50, 25,  0, -25, -50, -75, -100, -125, -150, -175]\n",
    "\n",
    "ILlist = [100E-6, 300E-6, 500E-6, 1E-3, 2E-3, 3E-3, 4E-3, 5E-3, 6E-3, 7E-3, 8E-3, 9E-3, 10E-3]\n",
    "ILlistmA = scale(ILlist)\n",
    "print(ILlistmA)"
   ]
  },
  {
   "cell_type": "code",
   "execution_count": 8,
   "id": "3d8168c0-7d6d-4970-ae39-c9437e034525",
   "metadata": {},
   "outputs": [],
   "source": [
    "####### Temperature Chamber #######\n",
    "\n",
    "def Chamber_INIT():\n",
    "    CHAMBER.write(\"ON\")\n",
    "    CHAMBER.write(\"RATE=20\")            # Sets the speed at which the chamber will ramp to change TEMP\n",
    "    CHAMBER.write(\"WAIT=30\")            # Sets the time that the chamber will wait once the desired temperature is reached before measurements start\n",
    "    CHAMBER.write(\"HON\")                # Turns heat on\n",
    "    CHAMBER.write(\"CON\")                # Turns cool on\n",
    "    CHAMBER.write(\"PIDA=3\")             # No clue what this does - Shawn\n",
    "    time.sleep(1) \n",
    "\n",
    "    print(CHAMBER.query(\"RATE?\"))\n",
    "    print(CHAMBER.query(\"WAIT?\"))\n",
    "\n",
    "####### SMU #######\n",
    "\n",
    "# TODO: Leading Colons? - Shawn\n",
    "def SMU_INIT(SM):\n",
    "    SM.write(\":CONF:CURR\")                  # Configure the SMU to measure current\n",
    "    SM.write(\"OUTP:STAT 0\")                 # Turn off the VIN source meter\n",
    "    SM.write(\"SOUR:VOLT:RANG 1.8\")\n",
    "    SM.write(\"SENS:CURR:PROT:LEV 0.0105\")   # Set the current protection level (compliance) to 10.5 mA. This limits the maximum current to protect the device under test.\n",
    "    SM.write(\"SENS:CURR:RANG 1E-2\")         # Set the current measurement range to 10 mA. This sets the expected maximum current for accurate measurement.\n",
    "    SM.timeout = 100000                     # Set the timeout for the SMU operations to 100,000 milliseconds (100 seconds).\n",
    "    SM.write(\"CURR:NPLC 10\")\n",
    "    SM.write(\"SYST:BEEP:STAT OFF\")           # Turn off the beeper on the SMU\n",
    "\n",
    "def SMU_On(SM, val):\n",
    "    SM.write(\":SOUR:VOLT:MODE FIX\")\n",
    "    SM.write(\"SOUR:VOLT:LEV \"+str(val))\n",
    "    SM.write(\"OUTP ON\")\n",
    "\n",
    "def SMU_Off(SM):\n",
    "    SM.write(\"SOUR:VOLT:LEV 0\")\n",
    "    SM.write(\"OUTP:STAT 0\")\n",
    "\n",
    "####### MM #######\n",
    "\n",
    "def MM_INIT(MM):\n",
    "    MM.write(\":CONF:VOLT:DC\")\n",
    "    MM.write(\"VOLT:DC:RANG 10\")\n",
    "    MM.write(\"VOLT:NPLC 10\")\n",
    "\n",
    "####### WG #######\n",
    "\n",
    "def WG_INIT(WG):\n",
    "    WG.write(\"OUTP1:LOAD DEF\")          # Sets the output load to infinite so no impedance matching is necessary\n",
    "    WG.write(\"OUTP2:LOAD DEF\")\n",
    "    WG.write(\"SOUR1:APPL:DC\")          # Sets the Waveform generator to output a DC voltage\n",
    "    WG.write(\"SOUR2:APPL:DC\")          # Sets the Waveform generator to output a DC voltage\n",
    "\n",
    "def WG_On(WG, channel, val):\n",
    "    if (channel != 1 and channel != 2):\n",
    "        print(\"Invalid channel\")\n",
    "        return -1\n",
    "    WG.write(f\"SOUR{channel}:APPL:DC DEF, DEF, {val}\")\n",
    "    WG.write(f\"OUTP{channel}:STAT 1\")\n",
    "\n",
    "def WG_Off(WG, channel):\n",
    "    if (channel != 1 and channel != 2):\n",
    "        print(\"Invalid channel\")\n",
    "        return -1\n",
    "    WG.write(f\"SOUR{channel}:APPL:DC DEF, DEF, 0\")\n",
    "    WG.write(f\"OUTP{channel}:STAT 0\")\n",
    "\n",
    "####### Groupings #######\n",
    "# Do not affect temperature chamber\n",
    "\n",
    "def initialize_all():\n",
    "    SMU_INIT(SM_VIN)\n",
    "    MM_INIT(MM_VOUT)\n",
    "    MM_INIT(MM_VDROP)\n",
    "    WG_INIT(WG_VREF_VISET) \n",
    "\n",
    "def turn_on_all():\n",
    "    #TODO: TURN ON VREF BEFORE VIN? -Lang\n",
    "    WG_On(WG_VREF_VISET, 1, VREF_default)\n",
    "    SMU_On(SMU_VIN, 1.8)            # Turn on the VIN source meter output\n",
    "    time.sleep(.5)\n",
    "    VISET = -Rhi*(IL_default-VREF_default/Rlo) + VREF_default\n",
    "    WG_On(WG_VREF_VISET, 2, VISET)  # Turn on the WG for VISET to set IL to default for the first VREF so that it can warm up while CHAMBER starts\n",
    "\n",
    "def turn_off_all():\n",
    "    WG_Off(WG_VREF_VISET, 2)    # Turn off VISET first!!!\n",
    "    time.sleep(.5)\n",
    "    SMU_Off(SM_VIN)             # Turn off the VIN source meter\n",
    "    WG_Off(WG_VREF_VISET, 1)    # Turn off VREF"
   ]
  },
  {
   "cell_type": "code",
   "execution_count": 9,
   "id": "31ce0864-3e9b-4c7f-9f12-8812dd63364b",
   "metadata": {},
   "outputs": [],
   "source": [
    "def start_plot(title, xlabel, ylabel):\n",
    "    # Create a color map for the plots\n",
    "    cm=plt.get_cmap('gist_rainbow')\n",
    "\n",
    "    # Apply default parameters that are shared by all plots. Any property can be changed afterwards if needed.\n",
    "    fig, plot = plt.subplots(layout='constrained')\n",
    "    plot.set_title(title, fontdict={'fontsize': 16, 'fontweight': 'bold'}, y = 1.03)\n",
    "    plot.set_xlabel(xlabel, fontdict={'fontsize': 12})\n",
    "    plot.set_ylabel(ylabel, fontdict={'fontsize': 12})\n",
    "    plot.tick_params(axis='both', which='major', labelsize=10)\n",
    "    plot.set_prop_cycle ('color', [cm(1.*i/len(TEMPlist)) for i in range(len(TEMPlist))])\n",
    "    plot.grid()\n",
    "    return fig, plot\n",
    "\n",
    "def finish_plot(plot, fig, directory, name, legend=True, close=True):\n",
    "    if (legend):\n",
    "        for line in plot.legend(bbox_to_anchor=(1.02, 1), loc='upper left').get_lines(): # Creates legend\n",
    "            line.set_linewidth(2.5) # Changes widths of the legend's example lines, NOT the actual lines on the plot\n",
    "    if (close):\n",
    "        plt.close(fig)\n",
    "    fig.savefig(os.path.join(directory, name))"
   ]
  },
  {
   "cell_type": "markdown",
   "id": "a3a36b40",
   "metadata": {},
   "source": [
    "<h2> Messing with Stuff </h2>"
   ]
  },
  {
   "cell_type": "markdown",
   "id": "d3c7b8b7-8080-443e-8e1c-f6ad2bde9296",
   "metadata": {},
   "source": [
    "<h3> Querying Meters </h3>"
   ]
  },
  {
   "cell_type": "code",
   "execution_count": 6,
   "id": "9ee081e8-a30a-474a-b519-4a7de615d047",
   "metadata": {},
   "outputs": [
    {
     "name": "stdout",
     "output_type": "stream",
     "text": [
      "\"VOLT +1.00000000E+01,+1.00000000E-06\"\n",
      "-8.07441179E-07\n",
      "\"VOLT +1.00000000E+01,+1.00000000E-06\"\n",
      "-1.86252092E-06\n"
     ]
    }
   ],
   "source": [
    "# Test Multimeters\n",
    "MM_INIT(MM_VOUT)\n",
    "print(MM_VOUT.query(\":CONF?\"))\n",
    "print(MM_VOUT.query(\":READ?\"))\n",
    "\n",
    "MM_INIT(MM_VDROP)\n",
    "print(MM_VDROP.query(\":CONF?\"))\n",
    "print(MM_VDROP.query(\":READ?\"))"
   ]
  },
  {
   "cell_type": "code",
   "execution_count": null,
   "id": "e6539706-d0ee-44e4-9017-f750aa804088",
   "metadata": {},
   "outputs": [],
   "source": [
    "# Test SourceMeter\n",
    "SMU_INIT(SM)\n",
    "print(SM_VIN.query(\":CONF?\"))"
   ]
  },
  {
   "cell_type": "code",
   "execution_count": null,
   "id": "744e97e7-1f7a-436e-9387-5a422e249701",
   "metadata": {},
   "outputs": [],
   "source": [
    "# Test Waveform Generator?\n",
    "WG_INIT(WG_VREF_VISET)\n",
    "print(WG_VREF_VISET.query(\":CONF?\")) # Untested - Shawn"
   ]
  },
  {
   "cell_type": "markdown",
   "id": "1988578c-4b8f-4211-8da7-fff3b1fb88d7",
   "metadata": {},
   "source": [
    "<h3> Turning equipment on, then off, step-by-step </h3>"
   ]
  },
  {
   "cell_type": "code",
   "execution_count": null,
   "id": "43fc608f-f578-4eb7-8e0e-c0026263ef0c",
   "metadata": {},
   "outputs": [],
   "source": [
    "# Start by running through turn on function, one by one\n",
    "WG.write(\"SOUR1:APPL:DC DEF, DEF, \" + str(VREF_default)) # Sets VREF to default value"
   ]
  },
  {
   "cell_type": "code",
   "execution_count": null,
   "id": "0c686d30-c21f-4edc-ba44-3c32afbdce81",
   "metadata": {},
   "outputs": [],
   "source": [
    "WG.write(\"OUTP1:STAT 1\")"
   ]
  },
  {
   "cell_type": "code",
   "execution_count": null,
   "id": "46d2fb73-227f-4b91-8d74-269f5a0419ff",
   "metadata": {},
   "outputs": [],
   "source": [
    "SM_VIN.write(\"SOUR:VOLT:LEV 1.8\")                        # Set VIN source value"
   ]
  },
  {
   "cell_type": "code",
   "execution_count": null,
   "id": "4c850701-225d-4247-959b-5068aa952c65",
   "metadata": {},
   "outputs": [],
   "source": [
    "SM_VIN.write(\"OUTP:STAT 1\")                              # Turn on the VIN source meter output"
   ]
  },
  {
   "cell_type": "code",
   "execution_count": null,
   "id": "a5551368-2fb3-4aeb-9271-4c1781cfb9ae",
   "metadata": {},
   "outputs": [],
   "source": [
    "VISET = -Rhi*(IL_default-VREF_default/Rlo) + VREF_default\n",
    "WG.write(\"SOUR2:APPL:DC DEF, DEF,\" + str(VISET))         # Turn on the WG for VISET to set IL to default for the first VREF so that it can warm up while CHAMBER starts"
   ]
  },
  {
   "cell_type": "code",
   "execution_count": null,
   "id": "bb0b1b7a-cc0c-410e-835c-5d9d6a030654",
   "metadata": {},
   "outputs": [],
   "source": [
    "WG.write(\"OUTP2:STAT 1\")"
   ]
  },
  {
   "cell_type": "code",
   "execution_count": null,
   "id": "fbc6d33a-fedf-4cfe-a801-8b14d29114f9",
   "metadata": {},
   "outputs": [],
   "source": [
    "# Now run through turn off function, one by one\n",
    "WG.write(\"SOUR2:APPL:DC DEF, DEF, 0\")                    # Turn off VISET first!!!"
   ]
  },
  {
   "cell_type": "code",
   "execution_count": null,
   "id": "f7ae0267-895c-4b10-8f03-4eb4e74cb9f5",
   "metadata": {},
   "outputs": [],
   "source": [
    "WG.write(\"OUTP2:STAT 0\")"
   ]
  },
  {
   "cell_type": "code",
   "execution_count": null,
   "id": "60ec12dd-9650-41f0-8e81-41c681e21ed8",
   "metadata": {},
   "outputs": [],
   "source": [
    "SM_VIN.write(\"OUTP:STAT 0\")                              # Turn off the VIN source meter"
   ]
  },
  {
   "cell_type": "code",
   "execution_count": null,
   "id": "3c889ad0-625c-4286-9ff1-76de36c5aa0b",
   "metadata": {},
   "outputs": [],
   "source": [
    "WG.write(\"SOUR1:APPL:DC DEF, DEF, 0\")"
   ]
  },
  {
   "cell_type": "code",
   "execution_count": null,
   "id": "1f16a54a-2059-4061-9a20-9b4ded263df8",
   "metadata": {},
   "outputs": [],
   "source": [
    "WG.write(\"OUTP1:STAT 0\")"
   ]
  },
  {
   "cell_type": "code",
   "execution_count": null,
   "id": "8de76145-53ba-4084-ab2a-faca99a3876f",
   "metadata": {},
   "outputs": [],
   "source": [
    "# Now turn all on at once\n",
    "turn_on_all()"
   ]
  },
  {
   "cell_type": "code",
   "execution_count": null,
   "id": "465c1ec2-3d1a-48e5-972d-0275dd7e046d",
   "metadata": {},
   "outputs": [],
   "source": [
    "# Now turn all off at once\n",
    "turn_off_all()"
   ]
  },
  {
   "cell_type": "markdown",
   "id": "8d959a16-c7ce-4cd0-9c4f-d6504f9d73ce",
   "metadata": {},
   "source": [
    "<h3> Plotting from a CSV File </h3>"
   ]
  },
  {
   "cell_type": "code",
   "execution_count": 44,
   "id": "72ba698c-bcbd-4d42-bd7a-b2a849cefd80",
   "metadata": {},
   "outputs": [
    {
     "name": "stdout",
     "output_type": "stream",
     "text": [
      "    VIN      ITOT      VOUT     VDROP\n",
      "0   3.3  0.003156  2.004321  1.019477\n",
      "1   3.2  0.003146  2.004348  1.019479\n",
      "2   3.1  0.003134  2.004458  1.019478\n",
      "3   3.0  0.003114  1.961123  1.015305\n",
      "4   2.9  0.002848  1.935660  1.019477\n",
      "5   2.8  0.002546  1.837066  1.019516\n",
      "6   2.7  0.002242  1.738515  1.019515\n",
      "7   2.6  0.001939  1.640175  1.019498\n",
      "8   2.5  0.001637  1.542123  1.019472\n",
      "9   2.4  0.001336  1.444472  1.019486\n",
      "10  2.3  0.001037  1.347287  1.019520\n",
      "11  2.2  0.000740  1.251078  1.019523\n",
      "12  2.1  0.000449  1.156481  1.019550\n",
      "13  2.0  0.000173  1.067286  1.019569\n",
      "         IL      ITOT      VOUT     VDROP\n",
      "0   0.00005  0.000232  2.004426  1.988315\n",
      "1   0.00010  0.000281  2.004432  1.971732\n",
      "2   0.00030  0.000479  2.004419  1.905813\n",
      "3   0.00050  0.000678  2.004374  1.840175\n",
      "4   0.00100  0.001173  2.004371  1.675866\n",
      "5   0.00200  0.002165  2.004361  1.347481\n",
      "6   0.00300  0.003156  2.004347  1.019362\n",
      "7   0.00400  0.004148  2.004393  0.691059\n",
      "8   0.00500  0.005141  2.004412  0.362809\n",
      "9   0.00600  0.006135  2.004348  0.033902\n",
      "10  0.00700  0.007125  2.004394 -0.293716\n",
      "11  0.00800  0.008117  2.004397 -0.621743\n",
      "12  0.00900  0.009109  2.004406 -0.949812\n",
      "13  0.01000  0.010100  2.004472 -1.277846\n"
     ]
    },
    {
     "data": {
      "image/png": "[encoded data removed]",
      "text/plain": [
       "<Figure size 640x480 with 1 Axes>"
      ]
     },
     "metadata": {},
     "output_type": "display_data"
    },
    {
     "data": {
      "image/png": "[encoded data removed]",
      "text/plain": [
       "<Figure size 640x480 with 1 Axes>"
      ]
     },
     "metadata": {},
     "output_type": "display_data"
    }
   ],
   "source": [
    "# Plotting from a CSV File\n",
    "TEMPlist = [125, 100, 75, 50, 25,  0, -25, -50, -75, -100, -125, -150, -175]\n",
    "ILlist = [100E-6, 300E-6, 500E-6, 1E-3, 2E-3, 3E-3, 4E-3, 5E-3, 6E-3, 7E-3, 8E-3, 9E-3, 10E-3]\n",
    "ILlistmA= [num * 1000 for num in ILlist]\n",
    "VREF = 2\n",
    "VIN_MIN = 2\n",
    "LineRfig, LineRplot = start_plot('Line Regulation at T=-175 °C', 'Vin (V)', 'Vout (V)')\n",
    "new_MIN = max(VIN_MIN, VREF)\n",
    "LineRplot.set_xticks(np.arange(new_MIN, 3.3, 0.2))\n",
    "LineRplot.set_xlim(2, 3.3)\n",
    "\n",
    "# Load regulation plot\n",
    "LoadRfig, LoadRplot = start_plot('Load Regulation at T=-175 °C', 'IL (mA)', 'Vout (V)')\n",
    "LoadRplot.set_xticks(np.arange(-1, 11, 1))\n",
    "LoadRplot.set_xlim(0, ILlistmA[-1])\n",
    "\n",
    "VIN_df = pd.read_csv(r\"NPN_LVR_Results\\2025-05-10\\DUT_1\\TEMP_-175\\VIN_Sweep_VREF=2.0.csv\")\n",
    "IL_df = pd.read_csv(r\"NPN_LVR_Results\\2025-05-10\\DUT_1\\TEMP_-175\\IL_Sweep_VREF=2.0.csv\")\n",
    "\n",
    "print(VIN_df)\n",
    "print(IL_df)\n",
    "\n",
    "ILlistc = [100E-6, 300E-6, 500E-6, 1E-3, 2E-3, 3E-3, 4E-3, 5E-3, 6E-3, 7E-3, 8E-3, 9E-3, 10E-3,1]\n",
    "ILlistmAc = [num * 1000 for num in ILlistc]\n",
    "\n",
    "LineRplot.plot(VIN_df['VIN'], VIN_df['VOUT'], label=\"VREF=\"+str(VREF)+\" V\")\n",
    "LoadRplot.plot(ILlistmAc, IL_df['VOUT'], label=\"VREF=\"+str(VREF)+\" V\")\n",
    "\n",
    "#Use these two lines to get rid of offset\n",
    "#from matplotlib.ticker import ScalarFormatter\n",
    "#LoadRplot.yaxis.set_major_formatter(ScalarFormatter(useOffset=False)) \n",
    "\n",
    "os.makedirs(\"tmp\", exist_ok=True)\n",
    "finish_plot(LineRplot, LineRfig, \"tmp\", \"Line_Regulation_\"+str(VREF)+\"V.png\", close=False)\n",
    "finish_plot(LoadRplot, LoadRfig, \"tmp\", \"Load_Regulation_\"+str(VREF)+\"V.png\", close=False)\n",
    "\n",
    "plt.show()"
   ]
  },
  {
   "cell_type": "markdown",
   "id": "fb4e51fa-977f-4932-8bd6-28cd17af7e13",
   "metadata": {},
   "source": [
    "<h3> Changing my plotting function's defaults after calling it </h3>"
   ]
  },
  {
   "cell_type": "code",
   "execution_count": 45,
   "id": "e2b27ec5-5099-44cb-8963-d0eca456e8f6",
   "metadata": {},
   "outputs": [
    {
     "name": "stdout",
     "output_type": "stream",
     "text": [
      "    VIN      ITOT      VOUT     VDROP\n",
      "0   3.3  0.003156  2.004321  1.019477\n",
      "1   3.2  0.003146  2.004348  1.019479\n",
      "2   3.1  0.003134  2.004458  1.019478\n",
      "3   3.0  0.003114  1.961123  1.015305\n",
      "4   2.9  0.002848  1.935660  1.019477\n",
      "5   2.8  0.002546  1.837066  1.019516\n",
      "6   2.7  0.002242  1.738515  1.019515\n",
      "7   2.6  0.001939  1.640175  1.019498\n",
      "8   2.5  0.001637  1.542123  1.019472\n",
      "9   2.4  0.001336  1.444472  1.019486\n",
      "10  2.3  0.001037  1.347287  1.019520\n",
      "11  2.2  0.000740  1.251078  1.019523\n",
      "12  2.1  0.000449  1.156481  1.019550\n",
      "13  2.0  0.000173  1.067286  1.019569\n"
     ]
    },
    {
     "data": {
      "image/png": "[encoded data removed]",
      "text/plain": [
       "<Figure size 640x480 with 1 Axes>"
      ]
     },
     "metadata": {},
     "output_type": "display_data"
    }
   ],
   "source": [
    "TEMPlist = [125, 100, 75, 50, 25,  0, -25, -50, -75, -100, -125, -150, -175]\n",
    "VREF = 2\n",
    "VIN_MIN = 2\n",
    "\n",
    "# Default plot settings\n",
    "LineRfig, LineRplot = start_plot('Line Regulation at T=-175 °C', 'Vin (V)', 'Vout (V)')\n",
    "new_MIN = max(VIN_MIN, VREF)\n",
    "\n",
    "# No defaults for these right now\n",
    "LineRplot.set_xticks(np.arange(new_MIN, 3.3, 0.2))\n",
    "LineRplot.set_xlim(2, 3.3)\n",
    "\n",
    "# Changing defaults\n",
    "LineRplot.set_title('New_title', fontdict={'fontsize': 8, 'fontweight': 'bold'}, y = .5)\n",
    "LineRplot.set_xlabel('New_x', fontdict={'fontsize': 6})\n",
    "LineRplot.set_ylabel('New_y', fontdict={'fontsize': 6})\n",
    "LineRplot.tick_params(axis='both', which='major', labelsize=20)\n",
    "cm_new = plt.get_cmap('copper')\n",
    "LineRplot.set_prop_cycle ('color', [cm_new(1.*i/len(TEMPlist)) for i in range(len(TEMPlist))])\n",
    "LineRplot.grid(False)\n",
    "\n",
    "VIN_df = pd.read_csv(r\"NPN_LVR_Results\\2025-05-10\\DUT_1\\TEMP_-175\\VIN_Sweep_VREF=2.0.csv\")\n",
    "print(VIN_df)\n",
    "LineRplot.plot(VIN_df['VIN'], VIN_df['VOUT'], label=\"VREF=\"+str(VREF)+\" V\")\n",
    "\n",
    "os.makedirs(\"tmp\", exist_ok=True)\n",
    "finish_plot(LineRplot, LineRfig, \"tmp\", \"Line_Regulation_tmp_\"+str(VREF)+\"V.png\", close=False)\n",
    "plt.show()\n",
    "\n",
    "# Yep, looks like you can change all of these. Good to know. \n",
    "# Obviously not the finish_plot() legend settings."
   ]
  },
  {
   "cell_type": "markdown",
   "id": "9a29e220",
   "metadata": {},
   "source": [
    "<h3> Adding Trailing Zeros to Filename Labels so they Sort Correctly </h3>"
   ]
  },
  {
   "cell_type": "code",
   "execution_count": null,
   "id": "e710baeb",
   "metadata": {},
   "outputs": [
    {
     "name": "stdout",
     "output_type": "stream",
     "text": [
      "VIN_Sweep_VREF=0.6.csv\n",
      "VIN_Sweep_VREF=0.6.csv\n",
      "VIN_Sweep_VREF=0.60.csv\n"
     ]
    }
   ],
   "source": [
    "# Adding trailing zeros\n",
    "VREF = .6\n",
    "print(f\"VIN_Sweep_VREF={VREF}.csv\")\n",
    "print(f\"VIN_Sweep_VREF={round(VREF, 2)}.csv\")\n",
    "print(f\"VIN_Sweep_VREF={VREF:.2f}.csv\")\n",
    "# This makes files sort in the correct order. \n",
    "# Without it, .9 comes before .15, because Operating Systems will see 9 < 15\n",
    "# Now they'll see 90 > 15, and it will be listed afterwards"
   ]
  },
  {
   "cell_type": "markdown",
   "id": "7e67b472",
   "metadata": {},
   "source": [
    "<h3> Sun Chamber Wait Time </h3>"
   ]
  },
  {
   "cell_type": "markdown",
   "id": "c282cc2f",
   "metadata": {},
   "source": [
    "Results:\\\n",
    "It looks like the chamber saves the wait time when turned off and on. Perhaps the set too. Cool automatically turns on when the ON command is recieved, so need to watch out for that. (According to the manual, Heat too)\\\n",
    "The WAIT time doesn't start until SET is reached\\\n",
    "When WAIT runs out, it is automatically set to WAIT=FOREVER\\\n",
    "WAIT can also be set to FOREVER with CHAMBER.write(\"WAIT=FOREV\")\\\n",
    "WAIT being set to FOREVER will initially allow one more SET command to go through, however, it will then stop CHAMBER.query(\"STATUS?\")[3] == 'N' from realizing that the chamber has reached its desired temperature.\n",
    "\n",
    "From the manual:\\\n",
    "The intended workflow for local programs (programmed with temperature chamber's buttons directly) is to call WAIT and then SET. The chamber climbs to the set value, then waits the specified amount of time. Then it moves on to the next set value in the script. To determine if the set time has been reached, the chamber checks if it is within a specified range, set by a \"+/- Trigger\" variable (which can be changed through the SDEF menu).\\\n",
    "The 4th (index=3) status bit specifies if wait_time is currently counting down.\\\n",
    "There is no way to directly utilize whatever internal function is checking if the probe temp is within the +/- Trigger range.\n",
    "\n",
    "Past Code:\\\n",
    "We want our measuring equipment to decide the timing of the experiment. Past code up to the 5/29/25 PMOS_LDO has checked if the user probe temperature is close to the set value by leaving the wait timer always running, raising it whenever it gets low. After setting the temperature, code has been continually checking the 4th status bit to see if WAIT has started counting down, which occurs whenever the chamber internally checks the user probe against the +/- Trigger variable to see if it is within it.\n",
    "\n",
    "Better approach:\\\n",
    "Easiest fix would be to only set WAIT before each SET, then to put it back to FOREVER after the value is reached. This would continue to use the chamber's internal checks.\\\n",
    "Perhaps the best fix would be to directly query the User probe temperature and then pass it to our own function that checks if it is within a range."
   ]
  },
  {
   "cell_type": "code",
   "execution_count": null,
   "id": "bc6ed9ff-c856-4b10-8807-962d68a67e9c",
   "metadata": {},
   "outputs": [],
   "source": [
    "\n",
    "CHAMBER = establish_connection('GPIB6::6::INSTR', 'STATUS?')\n",
    "Chamber_INIT()"
   ]
  },
  {
   "cell_type": "code",
   "execution_count": null,
   "id": "d49d8c19",
   "metadata": {},
   "outputs": [],
   "source": [
    "TEMP = 30\n",
    "CHAMBER.write(\"WAIT=3\")                                # Resets the wait time of the temp chamber to 30 minutes so it doesn't time out mid test\n",
    "CHAMBER.write(\"SET=\"+str(TEMP))\n",
    "while (CHAMBER.query(\"STATUS?\")[3] == 'N'):             # Checks if the temperature chamber has arrived at TEMP yet or not\n",
    "    time.sleep(15)\n",
    "    print(CHAMBER.query(\"STATUS?\"))  \n",
    "print(CHAMBER.query(\"STATUS?\"))\n",
    "time.sleep(65)"
   ]
  },
  {
   "cell_type": "code",
   "execution_count": null,
   "id": "57f2f6b8",
   "metadata": {},
   "outputs": [
    {
     "ename": "NameError",
     "evalue": "name 'establish_connection' is not defined",
     "output_type": "error",
     "traceback": [
      "\u001b[31m---------------------------------------------------------------------------\u001b[39m",
      "\u001b[31mNameError\u001b[39m                                 Traceback (most recent call last)",
      "\u001b[36mCell\u001b[39m\u001b[36m \u001b[39m\u001b[32mIn[1]\u001b[39m\u001b[32m, line 1\u001b[39m\n\u001b[32m----> \u001b[39m\u001b[32m1\u001b[39m CHAMBER = \u001b[43mestablish_connection\u001b[49m(\u001b[33m'\u001b[39m\u001b[33mGPIB6::6::INSTR\u001b[39m\u001b[33m'\u001b[39m, \u001b[33m'\u001b[39m\u001b[33mSTATUS?\u001b[39m\u001b[33m'\u001b[39m)\n\u001b[32m      2\u001b[39m CHAMBER.write(\u001b[33m\"\u001b[39m\u001b[33mON\u001b[39m\u001b[33m\"\u001b[39m)\n\u001b[32m      3\u001b[39m CHAMBER.write(\u001b[33m\"\u001b[39m\u001b[33mRATE=20\u001b[39m\u001b[33m\"\u001b[39m)            \u001b[38;5;66;03m# Sets the speed at which the chamber will ramp to change TEMP\u001b[39;00m\n",
      "\u001b[31mNameError\u001b[39m: name 'establish_connection' is not defined"
     ]
    }
   ],
   "source": [
    "\n",
    "CHAMBER = establish_connection('GPIB6::6::INSTR', 'STATUS?')\n",
    "CHAMBER.write(\"ON\")\n",
    "CHAMBER.write(\"RATE=20\")            # Sets the speed at which the chamber will ramp to change TEMP\n",
    "CHAMBER.write(\"HON\")                # Turns heat on\n",
    "CHAMBER.write(\"PIDA=3\")             \n",
    "time.sleep(1) \n",
    "\n",
    "print(CHAMBER.query(\"RATE?\"))\n",
    "print(CHAMBER.query(\"WAIT?\"))"
   ]
  },
  {
   "cell_type": "code",
   "execution_count": null,
   "id": "879232af",
   "metadata": {},
   "outputs": [],
   "source": [
    "TEMP = 32\n",
    "CHAMBER.write(\"WAIT=1\")                                # Resets the wait time of the temp chamber to 30 minutes so it doesn't time out mid test\n",
    "CHAMBER.write(\"SET=\"+str(TEMP))\n",
    "while (CHAMBER.query(\"STATUS?\")[3] == 'N'):             # Checks if the temperature chamber has arrived at TEMP yet or not\n",
    "    time.sleep(15)\n",
    "    print(CHAMBER.query(\"STATUS?\"))  \n",
    "print(CHAMBER.query(\"STATUS?\"))\n",
    "time.sleep(75)\n",
    "TEMP = 33\n",
    "#CHAMBER.write(\"WAIT=1\")                                # Resets the wait time of the temp chamber to 30 minutes so it doesn't time out mid test\n",
    "CHAMBER.write(\"SET=\"+str(TEMP))\n",
    "while (CHAMBER.query(\"STATUS?\")[3] == 'N'):             # Checks if the temperature chamber has arrived at TEMP yet or not\n",
    "    time.sleep(15)\n",
    "    print(CHAMBER.query(\"STATUS?\"))  \n",
    "print(CHAMBER.query(\"STATUS?\"))"
   ]
  },
  {
   "cell_type": "code",
   "execution_count": null,
   "id": "5b6f617c",
   "metadata": {},
   "outputs": [],
   "source": [
    "TEMP = 32\n",
    "#CHAMBER.write(\"WAIT=1\")                                # Resets the wait time of the temp chamber to 30 minutes so it doesn't time out mid test\n",
    "CHAMBER.write(\"SET=\"+str(TEMP))\n",
    "while (CHAMBER.query(\"STATUS?\")[3] == 'N'):             # Checks if the temperature chamber has arrived at TEMP yet or not\n",
    "    time.sleep(15)\n",
    "    print(CHAMBER.query(\"STATUS?\"))  \n",
    "print(CHAMBER.query(\"STATUS?\"))\n",
    "time.sleep(5)\n",
    "TEMP = 33\n",
    "#CHAMBER.write(\"WAIT=1\")                                # Resets the wait time of the temp chamber to 30 minutes so it doesn't time out mid test\n",
    "CHAMBER.write(\"SET=\"+str(TEMP))\n",
    "while (CHAMBER.query(\"STATUS?\")[3] == 'N'):             # Checks if the temperature chamber has arrived at TEMP yet or not\n",
    "    time.sleep(15)\n",
    "    print(CHAMBER.query(\"STATUS?\"))  \n",
    "print(CHAMBER.query(\"STATUS?\"))"
   ]
  },
  {
   "cell_type": "code",
   "execution_count": null,
   "id": "690a8319",
   "metadata": {},
   "outputs": [],
   "source": [
    "TEMP = 33\n",
    "CHAMBER.write(\"WAIT=30\")                                # Resets the wait time of the temp chamber to 30 minutes so it doesn't time out mid test\n",
    "CHAMBER.write(\"SET=\"+str(TEMP))\n",
    "while (CHAMBER.query(\"STATUS?\")[3] == 'N'):             # Checks if the temperature chamber has arrived at TEMP yet or not\n",
    "    time.sleep(1)\n",
    "    print(CHAMBER.query(\"STATUS?\"))  \n",
    "print(CHAMBER.query(\"STATUS?\"))\n",
    "time.sleep(10)\n",
    "TEMP = 34\n",
    "#CHAMBER.write(\"WAIT=1\")                                # Resets the wait time of the temp chamber to 30 minutes so it doesn't time out mid test\n",
    "CHAMBER.write(\"SET=\"+str(TEMP))\n",
    "while (CHAMBER.query(\"STATUS?\")[3] == 'N'):             # Checks if the temperature chamber has arrived at TEMP yet or not\n",
    "    time.sleep(15)\n",
    "    print(CHAMBER.query(\"STATUS?\"))  \n",
    "print(CHAMBER.query(\"STATUS?\"))"
   ]
  },
  {
   "cell_type": "code",
   "execution_count": null,
   "id": "126724b2",
   "metadata": {},
   "outputs": [
    {
     "ename": "NameError",
     "evalue": "name 'establish_connection' is not defined",
     "output_type": "error",
     "traceback": [
      "\u001b[31m---------------------------------------------------------------------------\u001b[39m",
      "\u001b[31mNameError\u001b[39m                                 Traceback (most recent call last)",
      "\u001b[36mCell\u001b[39m\u001b[36m \u001b[39m\u001b[32mIn[2]\u001b[39m\u001b[32m, line 1\u001b[39m\n\u001b[32m----> \u001b[39m\u001b[32m1\u001b[39m CHAMBER = \u001b[43mestablish_connection\u001b[49m(\u001b[33m'\u001b[39m\u001b[33mGPIB6::6::INSTR\u001b[39m\u001b[33m'\u001b[39m, \u001b[33m'\u001b[39m\u001b[33mSTATUS?\u001b[39m\u001b[33m'\u001b[39m)\n\u001b[32m      2\u001b[39m CHAMBER.write(\u001b[33m\"\u001b[39m\u001b[33mON\u001b[39m\u001b[33m\"\u001b[39m)\n\u001b[32m      3\u001b[39m CHAMBER.write(\u001b[33m\"\u001b[39m\u001b[33mRATE=20\u001b[39m\u001b[33m\"\u001b[39m)            \u001b[38;5;66;03m# Sets the speed at which the chamber will ramp to change TEMP\u001b[39;00m\n",
      "\u001b[31mNameError\u001b[39m: name 'establish_connection' is not defined"
     ]
    }
   ],
   "source": [
    "CHAMBER = establish_connection('GPIB6::6::INSTR', 'STATUS?')\n",
    "CHAMBER.write(\"ON\")\n",
    "CHAMBER.write(\"RATE=20\")            # Sets the speed at which the chamber will ramp to change TEMP\n",
    "CHAMBER.write(\"HON\")                # Turns heat on\n",
    "CHAMBER.write(\"PIDA=3\")             \n",
    "CHAMBER.write(\"WAIT=FOREV\")\n",
    "time.sleep(1) \n",
    "\n",
    "print(CHAMBER.query(\"RATE?\"))\n",
    "print(CHAMBER.query(\"WAIT?\"))"
   ]
  },
  {
   "cell_type": "code",
   "execution_count": null,
   "id": "35999905",
   "metadata": {},
   "outputs": [],
   "source": [
    "TEMP = 32\n",
    "#CHAMBER.write(\"WAIT=1\")                                # Resets the wait time of the temp chamber to 30 minutes so it doesn't time out mid test\n",
    "CHAMBER.write(\"SET=\"+str(TEMP))\n",
    "while (CHAMBER.query(\"STATUS?\")[3] == 'N'):             # Checks if the temperature chamber has arrived at TEMP yet or not\n",
    "    time.sleep(15)\n",
    "    print(CHAMBER.query(\"STATUS?\"))  \n",
    "print(CHAMBER.query(\"STATUS?\"))\n",
    "time.sleep(5)\n",
    "TEMP = 33\n",
    "#CHAMBER.write(\"WAIT=1\")                                # Resets the wait time of the temp chamber to 30 minutes so it doesn't time out mid test\n",
    "CHAMBER.write(\"SET=\"+str(TEMP))\n",
    "while (CHAMBER.query(\"STATUS?\")[3] == 'N'):             # Checks if the temperature chamber has arrived at TEMP yet or not\n",
    "    time.sleep(15)\n",
    "    print(CHAMBER.query(\"STATUS?\"))  \n",
    "print(CHAMBER.query(\"STATUS?\"))"
   ]
  },
  {
   "cell_type": "markdown",
   "id": "3dde4387",
   "metadata": {},
   "source": [
    "<h4> Solutions </h4>"
   ]
  },
  {
   "cell_type": "code",
   "execution_count": 10,
   "id": "35eb4856",
   "metadata": {},
   "outputs": [
    {
     "name": "stdout",
     "output_type": "stream",
     "text": [
      "GPIBInstrument at GPIB6::6::INSTR\n",
      "NNNNNNNYNNNNNNNNNN0\n",
      "+20.000\n",
      "WAIT=FOREVER    \n"
     ]
    }
   ],
   "source": [
    "CHAMBER = establish_connection('GPIB6::6::INSTR', 'STATUS?')\n",
    "CHAMBER.write(\"ON\")\n",
    "CHAMBER.write(\"RATE=20\")            # Sets the speed at which the chamber will ramp to change TEMP\n",
    "CHAMBER.write(\"COFF\")               # Turns cold off\n",
    "CHAMBER.write(\"HON\")                # Turns heat on\n",
    "CHAMBER.write(\"PIDA=3\")             \n",
    "CHAMBER.write(\"WAIT=FOREV\")\n",
    "time.sleep(1) \n",
    "\n",
    "print(CHAMBER.query(\"RATE?\"))\n",
    "print(CHAMBER.query(\"WAIT?\"))"
   ]
  },
  {
   "cell_type": "code",
   "execution_count": null,
   "id": "dc1f5cf7",
   "metadata": {},
   "outputs": [
    {
     "name": "stdout",
     "output_type": "stream",
     "text": [
      "YNNNYNYNNNNNNNNNNN0\n",
      "YNNYYNYYNNNNNNNNNN0\n",
      "YNNYYNYYNNNNNNNNNN0\n"
     ]
    }
   ],
   "source": [
    "# For some reason, even after changing wait to forever (and the chamber displaying it as such) the time out beep still sounded after 1 minute had elapsed. \n",
    "# Inconsistent behavior\n",
    "\n",
    "TEMP = 18\n",
    "CHAMBER.write(\"WAIT=1\")\n",
    "CHAMBER.write(f\"SET={TEMP}\")\n",
    "while (CHAMBER.query(\"STATUS?\")[3] == 'N'):  # Checks if the temperature chamber has arrived at TEMP yet or not\n",
    "    time.sleep(10)\n",
    "    print(CHAMBER.query(\"STATUS?\"))\n",
    "CHAMBER.write(\"WAIT=FOREV\")\n",
    "print(CHAMBER.query(\"STATUS?\"))"
   ]
  },
  {
   "cell_type": "code",
   "execution_count": null,
   "id": "888a572f",
   "metadata": {},
   "outputs": [
    {
     "name": "stdout",
     "output_type": "stream",
     "text": [
      "+19.657\n",
      "+19.920\n",
      "YNNNYNYYNNNNNNNNNN0\n",
      "+20.61\n",
      "+20.87\n",
      "YNNNYNYYNNNNNNNNNN0\n",
      "+21.52\n",
      "+21.86\n",
      "YNNNYNYYNNNNNNNNNN0\n"
     ]
    }
   ],
   "source": [
    "# Works great - we should do this always\n",
    "\n",
    "TEMPS = [20, 21, 22]\n",
    "SET_PRECISION = .15\n",
    "for TEMP in TEMPS:\n",
    "    CHAMBER.write(f\"SET={TEMP}\")\n",
    "    while(True):\n",
    "        time.sleep(10)\n",
    "        user_probe_temp = CHAMBER.query(\"USER?\")\n",
    "        print(user_probe_temp)\n",
    "        if ((float(user_probe_temp) < TEMP+SET_PRECISION) and (float(user_probe_temp) > TEMP-SET_PRECISION)):\n",
    "            break\n",
    "    print(CHAMBER.query(\"STATUS?\"))"
   ]
  }
 ],
 "metadata": {
  "kernelspec": {
   "display_name": "Python 3",
   "language": "python",
   "name": "python3"
  },
  "language_info": {
   "codemirror_mode": {
    "name": "ipython",
    "version": 3
   },
   "file_extension": ".py",
   "mimetype": "text/x-python",
   "name": "python",
   "nbconvert_exporter": "python",
   "pygments_lexer": "ipython3",
   "version": "3.13.3"
  }
 },
 "nbformat": 4,
 "nbformat_minor": 5
}
