{
 "cells": [
  {
   "cell_type": "markdown",
   "id": "71d4ed55-c266-4c68-a44a-016dbe0c9fb5",
   "metadata": {},
   "source": [
    "<h2> Infrastructure </h2>"
   ]
  },
  {
   "cell_type": "code",
   "execution_count": 1,
   "id": "8d483129-87f9-46d1-8315-21eb84d3b33d",
   "metadata": {},
   "outputs": [],
   "source": [
    "# Created by Shawn\n",
    "# Tests odds and ends more related to general python funtionality, interfacing with meters, etc. Want to store\n",
    "# Most of the infrastructure is taken from the PMOS_LDO code on 5/26/25\n",
    "import pyvisa                    # Instrument communication\n",
    "import time                      # Handle time-related tasks (e.g., delays)\n",
    "import matplotlib.pyplot as plt  # Plotting graphs and visualizing data\n",
    "import numpy as np               # Numerical operations, particularly with arrays\n",
    "import pandas as pd              # Data manipulation and analysis\n",
    "import os                        # Interact with the operating system, such as handling file paths\n",
    "import csv                       # Read from and write to CSV files\n",
    "from datetime import date        # Read current date\n",
    "from collections import defaultdict"
   ]
  },
  {
   "cell_type": "code",
   "execution_count": 2,
   "id": "c651a9eb",
   "metadata": {},
   "outputs": [],
   "source": [
    "# Determine the appropriate scaling for generated plots in Engineering Notation\n",
    "def scale(list):\n",
    "    array = np.asarray(list, dtype='float') # Python's lists don't support multiplication by a float. Numpy's arrays do.\n",
    "    if np.max(np.abs(array)) < 1e-9:\n",
    "        k = 1e12\n",
    "    elif np.max(np.abs(array)) < 1e-6:\n",
    "        k = 1e9\n",
    "    elif np.max(np.abs(array)) < 1e-3:\n",
    "        k = 1e6\n",
    "    elif np.max(np.abs(array)) < 1:\n",
    "        k = 1e3\n",
    "    else:\n",
    "        k = 1\n",
    "    \n",
    "    return k*array # Return the scaled array\n",
    "\n",
    "# Determine the appropriate prefix for arrays that use scale(). \n",
    "# PASS THE ORIGINAL LIST, NOT THE SCALED\n",
    "def prefix(list):\n",
    "    array = np.asarray(list, dtype='float')\n",
    "    if np.max(np.abs(array)) < 1e-9:\n",
    "        k = 1e12\n",
    "        prefix = 'p'\n",
    "    elif np.max(np.abs(array)) < 1e-6:\n",
    "        k = 1e9\n",
    "        prefix = 'n'\n",
    "    elif np.max(np.abs(array)) < 1e-3:\n",
    "        k = 1e6\n",
    "        prefix = 'µ'\n",
    "    elif np.max(np.abs(array)) < 1:\n",
    "        k = 1e3\n",
    "        prefix = 'm'\n",
    "    else:\n",
    "        k = 1\n",
    "        prefix = ''\n",
    "\n",
    "    return prefix"
   ]
  },
  {
   "cell_type": "code",
   "execution_count": 14,
   "id": "4cf02534-4df7-4a13-a14d-869757380abe",
   "metadata": {},
   "outputs": [
    {
     "data": {
      "text/plain": [
       "('ASRL3::INSTR',\n",
       " 'ASRL4::INSTR',\n",
       " 'GPIB6::6::INSTR',\n",
       " 'USB0::0x0957::0x0607::MY45002108::0::INSTR',\n",
       " 'USB0::0x0957::0x1796::MY57231548::0::INSTR',\n",
       " 'USB0::0x0957::0x1796::MY57231553::0::INSTR',\n",
       " 'USB0::0x0957::0x17B6::MY56310504::0::INSTR',\n",
       " 'USB0::0x0957::0x2C07::MY57890777::0::INSTR',\n",
       " 'USB0::0x0957::0x5707::MY53802060::0::INSTR',\n",
       " 'USB0::0x2A8D::0x0101::MY54505624::0::INSTR',\n",
       " 'USB0::0x2A8D::0x0101::MY57508183::0::INSTR')"
      ]
     },
     "execution_count": 14,
     "metadata": {},
     "output_type": "execute_result"
    }
   ],
   "source": [
    "rm = pyvisa.ResourceManager()    # Create a ResourceManager object, which manages communication with instruments\n",
    "rm.list_resources()              # List all available resources (e.g., connected instruments) managed by pyvisa"
   ]
  },
  {
   "cell_type": "code",
   "execution_count": 4,
   "id": "e3190461-394d-4867-ad81-4afe753a948c",
   "metadata": {},
   "outputs": [],
   "source": [
    "# If running for the first time, ensure the equipment names are correctly referenced\n",
    "\n",
    "def establish_connection(address, query):\n",
    "    instrument = rm.open_resource(address)   # Open a connection to the instrument with the address and assign it to SM_VIN\n",
    "    instrument.read_termination = '\\n'       # Set the read termination character to a newline. This tells pyvisa when to consider a message as complete when reading from the instrument.\n",
    "    instrument.write_termination = '\\n'      # Set the write termination character to a newline. This ensures that each command sent to the instrument is properly terminated.\n",
    "    instrument.baud_rate = 9600              # Set the baud rate for serial communication to 9600. This is the speed at which data is transmitted over the serial connection.\n",
    "    print(instrument)                        # Print the resource object to display its properties\n",
    "    print(instrument.query(query))           # Send the query to the instrument and print its response. This command usually asks the instrument to identify itself (e.g., manufacturer, model number).\n",
    "    return instrument"
   ]
  },
  {
   "cell_type": "code",
   "execution_count": 6,
   "id": "9f8be9f2",
   "metadata": {},
   "outputs": [
    {
     "name": "stdout",
     "output_type": "stream",
     "text": [
      "GPIBInstrument at GPIB6::6::INSTR\n",
      "NNNNNNNYNNNNNNNNNN0\n"
     ]
    }
   ],
   "source": [
    "# SM_VIN = establish_connection('GPIB6::20::INSTR', '*IDN?') # Also measures current through VIN\n",
    "# MM_VOUT = establish_connection('USB0::10893::257::MY57508183::0::INSTR', '*IDN?')\n",
    "# MM_VDROP = establish_connection('USB0::0x2A8D::0x0101::MY54505624::INSTR', '*IDN?')\n",
    "# WG_VREF_VISET = establish_connection('USB0::2391::22279::MY53802060::0::INSTR', '*IDN?')\n",
    "CHAMBER = establish_connection('GPIB6::6::INSTR', 'STATUS?')"
   ]
  },
  {
   "cell_type": "code",
   "execution_count": 7,
   "id": "b7fbf360",
   "metadata": {},
   "outputs": [
    {
     "name": "stdout",
     "output_type": "stream",
     "text": [
      "VIN: [1.8   1.775 1.75  1.725 1.7   1.675 1.65  1.625 1.6   1.575 1.55  1.525\n",
      " 1.5   1.475 1.45  1.425 1.4   1.375 1.35  1.325 1.3   1.275 1.25  1.225\n",
      " 1.2   1.175 1.15  1.125 1.1   1.075 1.05  1.025 1.   ]\n",
      "VREF: [np.float64(0.85), np.float64(0.8), np.float64(0.75), np.float64(0.7), np.float64(0.65), np.float64(0.6), np.float64(0.55), np.float64(0.5), np.float64(0.45), np.float64(0.4), np.float64(0.35), np.float64(0.3)]\n",
      "[ 0.1  0.3  0.5  1.   2.   3.   4.   5.   6.   7.   8.   9.  10. ]\n"
     ]
    }
   ],
   "source": [
    "DEVICE_NAME = \"PMOS_LDO\" # Global directory\n",
    "SET_PRECISION = .15 # This determines how close the probe's temperature needs to get to the SET value before soak time begins \n",
    "\n",
    "# Circuit Values\n",
    "Rhi = 264.3\n",
    "Rlo = 68000\n",
    "\n",
    "# Desired Values (used for calcs)\n",
    "IL_default = .003\n",
    "VREF_default = .8\n",
    "\n",
    "#Sweeps\n",
    "VIN_MAX = 1.8\n",
    "VIN_STEP = -.025\n",
    "VIN_MIN = 1\n",
    "# Full VIN list isn't created until the tests, since the minimum value will change.\n",
    "print(\"VIN: \" + str(np.arange(VIN_MAX, VIN_MIN+VIN_STEP, VIN_STEP)))\n",
    "\n",
    "VREF_MAX = .85\n",
    "VREF_STEP = -.05\n",
    "VREF_MIN = .3\n",
    "VREFlist_unrounded = np.arange(VREF_MAX, VREF_MIN+VREF_STEP, VREF_STEP) # Adding the step to the second argument will include its value in the sweep.\n",
    "VREFlist = [round(VREF, 5) for VREF in VREFlist_unrounded] #If you don't round after arange() it'll display the floats with the precision they're stored with. i.e. 2 -> 1.99999999999999995\n",
    "print(\"VREF: \" + str(VREFlist))\n",
    "\n",
    "TEMPlist = [125, 100, 75, 50, 25,  0, -25, -50, -75, -100, -125, -150, -175]\n",
    "\n",
    "ILlist = [100E-6, 300E-6, 500E-6, 1E-3, 2E-3, 3E-3, 4E-3, 5E-3, 6E-3, 7E-3, 8E-3, 9E-3, 10E-3]\n",
    "ILlistmA = scale(ILlist)\n",
    "print(ILlistmA)"
   ]
  },
  {
   "cell_type": "code",
   "execution_count": 8,
   "id": "3d8168c0-7d6d-4970-ae39-c9437e034525",
   "metadata": {},
   "outputs": [],
   "source": [
    "####### Temperature Chamber #######\n",
    "\n",
    "def Chamber_INIT():\n",
    "    CHAMBER.write(\"ON\")\n",
    "    CHAMBER.write(\"RATE=20\")            # Sets the speed at which the chamber will ramp to change TEMP\n",
    "    CHAMBER.write(\"WAIT=30\")            # Sets the time that the chamber will wait once the desired temperature is reached before measurements start\n",
    "    CHAMBER.write(\"HON\")                # Turns heat on\n",
    "    CHAMBER.write(\"CON\")                # Turns cool on\n",
    "    CHAMBER.write(\"PIDA=3\")             # No clue what this does - Shawn\n",
    "    time.sleep(1) \n",
    "\n",
    "    print(CHAMBER.query(\"RATE?\"))\n",
    "    print(CHAMBER.query(\"WAIT?\"))\n",
    "\n",
    "####### SMU #######\n",
    "\n",
    "# TODO: Leading Colons? - Shawn\n",
    "def SMU_INIT(SM):\n",
    "    SM.write(\":CONF:CURR\")                  # Configure the SMU to measure current\n",
    "    SM.write(\"OUTP:STAT 0\")                 # Turn off the VIN source meter\n",
    "    SM.write(\"SOUR:VOLT:RANG 1.8\")\n",
    "    SM.write(\"SENS:CURR:PROT:LEV 0.0105\")   # Set the current protection level (compliance) to 10.5 mA. This limits the maximum current to protect the device under test.\n",
    "    SM.write(\"SENS:CURR:RANG 1E-2\")         # Set the current measurement range to 10 mA. This sets the expected maximum current for accurate measurement.\n",
    "    SM.timeout = 100000                     # Set the timeout for the SMU operations to 100,000 milliseconds (100 seconds).\n",
    "    SM.write(\"CURR:NPLC 10\")\n",
    "    SM.write(\"SYST:BEEP:STAT OFF\")           # Turn off the beeper on the SMU\n",
    "\n",
    "def SMU_On(SM, val):\n",
    "    SM.write(\":SOUR:VOLT:MODE FIX\")\n",
    "    SM.write(\"SOUR:VOLT:LEV \"+str(val))\n",
    "    SM.write(\"OUTP ON\")\n",
    "\n",
    "def SMU_Off(SM):\n",
    "    SM.write(\"SOUR:VOLT:LEV 0\")\n",
    "    SM.write(\"OUTP:STAT 0\")\n",
    "\n",
    "####### MM #######\n",
    "\n",
    "def MM_INIT(MM):\n",
    "    MM.write(\":CONF:VOLT:DC\")\n",
    "    MM.write(\"VOLT:DC:RANG 10\")\n",
    "    MM.write(\"VOLT:NPLC 10\")\n",
    "\n",
    "####### WG #######\n",
    "\n",
    "def WG_INIT(WG):\n",
    "    WG.write(\"OUTP1:LOAD DEF\")          # Sets the output load to infinite so no impedance matching is necessary\n",
    "    WG.write(\"OUTP2:LOAD DEF\")\n",
    "    WG.write(\"SOUR1:APPL:DC\")          # Sets the Waveform generator to output a DC voltage\n",
    "    WG.write(\"SOUR2:APPL:DC\")          # Sets the Waveform generator to output a DC voltage\n",
    "\n",
    "def WG_On(WG, channel, val):\n",
    "    if (channel != 1 and channel != 2):\n",
    "        print(\"Invalid channel\")\n",
    "        return -1\n",
    "    WG.write(f\"SOUR{channel}:APPL:DC DEF, DEF, {val}\")\n",
    "    WG.write(f\"OUTP{channel}:STAT 1\")\n",
    "\n",
    "def WG_Off(WG, channel):\n",
    "    if (channel != 1 and channel != 2):\n",
    "        print(\"Invalid channel\")\n",
    "        return -1\n",
    "    WG.write(f\"SOUR{channel}:APPL:DC DEF, DEF, 0\")\n",
    "    WG.write(f\"OUTP{channel}:STAT 0\")\n",
    "\n",
    "####### Groupings #######\n",
    "# Do not affect temperature chamber\n",
    "\n",
    "def initialize_all():\n",
    "    SMU_INIT(SM_VIN)\n",
    "    MM_INIT(MM_VOUT)\n",
    "    MM_INIT(MM_VDROP)\n",
    "    WG_INIT(WG_VREF_VISET) \n",
    "\n",
    "def turn_on_all():\n",
    "    #TODO: TURN ON VREF BEFORE VIN? -Lang\n",
    "    WG_On(WG_VREF_VISET, 1, VREF_default)\n",
    "    SMU_On(SMU_VIN, 1.8)            # Turn on the VIN source meter output\n",
    "    time.sleep(.5)\n",
    "    VISET = -Rhi*(IL_default-VREF_default/Rlo) + VREF_default\n",
    "    WG_On(WG_VREF_VISET, 2, VISET)  # Turn on the WG for VISET to set IL to default for the first VREF so that it can warm up while CHAMBER starts\n",
    "\n",
    "def turn_off_all():\n",
    "    WG_Off(WG_VREF_VISET, 2)    # Turn off VISET first!!!\n",
    "    time.sleep(.5)\n",
    "    SMU_Off(SM_VIN)             # Turn off the VIN source meter\n",
    "    WG_Off(WG_VREF_VISET, 1)    # Turn off VREF"
   ]
  },
  {
   "cell_type": "code",
   "execution_count": 9,
   "id": "31ce0864-3e9b-4c7f-9f12-8812dd63364b",
   "metadata": {},
   "outputs": [],
   "source": [
    "def start_plot(title, xlabel, ylabel):\n",
    "    # Create a color map for the plots\n",
    "    cm=plt.get_cmap('gist_rainbow')\n",
    "\n",
    "    # Apply default parameters that are shared by all plots. Any property can be changed afterwards if needed.\n",
    "    fig, plot = plt.subplots(layout='constrained')\n",
    "    plot.set_title(title, fontdict={'fontsize': 16, 'fontweight': 'bold'}, y = 1.03)\n",
    "    plot.set_xlabel(xlabel, fontdict={'fontsize': 12})\n",
    "    plot.set_ylabel(ylabel, fontdict={'fontsize': 12})\n",
    "    plot.tick_params(axis='both', which='major', labelsize=10)\n",
    "    plot.set_prop_cycle ('color', [cm(1.*i/len(TEMPlist)) for i in range(len(TEMPlist))])\n",
    "    plot.grid()\n",
    "    return fig, plot\n",
    "\n",
    "def finish_plot(plot, fig, directory, name, legend=True, close=True):\n",
    "    if (legend):\n",
    "        for line in plot.legend(bbox_to_anchor=(1.02, 1), loc='upper left').get_lines(): # Creates legend\n",
    "            line.set_linewidth(2.5) # Changes widths of the legend's example lines, NOT the actual lines on the plot\n",
    "    if (close):\n",
    "        plt.close(fig)\n",
    "    fig.savefig(os.path.join(directory, name))"
   ]
  },
  {
   "cell_type": "markdown",
   "id": "a3a36b40",
   "metadata": {},
   "source": [
    "<h2> Equipment / Basic Python Functionality </h2>"
   ]
  },
  {
   "cell_type": "markdown",
   "id": "d3c7b8b7-8080-443e-8e1c-f6ad2bde9296",
   "metadata": {},
   "source": [
    "<h3> Querying Meters </h3>"
   ]
  },
  {
   "cell_type": "code",
   "execution_count": 6,
   "id": "9ee081e8-a30a-474a-b519-4a7de615d047",
   "metadata": {},
   "outputs": [
    {
     "name": "stdout",
     "output_type": "stream",
     "text": [
      "\"VOLT +1.00000000E+01,+1.00000000E-06\"\n",
      "-8.07441179E-07\n",
      "\"VOLT +1.00000000E+01,+1.00000000E-06\"\n",
      "-1.86252092E-06\n"
     ]
    }
   ],
   "source": [
    "# Test Multimeters\n",
    "MM_INIT(MM_VOUT)\n",
    "print(MM_VOUT.query(\":CONF?\"))\n",
    "print(MM_VOUT.query(\":READ?\"))\n",
    "\n",
    "MM_INIT(MM_VDROP)\n",
    "print(MM_VDROP.query(\":CONF?\"))\n",
    "print(MM_VDROP.query(\":READ?\"))"
   ]
  },
  {
   "cell_type": "code",
   "execution_count": null,
   "id": "e6539706-d0ee-44e4-9017-f750aa804088",
   "metadata": {},
   "outputs": [],
   "source": [
    "# Test SourceMeter\n",
    "SMU_INIT(SM)\n",
    "print(SM_VIN.query(\":CONF?\"))"
   ]
  },
  {
   "cell_type": "code",
   "execution_count": null,
   "id": "744e97e7-1f7a-436e-9387-5a422e249701",
   "metadata": {},
   "outputs": [],
   "source": [
    "# Test Waveform Generator?\n",
    "WG_INIT(WG_VREF_VISET)\n",
    "print(WG_VREF_VISET.query(\":CONF?\")) # Untested - Shawn"
   ]
  },
  {
   "cell_type": "markdown",
   "id": "1988578c-4b8f-4211-8da7-fff3b1fb88d7",
   "metadata": {},
   "source": [
    "<h3> Turning equipment on, then off, step-by-step </h3>"
   ]
  },
  {
   "cell_type": "code",
   "execution_count": null,
   "id": "43fc608f-f578-4eb7-8e0e-c0026263ef0c",
   "metadata": {},
   "outputs": [],
   "source": [
    "# Start by running through turn on function, one by one\n",
    "WG.write(\"SOUR1:APPL:DC DEF, DEF, \" + str(VREF_default)) # Sets VREF to default value"
   ]
  },
  {
   "cell_type": "code",
   "execution_count": null,
   "id": "0c686d30-c21f-4edc-ba44-3c32afbdce81",
   "metadata": {},
   "outputs": [],
   "source": [
    "WG.write(\"OUTP1:STAT 1\")"
   ]
  },
  {
   "cell_type": "code",
   "execution_count": null,
   "id": "46d2fb73-227f-4b91-8d74-269f5a0419ff",
   "metadata": {},
   "outputs": [],
   "source": [
    "SM_VIN.write(\"SOUR:VOLT:LEV 1.8\")                        # Set VIN source value"
   ]
  },
  {
   "cell_type": "code",
   "execution_count": null,
   "id": "4c850701-225d-4247-959b-5068aa952c65",
   "metadata": {},
   "outputs": [],
   "source": [
    "SM_VIN.write(\"OUTP:STAT 1\")                              # Turn on the VIN source meter output"
   ]
  },
  {
   "cell_type": "code",
   "execution_count": null,
   "id": "a5551368-2fb3-4aeb-9271-4c1781cfb9ae",
   "metadata": {},
   "outputs": [],
   "source": [
    "VISET = -Rhi*(IL_default-VREF_default/Rlo) + VREF_default\n",
    "WG.write(\"SOUR2:APPL:DC DEF, DEF,\" + str(VISET))         # Turn on the WG for VISET to set IL to default for the first VREF so that it can warm up while CHAMBER starts"
   ]
  },
  {
   "cell_type": "code",
   "execution_count": null,
   "id": "bb0b1b7a-cc0c-410e-835c-5d9d6a030654",
   "metadata": {},
   "outputs": [],
   "source": [
    "WG.write(\"OUTP2:STAT 1\")"
   ]
  },
  {
   "cell_type": "code",
   "execution_count": null,
   "id": "fbc6d33a-fedf-4cfe-a801-8b14d29114f9",
   "metadata": {},
   "outputs": [],
   "source": [
    "# Now run through turn off function, one by one\n",
    "WG.write(\"SOUR2:APPL:DC DEF, DEF, 0\")                    # Turn off VISET first!!!"
   ]
  },
  {
   "cell_type": "code",
   "execution_count": null,
   "id": "f7ae0267-895c-4b10-8f03-4eb4e74cb9f5",
   "metadata": {},
   "outputs": [],
   "source": [
    "WG.write(\"OUTP2:STAT 0\")"
   ]
  },
  {
   "cell_type": "code",
   "execution_count": null,
   "id": "60ec12dd-9650-41f0-8e81-41c681e21ed8",
   "metadata": {},
   "outputs": [],
   "source": [
    "SM_VIN.write(\"OUTP:STAT 0\")                              # Turn off the VIN source meter"
   ]
  },
  {
   "cell_type": "code",
   "execution_count": null,
   "id": "3c889ad0-625c-4286-9ff1-76de36c5aa0b",
   "metadata": {},
   "outputs": [],
   "source": [
    "WG.write(\"SOUR1:APPL:DC DEF, DEF, 0\")"
   ]
  },
  {
   "cell_type": "code",
   "execution_count": null,
   "id": "1f16a54a-2059-4061-9a20-9b4ded263df8",
   "metadata": {},
   "outputs": [],
   "source": [
    "WG.write(\"OUTP1:STAT 0\")"
   ]
  },
  {
   "cell_type": "code",
   "execution_count": null,
   "id": "8de76145-53ba-4084-ab2a-faca99a3876f",
   "metadata": {},
   "outputs": [],
   "source": [
    "# Now turn all on at once\n",
    "turn_on_all()"
   ]
  },
  {
   "cell_type": "code",
   "execution_count": null,
   "id": "465c1ec2-3d1a-48e5-972d-0275dd7e046d",
   "metadata": {},
   "outputs": [],
   "source": [
    "# Now turn all off at once\n",
    "turn_off_all()"
   ]
  },
  {
   "cell_type": "markdown",
   "id": "8d959a16-c7ce-4cd0-9c4f-d6504f9d73ce",
   "metadata": {},
   "source": [
    "<h3> Plotting from a CSV file </h3>"
   ]
  },
  {
   "cell_type": "code",
   "execution_count": 44,
   "id": "72ba698c-bcbd-4d42-bd7a-b2a849cefd80",
   "metadata": {},
   "outputs": [
    {
     "name": "stdout",
     "output_type": "stream",
     "text": [
      "    VIN      ITOT      VOUT     VDROP\n",
      "0   3.3  0.003156  2.004321  1.019477\n",
      "1   3.2  0.003146  2.004348  1.019479\n",
      "2   3.1  0.003134  2.004458  1.019478\n",
      "3   3.0  0.003114  1.961123  1.015305\n",
      "4   2.9  0.002848  1.935660  1.019477\n",
      "5   2.8  0.002546  1.837066  1.019516\n",
      "6   2.7  0.002242  1.738515  1.019515\n",
      "7   2.6  0.001939  1.640175  1.019498\n",
      "8   2.5  0.001637  1.542123  1.019472\n",
      "9   2.4  0.001336  1.444472  1.019486\n",
      "10  2.3  0.001037  1.347287  1.019520\n",
      "11  2.2  0.000740  1.251078  1.019523\n",
      "12  2.1  0.000449  1.156481  1.019550\n",
      "13  2.0  0.000173  1.067286  1.019569\n",
      "         IL      ITOT      VOUT     VDROP\n",
      "0   0.00005  0.000232  2.004426  1.988315\n",
      "1   0.00010  0.000281  2.004432  1.971732\n",
      "2   0.00030  0.000479  2.004419  1.905813\n",
      "3   0.00050  0.000678  2.004374  1.840175\n",
      "4   0.00100  0.001173  2.004371  1.675866\n",
      "5   0.00200  0.002165  2.004361  1.347481\n",
      "6   0.00300  0.003156  2.004347  1.019362\n",
      "7   0.00400  0.004148  2.004393  0.691059\n",
      "8   0.00500  0.005141  2.004412  0.362809\n",
      "9   0.00600  0.006135  2.004348  0.033902\n",
      "10  0.00700  0.007125  2.004394 -0.293716\n",
      "11  0.00800  0.008117  2.004397 -0.621743\n",
      "12  0.00900  0.009109  2.004406 -0.949812\n",
      "13  0.01000  0.010100  2.004472 -1.277846\n"
     ]
    },
    {
     "data": {
      "image/png": "[encoded data removed]",
      "text/plain": [
       "<Figure size 640x480 with 1 Axes>"
      ]
     },
     "metadata": {},
     "output_type": "display_data"
    },
    {
     "data": {
      "image/png": "[encoded data removed]",
      "text/plain": [
       "<Figure size 640x480 with 1 Axes>"
      ]
     },
     "metadata": {},
     "output_type": "display_data"
    }
   ],
   "source": [
    "# Plotting from a CSV File\n",
    "TEMPlist = [125, 100, 75, 50, 25,  0, -25, -50, -75, -100, -125, -150, -175]\n",
    "ILlist = [100E-6, 300E-6, 500E-6, 1E-3, 2E-3, 3E-3, 4E-3, 5E-3, 6E-3, 7E-3, 8E-3, 9E-3, 10E-3]\n",
    "ILlistmA= [num * 1000 for num in ILlist]\n",
    "VREF = 2\n",
    "VIN_MIN = 2\n",
    "LineRfig, LineRplot = start_plot('Line Regulation at T=-175 °C', 'Vin (V)', 'Vout (V)')\n",
    "new_MIN = max(VIN_MIN, VREF)\n",
    "LineRplot.set_xticks(np.arange(new_MIN, 3.3, 0.2))\n",
    "LineRplot.set_xlim(2, 3.3)\n",
    "\n",
    "# Load regulation plot\n",
    "LoadRfig, LoadRplot = start_plot('Load Regulation at T=-175 °C', 'IL (mA)', 'Vout (V)')\n",
    "LoadRplot.set_xticks(np.arange(-1, 11, 1))\n",
    "LoadRplot.set_xlim(0, ILlistmA[-1])\n",
    "\n",
    "VIN_df = pd.read_csv(r\"NPN_LVR_Results\\2025-05-10\\DUT_1\\TEMP_-175\\VIN_Sweep_VREF=2.0.csv\")\n",
    "IL_df = pd.read_csv(r\"NPN_LVR_Results\\2025-05-10\\DUT_1\\TEMP_-175\\IL_Sweep_VREF=2.0.csv\")\n",
    "\n",
    "print(VIN_df)\n",
    "print(IL_df)\n",
    "\n",
    "ILlistc = [100E-6, 300E-6, 500E-6, 1E-3, 2E-3, 3E-3, 4E-3, 5E-3, 6E-3, 7E-3, 8E-3, 9E-3, 10E-3,1]\n",
    "ILlistmAc = [num * 1000 for num in ILlistc]\n",
    "\n",
    "LineRplot.plot(VIN_df['VIN'], VIN_df['VOUT'], label=\"VREF=\"+str(VREF)+\" V\")\n",
    "LoadRplot.plot(ILlistmAc, IL_df['VOUT'], label=\"VREF=\"+str(VREF)+\" V\")\n",
    "\n",
    "#Use these two lines to get rid of offset\n",
    "#from matplotlib.ticker import ScalarFormatter\n",
    "#LoadRplot.yaxis.set_major_formatter(ScalarFormatter(useOffset=False)) \n",
    "\n",
    "os.makedirs(\"tmp\", exist_ok=True)\n",
    "finish_plot(LineRplot, LineRfig, \"tmp\", \"Line_Regulation_\"+str(VREF)+\"V.png\", close=False)\n",
    "finish_plot(LoadRplot, LoadRfig, \"tmp\", \"Load_Regulation_\"+str(VREF)+\"V.png\", close=False)\n",
    "\n",
    "plt.show()"
   ]
  },
  {
   "cell_type": "markdown",
   "id": "fb4e51fa-977f-4932-8bd6-28cd17af7e13",
   "metadata": {},
   "source": [
    "<h3> Changing start_plot()'s defaults after calling it </h3>"
   ]
  },
  {
   "cell_type": "code",
   "execution_count": 45,
   "id": "e2b27ec5-5099-44cb-8963-d0eca456e8f6",
   "metadata": {},
   "outputs": [
    {
     "name": "stdout",
     "output_type": "stream",
     "text": [
      "    VIN      ITOT      VOUT     VDROP\n",
      "0   3.3  0.003156  2.004321  1.019477\n",
      "1   3.2  0.003146  2.004348  1.019479\n",
      "2   3.1  0.003134  2.004458  1.019478\n",
      "3   3.0  0.003114  1.961123  1.015305\n",
      "4   2.9  0.002848  1.935660  1.019477\n",
      "5   2.8  0.002546  1.837066  1.019516\n",
      "6   2.7  0.002242  1.738515  1.019515\n",
      "7   2.6  0.001939  1.640175  1.019498\n",
      "8   2.5  0.001637  1.542123  1.019472\n",
      "9   2.4  0.001336  1.444472  1.019486\n",
      "10  2.3  0.001037  1.347287  1.019520\n",
      "11  2.2  0.000740  1.251078  1.019523\n",
      "12  2.1  0.000449  1.156481  1.019550\n",
      "13  2.0  0.000173  1.067286  1.019569\n"
     ]
    },
    {
     "data": {
      "image/png": "[encoded data removed]",
      "text/plain": [
       "<Figure size 640x480 with 1 Axes>"
      ]
     },
     "metadata": {},
     "output_type": "display_data"
    }
   ],
   "source": [
    "TEMPlist = [125, 100, 75, 50, 25,  0, -25, -50, -75, -100, -125, -150, -175]\n",
    "VREF = 2\n",
    "VIN_MIN = 2\n",
    "\n",
    "# Default plot settings\n",
    "LineRfig, LineRplot = start_plot('Line Regulation at T=-175 °C', 'Vin (V)', 'Vout (V)')\n",
    "new_MIN = max(VIN_MIN, VREF)\n",
    "\n",
    "# No defaults for these right now\n",
    "LineRplot.set_xticks(np.arange(new_MIN, 3.3, 0.2))\n",
    "LineRplot.set_xlim(2, 3.3)\n",
    "\n",
    "# Changing defaults\n",
    "LineRplot.set_title('New_title', fontdict={'fontsize': 8, 'fontweight': 'bold'}, y = .5)\n",
    "LineRplot.set_xlabel('New_x', fontdict={'fontsize': 6})\n",
    "LineRplot.set_ylabel('New_y', fontdict={'fontsize': 6})\n",
    "LineRplot.tick_params(axis='both', which='major', labelsize=20)\n",
    "cm_new = plt.get_cmap('copper')\n",
    "LineRplot.set_prop_cycle ('color', [cm_new(1.*i/len(TEMPlist)) for i in range(len(TEMPlist))])\n",
    "LineRplot.grid(False)\n",
    "\n",
    "VIN_df = pd.read_csv(r\"NPN_LVR_Results\\2025-05-10\\DUT_1\\TEMP_-175\\VIN_Sweep_VREF=2.0.csv\")\n",
    "print(VIN_df)\n",
    "LineRplot.plot(VIN_df['VIN'], VIN_df['VOUT'], label=\"VREF=\"+str(VREF)+\" V\")\n",
    "\n",
    "os.makedirs(\"tmp\", exist_ok=True)\n",
    "finish_plot(LineRplot, LineRfig, \"tmp\", \"Line_Regulation_tmp_\"+str(VREF)+\"V.png\", close=False)\n",
    "plt.show()\n",
    "\n",
    "# Yep, looks like you can change all of these. Good to know. \n",
    "# Obviously not the finish_plot() legend settings."
   ]
  },
  {
   "cell_type": "markdown",
   "id": "9a29e220",
   "metadata": {},
   "source": [
    "<h3> Adding trailing zeros in file names so they sort Correctly </h3>"
   ]
  },
  {
   "cell_type": "code",
   "execution_count": null,
   "id": "e710baeb",
   "metadata": {},
   "outputs": [
    {
     "name": "stdout",
     "output_type": "stream",
     "text": [
      "VIN_Sweep_VREF=0.6.csv\n",
      "VIN_Sweep_VREF=0.6.csv\n",
      "VIN_Sweep_VREF=0.60.csv\n"
     ]
    }
   ],
   "source": [
    "# Adding trailing zeros\n",
    "VREF = .6\n",
    "print(f\"VIN_Sweep_VREF={VREF}.csv\")\n",
    "print(f\"VIN_Sweep_VREF={round(VREF, 2)}.csv\")\n",
    "print(f\"VIN_Sweep_VREF={VREF:.2f}.csv\")\n",
    "# This makes files sort in the correct order. \n",
    "# Without it, .9 comes before .15, because Operating Systems will see 9 < 15\n",
    "# Now they'll see 90 > 15, and it will be listed afterwards"
   ]
  },
  {
   "cell_type": "markdown",
   "id": "7e67b472",
   "metadata": {},
   "source": [
    "<h3> Sun Chamber Wait Time </h3>"
   ]
  },
  {
   "cell_type": "markdown",
   "id": "c282cc2f",
   "metadata": {},
   "source": [
    "Results:\\\n",
    "It looks like the chamber saves the wait time when turned off and on. Perhaps the set too. Cool automatically turns on when the ON command is recieved, so need to watch out for that. (According to the manual, Heat too)\\\n",
    "The WAIT time doesn't start until SET is reached\\\n",
    "When WAIT runs out, it is automatically set to WAIT=FOREVER\\\n",
    "WAIT can also be set to FOREVER with CHAMBER.write(\"WAIT=FOREV\")\\\n",
    "WAIT being set to FOREVER will initially allow one more SET command to go through, however, it will then stop CHAMBER.query(\"STATUS?\")[3] == 'N' from realizing that the chamber has reached its desired temperature.\n",
    "\n",
    "From the manual:\\\n",
    "The intended workflow for local programs (programmed with temperature chamber's buttons directly) is to call WAIT and then SET. The chamber climbs to the set value, then waits the specified amount of time. Then it moves on to the next set value in the script. To determine if the set time has been reached, the chamber checks if it is within a specified range, set by a \"+/- Trigger\" variable (which can be changed through the SDEF menu).\\\n",
    "The 4th (index=3) status bit specifies if wait_time is currently counting down.\\\n",
    "There is no way to directly utilize whatever internal function is checking if the probe temp is within the +/- Trigger range.\n",
    "\n",
    "Past Code:\\\n",
    "We want our measuring equipment to decide the timing of the experiment. Past code up to the 5/29/25 PMOS_LDO has checked if the user probe temperature is close to the set value by leaving the wait timer always running, raising it whenever it gets low. After setting the temperature, code has been continually checking the 4th status bit to see if WAIT has started counting down, which occurs whenever the chamber internally checks the user probe against the +/- Trigger variable to see if it is within it.\n",
    "\n",
    "Better approach:\\\n",
    "Easiest fix would be to only set WAIT before each SET, then to put it back to FOREVER after the value is reached. This would continue to use the chamber's internal checks.\\\n",
    "Perhaps the best fix would be to directly query the User probe temperature and then pass it to our own function that checks if it is within a range."
   ]
  },
  {
   "cell_type": "code",
   "execution_count": null,
   "id": "bc6ed9ff-c856-4b10-8807-962d68a67e9c",
   "metadata": {},
   "outputs": [],
   "source": [
    "\n",
    "CHAMBER = establish_connection('GPIB6::6::INSTR', 'STATUS?')\n",
    "Chamber_INIT()"
   ]
  },
  {
   "cell_type": "code",
   "execution_count": null,
   "id": "d49d8c19",
   "metadata": {},
   "outputs": [],
   "source": [
    "TEMP = 30\n",
    "CHAMBER.write(\"WAIT=3\")                                # Resets the wait time of the temp chamber to 30 minutes so it doesn't time out mid test\n",
    "CHAMBER.write(\"SET=\"+str(TEMP))\n",
    "while (CHAMBER.query(\"STATUS?\")[3] == 'N'):             # Checks if the temperature chamber has arrived at TEMP yet or not\n",
    "    time.sleep(15)\n",
    "    print(CHAMBER.query(\"STATUS?\"))  \n",
    "print(CHAMBER.query(\"STATUS?\"))\n",
    "time.sleep(65)"
   ]
  },
  {
   "cell_type": "code",
   "execution_count": null,
   "id": "57f2f6b8",
   "metadata": {},
   "outputs": [
    {
     "ename": "NameError",
     "evalue": "name 'establish_connection' is not defined",
     "output_type": "error",
     "traceback": [
      "\u001b[31m---------------------------------------------------------------------------\u001b[39m",
      "\u001b[31mNameError\u001b[39m                                 Traceback (most recent call last)",
      "\u001b[36mCell\u001b[39m\u001b[36m \u001b[39m\u001b[32mIn[1]\u001b[39m\u001b[32m, line 1\u001b[39m\n\u001b[32m----> \u001b[39m\u001b[32m1\u001b[39m CHAMBER = \u001b[43mestablish_connection\u001b[49m(\u001b[33m'\u001b[39m\u001b[33mGPIB6::6::INSTR\u001b[39m\u001b[33m'\u001b[39m, \u001b[33m'\u001b[39m\u001b[33mSTATUS?\u001b[39m\u001b[33m'\u001b[39m)\n\u001b[32m      2\u001b[39m CHAMBER.write(\u001b[33m\"\u001b[39m\u001b[33mON\u001b[39m\u001b[33m\"\u001b[39m)\n\u001b[32m      3\u001b[39m CHAMBER.write(\u001b[33m\"\u001b[39m\u001b[33mRATE=20\u001b[39m\u001b[33m\"\u001b[39m)            \u001b[38;5;66;03m# Sets the speed at which the chamber will ramp to change TEMP\u001b[39;00m\n",
      "\u001b[31mNameError\u001b[39m: name 'establish_connection' is not defined"
     ]
    }
   ],
   "source": [
    "\n",
    "CHAMBER = establish_connection('GPIB6::6::INSTR', 'STATUS?')\n",
    "CHAMBER.write(\"ON\")\n",
    "CHAMBER.write(\"RATE=20\")            # Sets the speed at which the chamber will ramp to change TEMP\n",
    "CHAMBER.write(\"HON\")                # Turns heat on\n",
    "CHAMBER.write(\"PIDA=3\")             \n",
    "time.sleep(1) \n",
    "\n",
    "print(CHAMBER.query(\"RATE?\"))\n",
    "print(CHAMBER.query(\"WAIT?\"))"
   ]
  },
  {
   "cell_type": "code",
   "execution_count": null,
   "id": "879232af",
   "metadata": {},
   "outputs": [],
   "source": [
    "TEMP = 32\n",
    "CHAMBER.write(\"WAIT=1\")                                # Resets the wait time of the temp chamber to 30 minutes so it doesn't time out mid test\n",
    "CHAMBER.write(\"SET=\"+str(TEMP))\n",
    "while (CHAMBER.query(\"STATUS?\")[3] == 'N'):             # Checks if the temperature chamber has arrived at TEMP yet or not\n",
    "    time.sleep(15)\n",
    "    print(CHAMBER.query(\"STATUS?\"))  \n",
    "print(CHAMBER.query(\"STATUS?\"))\n",
    "time.sleep(75)\n",
    "TEMP = 33\n",
    "#CHAMBER.write(\"WAIT=1\")                                # Resets the wait time of the temp chamber to 30 minutes so it doesn't time out mid test\n",
    "CHAMBER.write(\"SET=\"+str(TEMP))\n",
    "while (CHAMBER.query(\"STATUS?\")[3] == 'N'):             # Checks if the temperature chamber has arrived at TEMP yet or not\n",
    "    time.sleep(15)\n",
    "    print(CHAMBER.query(\"STATUS?\"))  \n",
    "print(CHAMBER.query(\"STATUS?\"))"
   ]
  },
  {
   "cell_type": "code",
   "execution_count": null,
   "id": "5b6f617c",
   "metadata": {},
   "outputs": [],
   "source": [
    "TEMP = 32\n",
    "#CHAMBER.write(\"WAIT=1\")                                # Resets the wait time of the temp chamber to 30 minutes so it doesn't time out mid test\n",
    "CHAMBER.write(\"SET=\"+str(TEMP))\n",
    "while (CHAMBER.query(\"STATUS?\")[3] == 'N'):             # Checks if the temperature chamber has arrived at TEMP yet or not\n",
    "    time.sleep(15)\n",
    "    print(CHAMBER.query(\"STATUS?\"))  \n",
    "print(CHAMBER.query(\"STATUS?\"))\n",
    "time.sleep(5)\n",
    "TEMP = 33\n",
    "#CHAMBER.write(\"WAIT=1\")                                # Resets the wait time of the temp chamber to 30 minutes so it doesn't time out mid test\n",
    "CHAMBER.write(\"SET=\"+str(TEMP))\n",
    "while (CHAMBER.query(\"STATUS?\")[3] == 'N'):             # Checks if the temperature chamber has arrived at TEMP yet or not\n",
    "    time.sleep(15)\n",
    "    print(CHAMBER.query(\"STATUS?\"))  \n",
    "print(CHAMBER.query(\"STATUS?\"))"
   ]
  },
  {
   "cell_type": "code",
   "execution_count": null,
   "id": "690a8319",
   "metadata": {},
   "outputs": [],
   "source": [
    "TEMP = 33\n",
    "CHAMBER.write(\"WAIT=30\")                                # Resets the wait time of the temp chamber to 30 minutes so it doesn't time out mid test\n",
    "CHAMBER.write(\"SET=\"+str(TEMP))\n",
    "while (CHAMBER.query(\"STATUS?\")[3] == 'N'):             # Checks if the temperature chamber has arrived at TEMP yet or not\n",
    "    time.sleep(1)\n",
    "    print(CHAMBER.query(\"STATUS?\"))  \n",
    "print(CHAMBER.query(\"STATUS?\"))\n",
    "time.sleep(10)\n",
    "TEMP = 34\n",
    "#CHAMBER.write(\"WAIT=1\")                                # Resets the wait time of the temp chamber to 30 minutes so it doesn't time out mid test\n",
    "CHAMBER.write(\"SET=\"+str(TEMP))\n",
    "while (CHAMBER.query(\"STATUS?\")[3] == 'N'):             # Checks if the temperature chamber has arrived at TEMP yet or not\n",
    "    time.sleep(15)\n",
    "    print(CHAMBER.query(\"STATUS?\"))  \n",
    "print(CHAMBER.query(\"STATUS?\"))"
   ]
  },
  {
   "cell_type": "code",
   "execution_count": null,
   "id": "126724b2",
   "metadata": {},
   "outputs": [
    {
     "ename": "NameError",
     "evalue": "name 'establish_connection' is not defined",
     "output_type": "error",
     "traceback": [
      "\u001b[31m---------------------------------------------------------------------------\u001b[39m",
      "\u001b[31mNameError\u001b[39m                                 Traceback (most recent call last)",
      "\u001b[36mCell\u001b[39m\u001b[36m \u001b[39m\u001b[32mIn[2]\u001b[39m\u001b[32m, line 1\u001b[39m\n\u001b[32m----> \u001b[39m\u001b[32m1\u001b[39m CHAMBER = \u001b[43mestablish_connection\u001b[49m(\u001b[33m'\u001b[39m\u001b[33mGPIB6::6::INSTR\u001b[39m\u001b[33m'\u001b[39m, \u001b[33m'\u001b[39m\u001b[33mSTATUS?\u001b[39m\u001b[33m'\u001b[39m)\n\u001b[32m      2\u001b[39m CHAMBER.write(\u001b[33m\"\u001b[39m\u001b[33mON\u001b[39m\u001b[33m\"\u001b[39m)\n\u001b[32m      3\u001b[39m CHAMBER.write(\u001b[33m\"\u001b[39m\u001b[33mRATE=20\u001b[39m\u001b[33m\"\u001b[39m)            \u001b[38;5;66;03m# Sets the speed at which the chamber will ramp to change TEMP\u001b[39;00m\n",
      "\u001b[31mNameError\u001b[39m: name 'establish_connection' is not defined"
     ]
    }
   ],
   "source": [
    "CHAMBER = establish_connection('GPIB6::6::INSTR', 'STATUS?')\n",
    "CHAMBER.write(\"ON\")\n",
    "CHAMBER.write(\"RATE=20\")            # Sets the speed at which the chamber will ramp to change TEMP\n",
    "CHAMBER.write(\"HON\")                # Turns heat on\n",
    "CHAMBER.write(\"PIDA=3\")             \n",
    "CHAMBER.write(\"WAIT=FOREV\")\n",
    "time.sleep(1) \n",
    "\n",
    "print(CHAMBER.query(\"RATE?\"))\n",
    "print(CHAMBER.query(\"WAIT?\"))"
   ]
  },
  {
   "cell_type": "code",
   "execution_count": null,
   "id": "35999905",
   "metadata": {},
   "outputs": [],
   "source": [
    "TEMP = 32\n",
    "#CHAMBER.write(\"WAIT=1\")                                # Resets the wait time of the temp chamber to 30 minutes so it doesn't time out mid test\n",
    "CHAMBER.write(\"SET=\"+str(TEMP))\n",
    "while (CHAMBER.query(\"STATUS?\")[3] == 'N'):             # Checks if the temperature chamber has arrived at TEMP yet or not\n",
    "    time.sleep(15)\n",
    "    print(CHAMBER.query(\"STATUS?\"))  \n",
    "print(CHAMBER.query(\"STATUS?\"))\n",
    "time.sleep(5)\n",
    "TEMP = 33\n",
    "#CHAMBER.write(\"WAIT=1\")                                # Resets the wait time of the temp chamber to 30 minutes so it doesn't time out mid test\n",
    "CHAMBER.write(\"SET=\"+str(TEMP))\n",
    "while (CHAMBER.query(\"STATUS?\")[3] == 'N'):             # Checks if the temperature chamber has arrived at TEMP yet or not\n",
    "    time.sleep(15)\n",
    "    print(CHAMBER.query(\"STATUS?\"))  \n",
    "print(CHAMBER.query(\"STATUS?\"))"
   ]
  },
  {
   "cell_type": "markdown",
   "id": "3dde4387",
   "metadata": {},
   "source": [
    "<h4> Solutions </h4>"
   ]
  },
  {
   "cell_type": "code",
   "execution_count": 10,
   "id": "35eb4856",
   "metadata": {},
   "outputs": [
    {
     "name": "stdout",
     "output_type": "stream",
     "text": [
      "GPIBInstrument at GPIB6::6::INSTR\n",
      "NNNNNNNYNNNNNNNNNN0\n",
      "+20.000\n",
      "WAIT=FOREVER    \n"
     ]
    }
   ],
   "source": [
    "CHAMBER = establish_connection('GPIB6::6::INSTR', 'STATUS?')\n",
    "CHAMBER.write(\"ON\")\n",
    "CHAMBER.write(\"RATE=20\")            # Sets the speed at which the chamber will ramp to change TEMP\n",
    "CHAMBER.write(\"COFF\")               # Turns cold off\n",
    "CHAMBER.write(\"HON\")                # Turns heat on\n",
    "CHAMBER.write(\"PIDA=3\")             \n",
    "CHAMBER.write(\"WAIT=FOREV\")\n",
    "time.sleep(1) \n",
    "\n",
    "print(CHAMBER.query(\"RATE?\"))\n",
    "print(CHAMBER.query(\"WAIT?\"))"
   ]
  },
  {
   "cell_type": "code",
   "execution_count": null,
   "id": "dc1f5cf7",
   "metadata": {},
   "outputs": [
    {
     "name": "stdout",
     "output_type": "stream",
     "text": [
      "YNNNYNYNNNNNNNNNNN0\n",
      "YNNYYNYYNNNNNNNNNN0\n",
      "YNNYYNYYNNNNNNNNNN0\n"
     ]
    }
   ],
   "source": [
    "# For some reason, even after changing wait to forever (and the chamber displaying it as such) the time out beep still sounded after 1 minute had elapsed. \n",
    "# Inconsistent behavior\n",
    "\n",
    "TEMP = 18\n",
    "CHAMBER.write(\"WAIT=1\")\n",
    "CHAMBER.write(f\"SET={TEMP}\")\n",
    "while (CHAMBER.query(\"STATUS?\")[3] == 'N'):  # Checks if the temperature chamber has arrived at TEMP yet or not\n",
    "    time.sleep(10)\n",
    "    print(CHAMBER.query(\"STATUS?\"))\n",
    "CHAMBER.write(\"WAIT=FOREV\")\n",
    "print(CHAMBER.query(\"STATUS?\"))"
   ]
  },
  {
   "cell_type": "code",
   "execution_count": null,
   "id": "888a572f",
   "metadata": {},
   "outputs": [
    {
     "name": "stdout",
     "output_type": "stream",
     "text": [
      "+19.657\n",
      "+19.920\n",
      "YNNNYNYYNNNNNNNNNN0\n",
      "+20.61\n",
      "+20.87\n",
      "YNNNYNYYNNNNNNNNNN0\n",
      "+21.52\n",
      "+21.86\n",
      "YNNNYNYYNNNNNNNNNN0\n"
     ]
    }
   ],
   "source": [
    "# Works great - we should do this always\n",
    "\n",
    "TEMPS = [20, 21, 22]\n",
    "SET_PRECISION = .15\n",
    "for TEMP in TEMPS:\n",
    "    CHAMBER.write(f\"SET={TEMP}\")\n",
    "    while(True):\n",
    "        time.sleep(10)\n",
    "        user_probe_temp = CHAMBER.query(\"USER?\")\n",
    "        print(user_probe_temp)\n",
    "        if ((float(user_probe_temp) < TEMP+SET_PRECISION) and (float(user_probe_temp) > TEMP-SET_PRECISION)):\n",
    "            break\n",
    "    print(CHAMBER.query(\"STATUS?\"))"
   ]
  },
  {
   "cell_type": "markdown",
   "id": "7a376de7",
   "metadata": {},
   "source": [
    "<h3> Keithley 2231A power supplies won't connect to USB </h3>"
   ]
  },
  {
   "cell_type": "code",
   "execution_count": null,
   "id": "d8169f58",
   "metadata": {},
   "outputs": [],
   "source": [
    "# So according to some guy on an internet forum, you have to use a cable or adapter specifically designed for this\n",
    "# model. Any other generic cables that fit won't work."
   ]
  },
  {
   "cell_type": "code",
   "execution_count": null,
   "id": "8085507f",
   "metadata": {},
   "outputs": [
    {
     "data": {
      "text/plain": [
       "('ASRL3::INSTR',\n",
       " 'ASRL4::INSTR',\n",
       " 'GPIB6::6::INSTR',\n",
       " 'USB0::0x0957::0x0607::MY45002108::0::INSTR',\n",
       " 'USB0::0x0957::0x1796::MY57231548::0::INSTR',\n",
       " 'USB0::0x0957::0x1796::MY57231553::0::INSTR',\n",
       " 'USB0::0x0957::0x17B6::MY56310504::0::INSTR',\n",
       " 'USB0::0x0957::0x2C07::MY57890777::0::INSTR',\n",
       " 'USB0::0x0957::0x5707::MY53802060::0::INSTR',\n",
       " 'USB0::0x2A8D::0x0101::MY54505624::0::INSTR',\n",
       " 'USB0::0x2A8D::0x0101::MY57508183::0::INSTR')"
      ]
     },
     "metadata": {},
     "output_type": "display_data"
    }
   ],
   "source": [
    "rm = pyvisa.ResourceManager()    # Create a ResourceManager object, which manages communication with instruments\n",
    "rm.list_resources()              # List all available resources (e.g., connected instruments) managed by pyvisa"
   ]
  },
  {
   "cell_type": "code",
   "execution_count": null,
   "id": "7fe0ef61",
   "metadata": {},
   "outputs": [],
   "source": [
    "# Enable full pyvisa logging\n",
    "pyvisa.log_to_screen()"
   ]
  },
  {
   "cell_type": "code",
   "execution_count": null,
   "id": "df2cdb27",
   "metadata": {},
   "outputs": [
    {
     "name": "stderr",
     "output_type": "stream",
     "text": [
      "2025-06-06 22:52:55,349 - pyvisa - DEBUG - viParseRsrcEx(1, 'ASRL3::INSTR', 'c_ushort(4)', 'c_ushort(3)', <ctypes.c_char_Array_256 object at 0x0000026F5DCC2450>, <ctypes.c_char_Array_256 object at 0x0000026F5DCC2550>, <ctypes.c_char_Array_256 object at 0x0000026F5DCC21D0>) -> 0\n",
      "2025-06-06 22:52:55,351 - pyvisa - DEBUG - ASRL3::INSTR - opening ...\n",
      "2025-06-06 22:52:55,472 - pyvisa - DEBUG - viOpen(1, 'ASRL3::INSTR', <AccessModes.no_lock: 0>, 0, '<ViObject object at 0x0000026F4482F8D0>') -> 0\n",
      "2025-06-06 22:52:55,472 - pyvisa - DEBUG - ASRL3::INSTR - is open with session 3\n",
      "2025-06-06 22:52:55,473 - pyvisa - DEBUG - viSetAttribute(3, <ResourceAttribute.termchar: 1073676312>, 10) -> 0\n",
      "2025-06-06 22:52:55,473 - pyvisa - DEBUG - viSetAttribute(3, <ResourceAttribute.termchar_enabled: 1073676344>, 1) -> 0\n",
      "2025-06-06 22:52:55,474 - pyvisa - DEBUG - viSetAttribute(3, 1073676321, 9600) -> 0\n",
      "2025-06-06 22:52:55,475 - pyvisa - DEBUG - viParseRsrcEx(1, 'ASRL4::INSTR', 'c_ushort(4)', 'c_ushort(4)', <ctypes.c_char_Array_256 object at 0x0000026F5DCC2450>, <ctypes.c_char_Array_256 object at 0x0000026F5DCC2950>, <ctypes.c_char_Array_256 object at 0x0000026F5DCC2BD0>) -> 0\n",
      "2025-06-06 22:52:55,476 - pyvisa - DEBUG - ASRL4::INSTR - opening ...\n",
      "2025-06-06 22:52:55,517 - pyvisa - DEBUG - viOpen(1, 'ASRL4::INSTR', <AccessModes.no_lock: 0>, 0, '<ViObject object at 0x0000026F5DCC2BD0>') -> 0\n",
      "2025-06-06 22:52:55,518 - pyvisa - DEBUG - ASRL4::INSTR - is open with session 4\n",
      "2025-06-06 22:52:55,518 - pyvisa - DEBUG - viSetAttribute(4, <ResourceAttribute.termchar: 1073676312>, 10) -> 0\n",
      "2025-06-06 22:52:55,519 - pyvisa - DEBUG - viSetAttribute(4, <ResourceAttribute.termchar_enabled: 1073676344>, 1) -> 0\n",
      "2025-06-06 22:52:55,522 - pyvisa - DEBUG - viSetAttribute(4, 1073676321, 9600) -> 0\n"
     ]
    },
    {
     "name": "stdout",
     "output_type": "stream",
     "text": [
      "SerialInstrument at ASRL3::INSTR\n",
      "SerialInstrument at ASRL4::INSTR\n"
     ]
    }
   ],
   "source": [
    "address = 'ASRL3::INSTR'\n",
    "PS_ESDVDD3 = rm.open_resource(address)   # Open a connection to the instrument with the address and assign it to SM_VIN\n",
    "PS_ESDVDD3.read_termination = '\\n'       # Set the read termination character to a newline. This tells pyvisa when to consider a message as complete when reading from the instrument.\n",
    "PS_ESDVDD3.write_termination = '\\n'      # Set the write termination character to a newline. This ensures that each command sent to the instrument is properly terminated.\n",
    "PS_ESDVDD3.baud_rate = 9600              # Set the baud rate for serial communication to 9600. This is the speed at which data is transmitted over the serial connection.\n",
    "print(PS_ESDVDD3)\n",
    "address = 'ASRL4::INSTR'\n",
    "PS_ESDVDD4 = rm.open_resource(address)   # Open a connection to the instrument with the address and assign it to SM_VIN\n",
    "PS_ESDVDD4.read_termination = '\\n'       # Set the read termination character to a newline. This tells pyvisa when to consider a message as complete when reading from the instrument.\n",
    "PS_ESDVDD4.write_termination = '\\n'      # Set the write termination character to a newline. This ensures that each command sent to the instrument is properly terminated.\n",
    "PS_ESDVDD4.baud_rate = 9600              # Set the baud rate for serial communication to 9600. This is the speed at which data is transmitted over the serial connection.\n",
    "print(PS_ESDVDD4)\n",
    "\n",
    "# PS_ESDVDD.query(\"*IDN?\")\n",
    "# PS_ESDVDD.write('*IDN?')\n",
    "# PS_ESDVDD.write('*ESE?')\n",
    "#time.sleep(1)\n",
    "#print(PS_ESDVDD.read())\n",
    "#PS_ESDVDD.write(\"*CLS\")"
   ]
  },
  {
   "cell_type": "code",
   "execution_count": null,
   "id": "97f569e4",
   "metadata": {},
   "outputs": [
    {
     "name": "stderr",
     "output_type": "stream",
     "text": [
      "2025-06-06 23:01:49,009 - pyvisa - DEBUG - viWrite(3, b'system:remote\\n', 14, 'c_ulong(14)') -> 0\n",
      "2025-06-06 23:01:49,010 - pyvisa - DEBUG - viWrite(4, b'system:remote\\n', 14, 'c_ulong(14)') -> 0\n",
      "2025-06-06 23:01:49,012 - pyvisa - DEBUG - viWrite(3, b'*TST?\\n', 6, 'c_ulong(6)') -> 0\n",
      "2025-06-06 23:01:49,013 - pyvisa - DEBUG - ASRL3::INSTR - reading 20480 bytes (last status <StatusCode.success_max_count_read: 1073676294>)\n",
      "2025-06-06 23:01:51,023 - pyvisa - DEBUG - viRead(3, <ctypes.c_char_Array_20480 object at 0x0000026F6029B750>, 20480, 'c_ulong(0)') -> -1073807339\n",
      "2025-06-06 23:01:51,024 - pyvisa - DEBUG - ASRL3::INSTR - exception while reading: VI_ERROR_TMO (-1073807339): Timeout expired before operation completed.\n",
      "Buffer content: bytearray(b'')\n"
     ]
    },
    {
     "ename": "VisaIOError",
     "evalue": "VI_ERROR_TMO (-1073807339): Timeout expired before operation completed.",
     "output_type": "error",
     "traceback": [
      "\u001b[31m---------------------------------------------------------------------------\u001b[39m\n",
      "\u001b[31mVisaIOError\u001b[39m                               Traceback (most recent call last)\n",
      "\u001b[36mCell\u001b[39m\u001b[36m \u001b[39m\u001b[32mIn[11]\u001b[39m\u001b[32m, line 4\u001b[39m\n",
      "\u001b[32m      2\u001b[39m PS_ESDVDD4.write(\u001b[33m\"\u001b[39m\u001b[33msystem:remote\u001b[39m\u001b[33m\"\u001b[39m)\n",
      "\u001b[32m      3\u001b[39m \u001b[38;5;66;03m#PS_ESDVDD4.write(\"*CLS\")\u001b[39;00m\n",
      "\u001b[32m----> \u001b[39m\u001b[32m4\u001b[39m \u001b[43mPS_ESDVDD3\u001b[49m\u001b[43m.\u001b[49m\u001b[43mquery\u001b[49m\u001b[43m(\u001b[49m\u001b[33;43m\"\u001b[39;49m\u001b[33;43m*TST?\u001b[39;49m\u001b[33;43m\"\u001b[39;49m\u001b[43m)\u001b[49m\n",
      "\n",
      "\u001b[36mFile \u001b[39m\u001b[32mc:\\Users\\snewma20\\AppData\\Local\\Programs\\Python\\Python313\\Lib\\site-packages\\pyvisa\\resources\\messagebased.py:690\u001b[39m, in \u001b[36mMessageBasedResource.query\u001b[39m\u001b[34m(self, message, delay)\u001b[39m\n",
      "\u001b[32m    687\u001b[39m \u001b[38;5;28;01mif\u001b[39;00m delay > \u001b[32m0.0\u001b[39m:\n",
      "\u001b[32m    688\u001b[39m     time.sleep(delay)\n",
      "\u001b[32m--> \u001b[39m\u001b[32m690\u001b[39m \u001b[38;5;28;01mreturn\u001b[39;00m \u001b[38;5;28;43mself\u001b[39;49m\u001b[43m.\u001b[49m\u001b[43mread\u001b[49m\u001b[43m(\u001b[49m\u001b[43m)\u001b[49m\n",
      "\n",
      "\u001b[36mFile \u001b[39m\u001b[32mc:\\Users\\snewma20\\AppData\\Local\\Programs\\Python\\Python313\\Lib\\site-packages\\pyvisa\\resources\\messagebased.py:519\u001b[39m, in \u001b[36mMessageBasedResource.read\u001b[39m\u001b[34m(self, termination, encoding)\u001b[39m\n",
      "\u001b[32m    517\u001b[39m \u001b[38;5;28;01mif\u001b[39;00m termination \u001b[38;5;129;01mis\u001b[39;00m \u001b[38;5;28;01mNone\u001b[39;00m:\n",
      "\u001b[32m    518\u001b[39m     termination = \u001b[38;5;28mself\u001b[39m._read_termination\n",
      "\u001b[32m--> \u001b[39m\u001b[32m519\u001b[39m     message = \u001b[38;5;28;43mself\u001b[39;49m\u001b[43m.\u001b[49m\u001b[43m_read_raw\u001b[49m\u001b[43m(\u001b[49m\u001b[43m)\u001b[49m.decode(enco)\n",
      "\u001b[32m    520\u001b[39m \u001b[38;5;28;01melse\u001b[39;00m:\n",
      "\u001b[32m    521\u001b[39m     \u001b[38;5;28;01mwith\u001b[39;00m \u001b[38;5;28mself\u001b[39m.read_termination_context(termination):\n",
      "\n",
      "\u001b[36mFile \u001b[39m\u001b[32mc:\\Users\\snewma20\\AppData\\Local\\Programs\\Python\\Python313\\Lib\\site-packages\\pyvisa\\resources\\messagebased.py:473\u001b[39m, in \u001b[36mMessageBasedResource._read_raw\u001b[39m\u001b[34m(self, size, monitoring_interface)\u001b[39m\n",
      "\u001b[32m    466\u001b[39m \u001b[38;5;28;01mwhile\u001b[39;00m status == loop_status:\n",
      "\u001b[32m    467\u001b[39m     logger.debug(\n",
      "\u001b[32m    468\u001b[39m         \u001b[33m\"\u001b[39m\u001b[38;5;132;01m%s\u001b[39;00m\u001b[33m - reading \u001b[39m\u001b[38;5;132;01m%d\u001b[39;00m\u001b[33m bytes (last status \u001b[39m\u001b[38;5;132;01m%r\u001b[39;00m\u001b[33m)\u001b[39m\u001b[33m\"\u001b[39m,\n",
      "\u001b[32m    469\u001b[39m         \u001b[38;5;28mself\u001b[39m._resource_name,\n",
      "\u001b[32m    470\u001b[39m         size,\n",
      "\u001b[32m    471\u001b[39m         status,\n",
      "\u001b[32m    472\u001b[39m     )\n",
      "\u001b[32m--> \u001b[39m\u001b[32m473\u001b[39m     chunk, status = \u001b[38;5;28;43mself\u001b[39;49m\u001b[43m.\u001b[49m\u001b[43mvisalib\u001b[49m\u001b[43m.\u001b[49m\u001b[43mread\u001b[49m\u001b[43m(\u001b[49m\u001b[38;5;28;43mself\u001b[39;49m\u001b[43m.\u001b[49m\u001b[43msession\u001b[49m\u001b[43m,\u001b[49m\u001b[43m \u001b[49m\u001b[43msize\u001b[49m\u001b[43m)\u001b[49m\n",
      "\u001b[32m    474\u001b[39m     \u001b[38;5;28;01mif\u001b[39;00m monitoring_interface:\n",
      "\u001b[32m    475\u001b[39m         monitoring_interface.update(\u001b[38;5;28mlen\u001b[39m(chunk))\n",
      "\n",
      "\u001b[36mFile \u001b[39m\u001b[32mc:\\Users\\snewma20\\AppData\\Local\\Programs\\Python\\Python313\\Lib\\site-packages\\pyvisa\\ctwrapper\\functions.py:2339\u001b[39m, in \u001b[36mread\u001b[39m\u001b[34m(library, session, count)\u001b[39m\n",
      "\u001b[32m   2337\u001b[39m buffer = create_string_buffer(count)\n",
      "\u001b[32m   2338\u001b[39m return_count = ViUInt32()\n",
      "\u001b[32m-> \u001b[39m\u001b[32m2339\u001b[39m ret = \u001b[43mlibrary\u001b[49m\u001b[43m.\u001b[49m\u001b[43mviRead\u001b[49m\u001b[43m(\u001b[49m\u001b[43msession\u001b[49m\u001b[43m,\u001b[49m\u001b[43m \u001b[49m\u001b[43mbuffer\u001b[49m\u001b[43m,\u001b[49m\u001b[43m \u001b[49m\u001b[43mcount\u001b[49m\u001b[43m,\u001b[49m\u001b[43m \u001b[49m\u001b[43mbyref\u001b[49m\u001b[43m(\u001b[49m\u001b[43mreturn_count\u001b[49m\u001b[43m)\u001b[49m\u001b[43m)\u001b[49m\n",
      "\u001b[32m   2340\u001b[39m \u001b[38;5;28;01mreturn\u001b[39;00m buffer.raw[: return_count.value], ret\n",
      "\n",
      "\u001b[36mFile \u001b[39m\u001b[32mc:\\Users\\snewma20\\AppData\\Local\\Programs\\Python\\Python313\\Lib\\site-packages\\pyvisa\\ctwrapper\\highlevel.py:227\u001b[39m, in \u001b[36mIVIVisaLibrary._return_handler\u001b[39m\u001b[34m(self, ret_value, func, arguments)\u001b[39m\n",
      "\u001b[32m    224\u001b[39m         \u001b[38;5;66;03m# Set session back to a safe value\u001b[39;00m\n",
      "\u001b[32m    225\u001b[39m         session = \u001b[38;5;28;01mNone\u001b[39;00m\n",
      "\u001b[32m--> \u001b[39m\u001b[32m227\u001b[39m \u001b[38;5;28;01mreturn\u001b[39;00m \u001b[38;5;28;43mself\u001b[39;49m\u001b[43m.\u001b[49m\u001b[43mhandle_return_value\u001b[49m\u001b[43m(\u001b[49m\u001b[43msession\u001b[49m\u001b[43m,\u001b[49m\u001b[43m \u001b[49m\u001b[43mret_value\u001b[49m\u001b[43m)\u001b[49m\n",
      "\n",
      "\u001b[36mFile \u001b[39m\u001b[32mc:\\Users\\snewma20\\AppData\\Local\\Programs\\Python\\Python313\\Lib\\site-packages\\pyvisa\\highlevel.py:252\u001b[39m, in \u001b[36mVisaLibraryBase.handle_return_value\u001b[39m\u001b[34m(self, session, status_code)\u001b[39m\n",
      "\u001b[32m    249\u001b[39m     \u001b[38;5;28mself\u001b[39m._last_status_in_session[session] = rv\n",
      "\u001b[32m    251\u001b[39m \u001b[38;5;28;01mif\u001b[39;00m rv < \u001b[32m0\u001b[39m:\n",
      "\u001b[32m--> \u001b[39m\u001b[32m252\u001b[39m     \u001b[38;5;28;01mraise\u001b[39;00m errors.VisaIOError(rv)\n",
      "\u001b[32m    254\u001b[39m \u001b[38;5;28;01mif\u001b[39;00m rv \u001b[38;5;129;01min\u001b[39;00m \u001b[38;5;28mself\u001b[39m.issue_warning_on:\n",
      "\u001b[32m    255\u001b[39m     \u001b[38;5;28;01mif\u001b[39;00m session \u001b[38;5;129;01mand\u001b[39;00m rv \u001b[38;5;129;01mnot\u001b[39;00m \u001b[38;5;129;01min\u001b[39;00m \u001b[38;5;28mself\u001b[39m._ignore_warning_in_session[session]:\n",
      "\n",
      "\u001b[31mVisaIOError\u001b[39m: VI_ERROR_TMO (-1073807339): Timeout expired before operation completed."
     ]
    }
   ],
   "source": [
    "PS_ESDVDD3.write(\"system:remote\")\n",
    "PS_ESDVDD4.write(\"system:remote\")\n",
    "#PS_ESDVDD4.write(\"*CLS\")\n",
    "PS_ESDVDD3.query(\"*TST?\")"
   ]
  },
  {
   "cell_type": "markdown",
   "id": "530c9e96",
   "metadata": {},
   "source": [
    "<h3> Why can't my devices read after setting up trigger link? <h3>"
   ]
  },
  {
   "cell_type": "code",
   "execution_count": null,
   "id": "0a81dc70",
   "metadata": {},
   "outputs": [],
   "source": [
    "# Conclusion:  \n",
    "# SM_VDD.write(\"TRIG:COUN {count}\") adds triggers\n",
    "# SM_VDD.write(\"TRIG:SOUR TLINK\") makes the trigger link cable the source of all triggers\n",
    "# SM_VDD.write(\"TRIG:SOUR IMM\") Sets the source back to \"immediate\". Without it, \"READ?\" never runs\n",
    "# SM_VDD.write(\"TRIG:COUN 1\") goes back to one trigger. \"READ?\" would work without this, but will go on for a very long time.\n"
   ]
  },
  {
   "cell_type": "code",
   "execution_count": null,
   "id": "384632f6",
   "metadata": {},
   "outputs": [],
   "source": [
    "def establish_connection(address, query):\n",
    "    instrument = rm.open_resource(address)   # Open a connection to the instrument with the address and assign it to SM_VIN\n",
    "    instrument.read_termination = '\\n'       # Set the read termination character to a newline. This tells pyvisa when to consider a message as complete when reading from the instrument.\n",
    "    instrument.write_termination = '\\n'      # Set the write termination character to a newline. This ensures that each command sent to the instrument is properly terminated.\n",
    "    instrument.baud_rate = 9600              # Set the baud rate for serial communication to 9600. This is the speed at which data is transmitted over the serial connection.\n",
    "    print(instrument)                        # Print the resource object to display its properties\n",
    "    if query != \"NONE\":\n",
    "        print(instrument.query(query))           # Send the query to the instrument and print its response. This command usually asks the instrument to identify itself (e.g., manufacturer, model number).\n",
    "    return instrument\n",
    "\n",
    "rm = pyvisa.ResourceManager() \n",
    "SM_IREF = establish_connection('GPIB6::20::INSTR', '*IDN?')\n",
    "SM_VDD = establish_connection('GPIB6::21::INSTR', '*IDN?')\n",
    "CHAMBER = establish_connection('GPIB6::6::INSTR', 'STATUS?')"
   ]
  },
  {
   "cell_type": "code",
   "execution_count": null,
   "id": "1bf96688",
   "metadata": {},
   "outputs": [],
   "source": [
    "def SM_init(SM):\n",
    "    # Reset to default settings and clear errors\n",
    "    # Original code doesn't send \"*RST\" to SM_VDD, only the other two. Why?\n",
    "    #SM.write(\"*RST\") # Turns off sourcemeter\n",
    "    SM.write(\"*CLS\")\n",
    "    # Clear trace buffers and triggers\n",
    "    SM.write(\"TRAC:CLE\")\n",
    "    SM.write(\"TRIG:CLE\")\n",
    "    SM.write(\"SYST:BEEP:STAT OFF\")              # Turn off the beeper on the SMU\n",
    "    SM.timeout = 150000                         # Set timeout for SMU operations\n",
    "    SM.write(\"SYST:AZER ON\")                    # Enable auto-zero\n",
    "    SM.write(\"SOUR:FUNC VOLT\")                  # Set source function to voltage\n",
    "    SM.write(\"SENS:FUNC 'CURR'\")                # Set measurement function to current\n",
    "    SM.write(f\"SOUR:VOLT:RANG {VDD_MAX}\")          \n",
    "    SM.write(f\"SENS:CURR:PROT {CURRENT_RANGE}\") # Set current protection (compliance) to 100 µA\n",
    "    SM.write(f\"SENS:CURR:RANG {CURRENT_RANGE}\") # Set current range\n",
    "    SM.write(\"SENS:CURR:NPLC 1\")                # Set NPLC for current measurement to 1\n",
    "    SM.write(\"ARM:COUN 1\")\n",
    "    SM.write(\"ARM:SOUR IMM\")\n",
    "    SM.write(\"ARM:DIR ACC\")\n",
    "    SM.write(\"ARM:OUTP NONE\")\n",
    "    SM.write(f\"TRIG:COUN {TRIGGER_COUNT_DEFAULT}\") # Set trigger count to match sweep points\n",
    "    SM.write(\"TRIG:SOUR TLIN\")                 # Immediate trigger source for the master\n",
    "    SM.write(\"TRIG:DEL 0\")                     # Delay (I think?)\n",
    "    SM.write(\"TRIG:DIR ACC\")                   # Direct Access                   \n",
    "    \n",
    "def SM_init_general(SM):\n",
    "    # Reset to default settings and clear errors\n",
    "    # Original code doesn't send \"*RST\" to SM_VDD, only the other two. Why?\n",
    "    #SM.write(\"*RST\")\n",
    "    SM.write(\"*CLS\")\n",
    "    # Clear trace buffers and triggers\n",
    "    SM.write(\"TRAC:CLE\")\n",
    "    SM.write(\"TRIG:CLE\")\n",
    "    SM.write(\"SYST:BEEP:STAT OFF\")              # Turn off the beeper on the SMU\n",
    "    SM.timeout = 150000                         # Set timeout for SMU operations\n",
    "    SM.write(\"SYST:AZER ON\")                    # Enable auto-zero\n",
    "    SM.write(\"SOUR:FUNC VOLT\")                  # Set source function to voltage\n",
    "    SM.write(\"SENS:FUNC 'CURR'\")                # Set measurement function to current\n",
    "    SM.write(f\"SOUR:VOLT:RANG {VDD_MAX}\")          \n",
    "    SM.write(f\"SENS:CURR:PROT {CURRENT_RANGE}\") # Set current protection (compliance) to 100 µA\n",
    "    SM.write(f\"SENS:CURR:RANG {CURRENT_RANGE}\") # Set current range\n",
    "    SM.write(\"SENS:CURR:NPLC 1\")                # Set NPLC for current measurement to 1  \n",
    "\n",
    "def SM_init_trigger(SM):\n",
    "    SM.write(\"ARM:COUN 1\")\n",
    "    SM.write(\"ARM:SOUR IMM\")\n",
    "    SM.write(\"ARM:DIR ACC\")                    # Arm direction acceptor\n",
    "    SM.write(\"ARM:OUTP NONE\")\n",
    "    SM.write(f\"TRIG:COUN {TRIGGER_COUNT_DEFAULT}\") # Set trigger count to match sweep points\n",
    "    SM.write(\"TRIG:SOUR TLIN\")                 # Immediate trigger source for the master\n",
    "    SM.write(\"TRIG:DEL 0\")                     # Delay (I think?)\n",
    "    SM.write(\"TRIG:DIR ACC\")                   # Trigger direction acceptor "
   ]
  },
  {
   "cell_type": "code",
   "execution_count": null,
   "id": "63139cd1",
   "metadata": {},
   "outputs": [],
   "source": [
    "SM_IREF.write(\"*RST\")\n",
    "SM_VDD.write(\"*RST\")\n",
    "SM_init_general(SM_VDD)\n",
    "SM_init_general(SM_IREF)\n",
    "turn_on_all()"
   ]
  },
  {
   "cell_type": "code",
   "execution_count": null,
   "id": "07756d4f",
   "metadata": {},
   "outputs": [],
   "source": [
    "SM_init_trigger(SM_VDD)\n",
    "SM_init_trigger(SM_IREF)"
   ]
  },
  {
   "cell_type": "code",
   "execution_count": null,
   "id": "2e233938",
   "metadata": {},
   "outputs": [],
   "source": [
    "\n",
    "# SM_VDD.write(\"TRIG:INP NONE\") # Sets it to listen, will continuously output data\n",
    "# SM_VDD.write(\"TRIG:OUTP NONE\") # Sets it to listen, will continuously output data\n",
    "# SM_VDD.write(\"ARM:INP NONE\")\n",
    "# SM_VDD.write(\"ARM:OUTP NONE\")\n",
    "\n",
    "SM_VDD.write(\"TRIG:COUN 1\")\n",
    "SM_VDD.write(\"TRIG:SOUR IMM\")\n",
    "# SM_VDD.write(\"TRIG:SOUR IMM\")"
   ]
  },
  {
   "cell_type": "code",
   "execution_count": null,
   "id": "2490b536",
   "metadata": {},
   "outputs": [],
   "source": [
    "# Turn AUTO on\n",
    "# SM_VDD.write(\":CONF:CURR\")                  # Configure the SMU to measure current\n",
    "# SM_IREF.write(\":CONF:CURR\")                  # Configure the SMU to measure current\n",
    "\n",
    "# Gives me something\n",
    "# SM_IREF.query(\"CONF?\")\n",
    "# SM_VDD.query(\"CONF?\")\n",
    "\n",
    "# SM_IREF.query(\"READ?\") \n",
    "# Uninit/general init: One time measurement - prints here. \n",
    "# Trigger init: crashes kernel\n",
    "# Reset seems to undo crashing behavior.\n",
    "\n",
    "SM_VDD.query(\"READ?\") # Uninit: Times out, general init: crashes kernel. Needs reset from trigger init to properly read\n",
    "# SM_IREF.query(\"MEAS?\") # One time measurement - prints here\n",
    "# SM_VDD.query(\"MEAS?\") # Crashes Kernel\n",
    "\n",
    "# Useless\n",
    "# SM_clear(SM_VDD)\n",
    "# SM_clear(SM_IREF)\n",
    "# SM_VDD.query(\"DISPLAY:DATA?\")\n",
    "# SM_IREF.query(\"DISPLAY:DATA?\")\n",
    "# SM_VDD.write(\":FORM:ELEM CURR\")\n",
    "# SM_IREF.write(\":FORM:ELEM CURR\")\n",
    "# SM_VDD.write(\":DISPlay:ENABle ON\")\n",
    "# SM_IREF.write(\":DISPlay:ENABle ON\")"
   ]
  },
  {
   "cell_type": "code",
   "execution_count": null,
   "id": "a56aea48",
   "metadata": {},
   "outputs": [],
   "source": []
  },
  {
   "cell_type": "markdown",
   "id": "3ca2df3c",
   "metadata": {},
   "source": [
    "<h2> Testing ICASL.py import and functions </h2>"
   ]
  },
  {
   "cell_type": "markdown",
   "id": "7f5c5953",
   "metadata": {},
   "source": [
    "<h3> Importing ICASL </h3>"
   ]
  },
  {
   "cell_type": "code",
   "execution_count": 12,
   "id": "6f0e354a",
   "metadata": {},
   "outputs": [],
   "source": [
    "# Importing .py files\n",
    "# This should only grab definitions\n",
    "import ICASL"
   ]
  },
  {
   "cell_type": "code",
   "execution_count": null,
   "id": "d42c5a52",
   "metadata": {},
   "outputs": [
    {
     "name": "stdout",
     "output_type": "stream",
     "text": [
      "2.00\n",
      "2.21\n",
      "3.00\n",
      "\n",
      "3\n",
      "3\n"
     ]
    }
   ],
   "source": [
    "# Importing .ipynb files\n",
    "# This will run every cell and print their outputs. Still makes definitions available though.\n",
    "%run ICASL.ipynb"
   ]
  },
  {
   "cell_type": "code",
   "execution_count": 12,
   "id": "81855c6d",
   "metadata": {},
   "outputs": [
    {
     "name": "stdout",
     "output_type": "stream",
     "text": [
      "1\n"
     ]
    }
   ],
   "source": [
    "# The .py method requires \"ICASL.\" for each function call\n",
    "# It integrates great with VSCode though\n",
    "i = ICASL.determine_precision([1, 2.00, 3.2])\n",
    "print(i)"
   ]
  },
  {
   "cell_type": "code",
   "execution_count": null,
   "id": "bcd9e303",
   "metadata": {},
   "outputs": [
    {
     "name": "stdout",
     "output_type": "stream",
     "text": [
      "1\n"
     ]
    }
   ],
   "source": [
    "# No need for the \"ICASL.\"\n",
    "# VSCode does not know how to make sense of it\n",
    "i = determine_precision([1, 2.00, 3.2])\n",
    "print(i)"
   ]
  },
  {
   "cell_type": "markdown",
   "id": "50fb8aec",
   "metadata": {},
   "source": [
    "<h3> Importing from another directory </h3>"
   ]
  },
  {
   "cell_type": "code",
   "execution_count": null,
   "id": "f4fb5091",
   "metadata": {},
   "outputs": [
    {
     "name": "stdout",
     "output_type": "stream",
     "text": [
      "1\n"
     ]
    }
   ],
   "source": [
    "# For these two I moved both files to a \"test/\" directory\n",
    "\n",
    "# Works fine\n",
    "import test.ICASL as ICASL\n",
    "i = ICASL.determine_precision([1, 2.00, 3.2])\n",
    "print(i)"
   ]
  },
  {
   "cell_type": "code",
   "execution_count": null,
   "id": "f52fe449",
   "metadata": {},
   "outputs": [
    {
     "name": "stdout",
     "output_type": "stream",
     "text": [
      "2.00\n",
      "2.21\n",
      "3.00\n",
      "\n",
      "3\n",
      "3\n",
      "1\n"
     ]
    }
   ],
   "source": [
    "# Works fine\n",
    "%run test/ICASL.ipynb\n",
    "i = determine_precision([1, 2.00, 3.2])\n",
    "print(i)"
   ]
  },
  {
   "cell_type": "markdown",
   "id": "f48b49bf",
   "metadata": {},
   "source": [
    "It later turned out that it's a lot harder to import the .py option from higher directories, but oh well. I wrote a function for it."
   ]
  },
  {
   "cell_type": "markdown",
   "id": "30db176a",
   "metadata": {},
   "source": [
    "<h3> Testing scale() and prefix() </h3>"
   ]
  },
  {
   "cell_type": "code",
   "execution_count": 8,
   "id": "ba3e04c6",
   "metadata": {},
   "outputs": [
    {
     "name": "stdout",
     "output_type": "stream",
     "text": [
      "1.0\n",
      "M\n",
      "999.999\n",
      "k\n",
      "100.0\n",
      "100.00000000000001\n",
      "Prefix not implemented\n",
      "?\n",
      "T\n",
      "G\n",
      "M\n",
      "k\n",
      "\n",
      "m\n",
      "µ\n",
      "n\n",
      "p\n",
      "f\n",
      "a\n",
      "Prefix not implemented\n",
      "?\n"
     ]
    }
   ],
   "source": [
    "import ICASL\n",
    "\n",
    "print(ICASL.scale(1000000))\n",
    "print(ICASL.prefix(1000000))\n",
    "print(ICASL.scale(999999))\n",
    "print(ICASL.prefix(999999))\n",
    "\n",
    "print(ICASL.scale(100000000000000000000000000000000000000000000000000))\n",
    "print(ICASL.scale(.0000000000000000000000000000000000000000001))\n",
    "\n",
    "print(ICASL.prefix(100000000000000000))\n",
    "print(ICASL.prefix(100000000000000))\n",
    "print(ICASL.prefix(100000000000))\n",
    "print(ICASL.prefix(1000000))\n",
    "print(ICASL.prefix(1000))\n",
    "print(ICASL.prefix(1))\n",
    "print(ICASL.prefix(.001))\n",
    "print(ICASL.prefix(.000001))\n",
    "print(ICASL.prefix(.000000001))\n",
    "print(ICASL.prefix(.000000000001))\n",
    "print(ICASL.prefix(.000000000000001))\n",
    "print(ICASL.prefix(.000000000000000001))\n",
    "print(ICASL.prefix(.000000000000000000001))"
   ]
  },
  {
   "cell_type": "markdown",
   "id": "60fdcc5b",
   "metadata": {},
   "source": [
    "<h3> Testing parse_num_name_from_string() </h3>"
   ]
  },
  {
   "cell_type": "code",
   "execution_count": 2,
   "id": "1a856706",
   "metadata": {},
   "outputs": [
    {
     "name": "stdout",
     "output_type": "stream",
     "text": [
      "temp_m\n",
      "temp_m\n",
      "temp3_m3\n",
      "temp3_m3\n"
     ]
    }
   ],
   "source": [
    "import ICASL\n",
    "print(ICASL.parse_num_name_from_string(\"temp_m=3\"))\n",
    "print(ICASL.parse_num_name_from_string(\"temp_m_3\"))\n",
    "print(ICASL.parse_num_name_from_string(\"temp3_m3_3\"))\n",
    "print(ICASL.parse_num_name_from_string(\"temp3_m3_3.3dfsdfd\"))"
   ]
  },
  {
   "cell_type": "markdown",
   "id": "3460ca98",
   "metadata": {},
   "source": [
    "<h3> Testing xlim and ylim placement </h3>"
   ]
  },
  {
   "cell_type": "markdown",
   "id": "76b86700",
   "metadata": {},
   "source": [
    "Sorry, this was done elsewhere.\n",
    "\n",
    "If you put xlimit and ylimits after data is added, a \"None\" value will generate a good spot based off the data.  \n",
    "If you put xlimit and ylimits before data is added, a \"None\" value will pick a bad, random spot to place the limit.  \n",
    "  \n",
    "If you place only certain limits after plotting data, a \"None\" will leave the other limits where they are - even if they no longer make sense. It seems the best way to only add limits on certain sides is to also limit the data itself (df[df[\"exColumm\"] < exLimit]) so that the automatic margins adjust to the portion of data that's going to be displayed in the plot. I had to leave a little extra room so that the lines didn't stop early.\n"
   ]
  },
  {
   "cell_type": "markdown",
   "id": "c2fb538e",
   "metadata": {},
   "source": [
    "<h3>Annotation Box Next to Legend? </h3>"
   ]
  },
  {
   "cell_type": "code",
   "execution_count": 136,
   "id": "cfe72de4",
   "metadata": {},
   "outputs": [
    {
     "name": "stdout",
     "output_type": "stream",
     "text": [
      "Bbox(x0=0.7130656362007168, y0=0.9132696007696007, x1=0.9859991039426522, y1=0.9812109187109187)\n"
     ]
    },
    {
     "data": {
      "image/png": "[encoded data removed]",
      "text/plain": [
       "<Figure size 640x480 with 1 Axes>"
      ]
     },
     "metadata": {},
     "output_type": "display_data"
    }
   ],
   "source": [
    "# I just couldn't quite seem to get these to line up. Seems like a scaling issue.\n",
    "# Could manually force in an offset, but then different fig sizes and such would probably fall apart\n",
    "import matplotlib.pyplot as plt\n",
    "\n",
    "# Sample data\n",
    "x = [1, 2, 3, 4]\n",
    "y = [10, 20, 25, 30]\n",
    "\n",
    "# Create a plot\n",
    "fig, ax = plt.subplots()\n",
    "ax.plot(x, y, label=\"Sample Line\")\n",
    "fig.canvas.draw()\n",
    "# Add a legend\n",
    "legend = ax.legend(loc=\"upper right\")\n",
    "# Get the bounding box of the legend\n",
    "fig.canvas.draw()\n",
    "legend_bbox = legend.get_window_extent(fig.canvas.get_renderer())\n",
    "legend_bbox_data = legend_bbox.transformed(ax.transAxes.inverted())\n",
    "print(legend_bbox_data)\n",
    "\n",
    "fig.canvas.draw()\n",
    "# Add annotation\n",
    "ax.annotate(\n",
    "    \"Annotation near legend\",\n",
    "    xy=(legend_bbox_data.x0, legend_bbox_data.y0),\n",
    "    #xytext=(legend_bbox_data.x0, legend_bbox_data.y0),\n",
    "    xycoords=\"axes fraction\",\n",
    "    fontsize=10,\n",
    "    color=\"black\",\n",
    "    bbox=dict(boxstyle=\"round\", fc=\"w\", ec=\"0.8\")\n",
    ")\n",
    "fig.canvas.draw()\n",
    "\n",
    "plt.show()\n",
    "\n",
    "# This below shows some promise, but has limited customization (can't get the edge colors right). Would only work in opposite corners.\n",
    "\n",
    "# from matplotlib.offsetbox import AnchoredText\n",
    "# # at = AnchoredText(\"Figure 1a\",\n",
    "#                   prop=dict(size=10), frameon=True, loc='upper left')\n",
    "# ax.add_artist(at)"
   ]
  },
  {
   "cell_type": "code",
   "execution_count": 141,
   "id": "d391bb99",
   "metadata": {},
   "outputs": [
    {
     "data": {
      "image/png": "[encoded data removed]",
      "text/plain": [
       "<Figure size 640x480 with 1 Axes>"
      ]
     },
     "metadata": {},
     "output_type": "display_data"
    }
   ],
   "source": [
    "# This did it (kinda - I would rather be in a separate box and have a more customizable location)\n",
    "# 3 hours of trying and in the end I just copy pasted and tweaked pseudo-code from a 2010 forum post\n",
    "# Here's a blog post they cite: https://abitofpythonabitofastronomy.blogspot.com/2010/01/customized-legend.html\n",
    "plt.plot([1,2,3], label=\"test\")\n",
    "a=plt.legend()\n",
    "\n",
    "import matplotlib.offsetbox as offsetbox\n",
    "# I looked through the source early in those 3 hours, these functions and variables were in there.\n",
    "#_legend_box contains all of the labels and texts. This seems to merely create a new text object and slap it on the bottom.\n",
    "# Does set_figure just update the figure?\n",
    "txt=offsetbox.TextArea(\"Test 2 Extended\")\n",
    "box = a._legend_box\n",
    "box.get_children().append(txt)\n",
    "box.set_figure(box.figure)"
   ]
  },
  {
   "cell_type": "code",
   "execution_count": 156,
   "id": "fbcd0c05",
   "metadata": {},
   "outputs": [
    {
     "name": "stdout",
     "output_type": "stream",
     "text": [
      "Bbox(x0=-5.555555555555555, y0=-29.5, x1=129.81944444444443, y1=16.555555555555557)\n",
      "[<matplotlib.offsetbox.TextArea object at 0x000002CD594C87D0>, <matplotlib.offsetbox.HPacker object at 0x000002CD594C91D0>, <matplotlib.offsetbox.TextArea object at 0x000002CD594CA210>]\n",
      "<matplotlib.offsetbox.TextArea object at 0x000002CD594C87D0>\n"
     ]
    },
    {
     "data": {
      "image/png": "[encoded data removed]",
      "text/plain": [
       "<Figure size 640x480 with 1 Axes>"
      ]
     },
     "metadata": {},
     "output_type": "display_data"
    }
   ],
   "source": [
    "# Testing with subplots\n",
    "import matplotlib.pyplot as plt\n",
    "\n",
    "# Sample data\n",
    "x = [1, 2, 3, 4]\n",
    "y = [10, 20, 25, 30]\n",
    "\n",
    "# Create a plot\n",
    "fig, ax = plt.subplots()\n",
    "ax.plot(x, y, label=\"Sample Line\")\n",
    "fig.canvas.draw()\n",
    "# Add a legend\n",
    "legend = ax.legend(loc=\"upper right\")\n",
    "\n",
    "import matplotlib.offsetbox as offsetbox\n",
    "# I looked through the source early in those 3 hours, these functions and variables were in there.\n",
    "#_legend_box contains all of the labels and texts. This seems to merely create a new text object and slap it on the bottom.\n",
    "# Does set_figure just update the figure?\n",
    "txt=offsetbox.TextArea(\"Test 2 Extended\")\n",
    "box = legend._legend_box\n",
    "box.get_children().append(txt)\n",
    "box.set_figure(legend.get_figure(root=False))\n",
    "\n",
    "\n",
    "print(box.get_bbox(fig.canvas.get_renderer()))\n",
    "print(box.get_children())\n",
    "print(box.get_children()[0])"
   ]
  },
  {
   "cell_type": "code",
   "execution_count": 158,
   "id": "252cf655",
   "metadata": {},
   "outputs": [
    {
     "data": {
      "image/png": "[encoded data removed]",
      "text/plain": [
       "<Figure size 640x480 with 1 Axes>"
      ]
     },
     "metadata": {},
     "output_type": "display_data"
    }
   ],
   "source": [
    "# Testing with subplots\n",
    "import matplotlib.pyplot as plt\n",
    "\n",
    "# Sample data\n",
    "x = [1, 2, 3, 4]\n",
    "y = [10, 20, 25, 30]\n",
    "\n",
    "# Create a plot\n",
    "fig, ax = plt.subplots()\n",
    "ax.plot(x, y, label=\"Sample Line\")\n",
    "fig.canvas.draw()\n",
    "# Add a legend\n",
    "legend = ax.legend(loc=\"upper right\")\n",
    "\n",
    "import matplotlib.offsetbox as offsetbox\n",
    "# I looked through the source early in those 3 hours, these functions and variables were in there.\n",
    "#_legend_box contains all of the labels and texts. This seems to merely create a new text object and slap it on the bottom.\n",
    "# Does set_figure just update the figure?\n",
    "txt=offsetbox.TextArea(\"Test 2 Extended\")\n",
    "box = legend._legend_box\n",
    "box.get_children().append(txt)\n",
    "box.set_figure(legend.get_figure(root=False))\n",
    "\n",
    "txt=offsetbox.TextArea(\"And another\")\n",
    "box = legend._legend_box\n",
    "box.get_children().append(txt)\n",
    "box.set_figure(legend.get_figure(root=False))"
   ]
  },
  {
   "cell_type": "code",
   "execution_count": 154,
   "id": "98efde46",
   "metadata": {},
   "outputs": [
    {
     "data": {
      "image/png": "[encoded data removed]",
      "text/plain": [
       "<Figure size 640x480 with 1 Axes>"
      ]
     },
     "metadata": {},
     "output_type": "display_data"
    }
   ],
   "source": [
    "# Here's a table example from the blog post\n",
    "import matplotlib.pyplot as plt\n",
    "import matplotlib.offsetbox as moffsetbox\n",
    "from matplotlib.text import Text\n",
    "from matplotlib.lines import Line2D\n",
    "\n",
    "ax = plt.subplot(111)\n",
    "l1, = ax.plot([1,2,3])\n",
    "l2, = ax.plot([1,3,2])\n",
    "\n",
    "# below is code for legend-like box\n",
    "\n",
    "headers = [\"Line\", r\"$\\alpha$\", r\"$\\beta$\"]\n",
    "lines = [l1, l2]\n",
    "label_1 = [\"$0.31$\", \"$0.23$\"]\n",
    "label_2 = [\"$0.12$\", \"$1.23$\"]\n",
    "\n",
    "fontsize = 10\n",
    "height = fontsize\n",
    "\n",
    "def get_hbox(widths):\n",
    "    boxes = []\n",
    "    for width in widths:\n",
    "        xdescent, ydescent = width/2., fontsize*0.1\n",
    "        c = moffsetbox.DrawingArea(width, height, xdescent, ydescent)\n",
    "        boxes.append(c)\n",
    "    hbox = moffsetbox.HPacker(pad=0, sep=0.5*fontsize, align=\"baseline\",\n",
    "                              children=boxes)\n",
    "    return hbox\n",
    "\n",
    "widths = [fontsize * 3, fontsize * 4, fontsize * 4]\n",
    "\n",
    "# header\n",
    "\n",
    "hb_header = get_hbox(widths)\n",
    "\n",
    "for ob, s in zip(hb_header.get_children(), headers) :\n",
    "    txt = Text(0, 0, s, ha=\"center\", va=\"baseline\",\n",
    "               size=fontsize)\n",
    "    ob.add_artist(txt)\n",
    "\n",
    "# rows\n",
    "\n",
    "def get_row(handle, label1, label2):\n",
    "    hb_row0 = get_hbox(widths)\n",
    "    hb_row = hb_row0.get_children()\n",
    "\n",
    "    width = widths[0]\n",
    "    l = Line2D([-width*0.4, width*0.4], [0.3*height, 0.3*height], color=handle.get_color())\n",
    "    hb_row[0].add_artist(l)\n",
    "    \n",
    "    t = Text(0, 0, label1, ha=\"center\", va=\"baseline\")\n",
    "    hb_row[1].add_artist(t)\n",
    "\n",
    "    t = Text(0, 0, label2, ha=\"center\", va=\"baseline\")\n",
    "    hb_row[2].add_artist(t)\n",
    "\n",
    "    return hb_row0\n",
    "\n",
    "rows = [get_row(handle, lab1, lab2) for handle, lab1, lab2 in zip(lines, label_1, label_2)]\n",
    "\n",
    "vbox = moffsetbox.VPacker(pad=0, sep=0.5*fontsize, align=\"baseline\",\n",
    "                          children=[hb_header]+rows)\n",
    "\n",
    "mybox = moffsetbox.AnchoredOffsetbox(loc=1, pad=0.4, borderpad=0.5,\n",
    "                                     child=vbox, frameon=True,\n",
    "                                     bbox_to_anchor=ax.bbox,\n",
    "                                     bbox_transform=None)\n",
    "\n",
    "ax.add_artist(mybox)\n",
    "plt.show()"
   ]
  },
  {
   "cell_type": "markdown",
   "id": "fa6d3eb3",
   "metadata": {},
   "source": [
    "<h3> Testing remove_text_in_parentheses </h3>"
   ]
  },
  {
   "cell_type": "code",
   "execution_count": null,
   "id": "e372f9cc",
   "metadata": {},
   "outputs": [
    {
     "name": "stdout",
     "output_type": "stream",
     "text": [
      "text\n",
      "text \n",
      "t ext\n",
      "te_xt\n",
      " d\n",
      " e_d \n",
      "VOUT_LINE_VDD_X\n"
     ]
    }
   ],
   "source": [
    "# Testing ICASL.remove_text_in_parentheses\n",
    "import re\n",
    "def remove_text_in_parentheses(string):\n",
    "    trimmed_string = re.sub(r'\\(.*?\\)', '', string)\n",
    "    trimmed_string = re.sub(r'  ', '_', trimmed_string)\n",
    "    return trimmed_string\n",
    "\n",
    "print(remove_text_in_parentheses(\"text\"))\n",
    "print(remove_text_in_parentheses(\"text \"))\n",
    "print(remove_text_in_parentheses(\"t ext\"))\n",
    "print(remove_text_in_parentheses(\"te  xt\"))\n",
    "\n",
    "print(remove_text_in_parentheses(\"(text) d\"))\n",
    "print(remove_text_in_parentheses(\"(t) e(xt)  (d)d \"))\n",
    "print(remove_text_in_parentheses(\"VOUT_LINE_VDD (Temp=0,VREF_LINE=0.05) X\"))\n"
   ]
  },
  {
   "cell_type": "code",
   "execution_count": null,
   "id": "8d38aaa8",
   "metadata": {},
   "outputs": [
    {
     "name": "stdout",
     "output_type": "stream",
     "text": [
      "False\n",
      "True\n",
      "False\n"
     ]
    }
   ],
   "source": [
    "# Simple syntax test\n",
    "print(5 >= 6 >= 1)\n",
    "print(5 >= 4 >= 1)\n",
    "print(5 >= 0 >= 1)"
   ]
  },
  {
   "cell_type": "markdown",
   "id": "a061edb7",
   "metadata": {},
   "source": [
    "<h3> Fixing ICASL.arange() </h3>"
   ]
  },
  {
   "cell_type": "code",
   "execution_count": null,
   "id": "7b0d37c0",
   "metadata": {},
   "outputs": [
    {
     "name": "stdout",
     "output_type": "stream",
     "text": [
      "[1.7, 1.65, 1.6, 1.55, 1.5, 1.45, 1.4, 1.35]\n",
      "[1.7  1.65 1.6  1.55 1.5  1.45 1.4 ]\n",
      "\n",
      "\n",
      "[1.8, 1.75, 1.7, 1.65, 1.6, 1.55, 1.5, 1.45, 1.4, 1.35, 1.3, 1.25, 1.2, 1.15, 1.1, 1.05, 1.0]\n",
      "[1.8  1.75 1.7  1.65 1.6  1.55 1.5  1.45 1.4  1.35 1.3  1.25 1.2  1.15\n",
      " 1.1  1.05]\n",
      "\n",
      "[1.8, 1.75, 1.7, 1.65, 1.6, 1.55, 1.5, 1.45, 1.4, 1.35]\n",
      "[1.8  1.75 1.7  1.65 1.6  1.55 1.5  1.45 1.4 ]\n",
      "\n",
      "[1.8, 1.75, 1.7, 1.65, 1.6, 1.55, 1.5, 1.45, 1.4, 1.35]\n",
      "[1.8, 1.75, 1.7, 1.65, 1.6, 1.55, 1.5, 1.45, 1.4]\n",
      "\n",
      "[1.8, 1.75, 1.7, 1.65, 1.6, 1.55, 1.5, 1.45, 1.4, 1.35]\n",
      "[1.8, 1.75, 1.7, 1.65, 1.6, 1.55, 1.5, 1.45, 1.4, 1.35]\n",
      "[1.8, 1.75, 1.7, 1.65, 1.6, 1.55, 1.5, 1.45, 1.4]\n"
     ]
    }
   ],
   "source": [
    "# Why is ICASL.arange() sometimes wrong?\n",
    "# Solved below. Very gross.\n",
    "\n",
    "import ICASL\n",
    "import numpy as np\n",
    "print(ICASL.arange(1.7, 1.4, -.05)) # Excludes end\n",
    "print(np.arange(1.7, 1.4, -.05)) # Includes end\n",
    "print(\"\")\n",
    "# print(ICASL.arange(0, 1.8, 0.05)) # Includes end\n",
    "# print(np.arange(0, 1.8, 0.05)) # Excludes end\n",
    "# print(\"\")\n",
    "# print(ICASL.arange(1.8, 0, -.05)) # Includes end\n",
    "# print(np.arange(1.8, 0, -.05)) # Excludes end\n",
    "# print(\"\")\n",
    "# print(ICASL.arange(1.8, .1, -.05)) # Includes end\n",
    "# print(np.arange(1.8, .1, -.05)) # Excludes end\n",
    "print(\"\")\n",
    "print(ICASL.arange(1.8, 1, -.05)) # Includes end\n",
    "print(np.arange(1.8, 1, -.05)) # Excludes end\n",
    "print(\"\")\n",
    "print(ICASL.arange(1.8, 1.4, -.05)) # Excludes end\n",
    "print(np.arange(1.8, 1.4, -.05)) # Includes end\n",
    "print(\"\")\n",
    "\n",
    "# It is only extremely precise edge cases where this occurs\n",
    "\n",
    "print(ICASL.arange(1.8, 1.4, -.05)) # Excludes end\n",
    "print([float(round(x, 12)) for x in np.arange(1.8, 1.4, -.05)]) # Includes end\n",
    "print(\"\")\n",
    "print(ICASL.arange(1.8, 1.4, -.05)) # Excludes end\n",
    "print([float(round(x, 12)) for x in np.arange(1.8, 1.4-.05, -.05)]) # Excludes end\n",
    "np.arange(1.8, 1.4, -.05)[-1]\n",
    "\n",
    "# A slighly lower value is causes the numpy values to not create the full range. ICASL's corrections are happening too late.\n",
    "\n",
    "print(ICASL.arange(1.8, 1.4+1e-12, -.05)) # This solved it. Yuck. Propagated to ICASL.py."
   ]
  },
  {
   "cell_type": "markdown",
   "id": "b63a8fe1",
   "metadata": {},
   "source": [
    "Still doesn't work:"
   ]
  },
  {
   "cell_type": "code",
   "execution_count": null,
   "id": "7b52cd41",
   "metadata": {},
   "outputs": [
    {
     "name": "stdout",
     "output_type": "stream",
     "text": [
      "[0.0, 0.2, 0.4, 0.6, 0.8, 1.0, 1.2, 1.4, 1.6, 1.8]\n",
      "[1.8, 1.75, 1.7, 1.65, 1.6, 1.55, 1.5, 1.45, 1.4]\n",
      "[0.0, 0.2, 0.4, 0.6, 0.8, 1.0, 1.2, 1.4, 1.6, 1.8]\n",
      "[1.8, 1.75, 1.7, 1.65, 1.6, 1.55, 1.5, 1.45, 1.4]\n"
     ]
    }
   ],
   "source": [
    "import numpy as np\n",
    "start = 0\n",
    "stop = 1.8\n",
    "step = .2\n",
    "listA = np.arange(start, stop+step, step)\n",
    "# Rounds to a far out decimal place. Because of how floats are stored, np.arange could return bizarre values otherwise. \n",
    "# i.e. 2 -> 1.99999999999999995\n",
    "listA = [float(round(element, 12)) for element in listA]\n",
    "print(listA)\n",
    "\n",
    "listA = np.arange(1.8, 1.4, -.05) # Includes end\n",
    "listA = [float(round(element, 12)) for element in listA]\n",
    "print(listA)\n",
    "\n",
    "listA = np.arange(start, stop+step+1e-16, step)\n",
    "# Rounds to a far out decimal place. Because of how floats are stored, np.arange could return bizarre values otherwise. \n",
    "# i.e. 2 -> 1.99999999999999995\n",
    "listA = [float(round(element, 12)) for element in listA]\n",
    "print(listA)\n",
    "\n",
    "listA = np.arange(1.8, 1.4+1e-16, -.05) # Includes end\n",
    "listA = [float(round(element, 12)) for element in listA]\n",
    "print(listA)\n",
    "\n",
    "listA = np.arange(start, stop+step+1e-12, step)\n",
    "listA = [float(round(element, 12)) for element in listA]\n",
    "print(listA)\n",
    "\n",
    "listA = np.arange(1.8, 1.4+1e-12, -.05) # Includes end\n",
    "listA = [float(round(element, 12)) for element in listA]\n",
    "print(listA)"
   ]
  },
  {
   "cell_type": "code",
   "execution_count": null,
   "id": "3885f8d2",
   "metadata": {},
   "outputs": [],
   "source": [
    "# I'm just storing this here for now. I have an idea for something I could do with it later. Probably wouldn't work though.\n",
    "\n",
    "def temp_plot_init(title, x_label, y_label, plot_temps):\n",
    "    fig, ax = local_start_plot(title, x_label, y_label)\n",
    "    ax.set_xticks(ICASL.arange(min(plot_temps), max(plot_temps), 25))\n",
    "    #ax.set_xlim(min(plot_temps), max(plot_temps))\n",
    "    return fig, ax\n",
    "\n",
    "# temp,   current, voltage\n",
    "# z_to_x, xy_to_y, xy_to_z\n",
    "def temp_plot(read_dir, write_dir, plot_temps, plot_Vs, current, voltage, direction=None, annotations=None):\n",
    "    if (direction not in [\"Up\", \"Down\", None]): raise ValueError(f\"Invalid direction: {direction}. Must be 'Up' or 'Down\")\n",
    "    if (current != \"IDD\" and current != \"IREF\"): raise ValueError(f\"Invalid current: {current}. Must be 'IDD' or 'IREF\")\n",
    "    if (voltage != \"VDD\" and voltage != \"VREF\"): raise ValueError(f\"Invalid current: {voltage}. Must be 'VDD' or 'VREF\")\n",
    "    \n",
    "    # The inputs of this function don't match how I saved the data - whoops\n",
    "    if (voltage == \"VREF\"): test_name = f\"IREF_Sweep.csv\"\n",
    "    elif (voltage == \"VDD\"): test_name = f\"VDD_Sweep_{direction}.csv\"\n",
    "\n",
    "    all_currents = []\n",
    "    dfs = {}\n",
    "    for temp in plot_temps:\n",
    "        path = os.path.join(read_dir, f\"temp={temp}\", test_name)\n",
    "        df = ICASL.read_csv(path)\n",
    "        df = ICASL.fix_dataframe(df)                 # If you remove rows you might leave NaN's behind - this clears those rows\n",
    "        df[voltage] = df[voltage].round(3) # The equipment has a slight offset very often - 5*e^-5\n",
    "        df = df[df[voltage].isin(plot_Vs)]    # Filters rows by Vs\n",
    "        df = df.sort_values(by=voltage)\n",
    "        # if LOG: print(f\"df_Vs: {df[voltage]}\")\n",
    "        for df_V, V in zip(df[voltage], plot_Vs):\n",
    "            if round(df_V, 2) != round(V, 2):\n",
    "                raise ValueError(f\"Plot_Vs' {V} does not match '{voltage}' column's {df_V} in {path}\")\n",
    "        \n",
    "        # Stores all values so I can figure out what metric prefix they need to collectively use\n",
    "        dfs[temp] = df\n",
    "        for value in df[current].values:\n",
    "            all_currents.append(value)\n",
    "\n",
    "    fig, ax = temp_plot_init(f\"{current} Temperature Sweep\", \"Temperature (°C)\", f\"{current} ({ICASL.prefix(all_currents)}A)\", plot_temps)\n",
    "    for V in plot_Vs:\n",
    "        Is = []\n",
    "        for temp in plot_temps:\n",
    "            df = dfs[temp]\n",
    "            for df_V, df_I in zip(df[voltage], df[current]):\n",
    "                if round(df_V, 2) == round(V, 2):\n",
    "                    Is.append(df_I)\n",
    "                    break\n",
    "        ax.plot(plot_temps, ICASL.scale_by(Is, all_currents), label=f\"{voltage}={V} V\")\n",
    "    ax.set_ylabel(f'{current} Current ({ICASL.prefix(all_currents)}A)', fontdict={'fontsize': 12})\n",
    "    if (direction == None): save_file = f\"{current}_Over_Temperature_Across_{voltage}.png\"\n",
    "    else: save_file = f\"{current}_Over_Temperature_Across_Downwards_{voltage}.png\"\n",
    "    local_finish_plot(fig, ax, write_dir, save_file, legend=ax.legend(bbox_to_anchor=(1.02, 1)), annotations=annotations)"
   ]
  }
 ],
 "metadata": {
  "kernelspec": {
   "display_name": "Python 3",
   "language": "python",
   "name": "python3"
  },
  "language_info": {
   "codemirror_mode": {
    "name": "ipython",
    "version": 3
   },
   "file_extension": ".py",
   "mimetype": "text/x-python",
   "name": "python",
   "nbconvert_exporter": "python",
   "pygments_lexer": "ipython3",
   "version": "3.13.6"
  }
 },
 "nbformat": 4,
 "nbformat_minor": 5
}
