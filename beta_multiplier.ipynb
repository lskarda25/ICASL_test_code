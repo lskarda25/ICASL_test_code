{
 "cells": [
  {
   "cell_type": "markdown",
   "metadata": {
    "scrolled": true
   },
   "source": [
    "<b> Import Library, find available devices </b>"
   ]
  },
  {
   "cell_type": "code",
   "execution_count": 1,
   "metadata": {},
   "outputs": [
    {
     "data": {
      "text/plain": [
       "('GPIB6::6::INSTR',\n",
       " 'GPIB6::20::INSTR',\n",
       " 'GPIB6::21::INSTR',\n",
       " 'GPIB6::22::INSTR',\n",
       " 'USB0::0x0957::0x0607::MY45002108::0::INSTR',\n",
       " 'USB0::0x0957::0x1796::MY57231548::0::INSTR',\n",
       " 'USB0::0x0957::0x1796::MY57231553::0::INSTR',\n",
       " 'USB0::0x0957::0x17B6::MY56310504::0::INSTR',\n",
       " 'USB0::0x0957::0x2C07::MY57890777::0::INSTR',\n",
       " 'USB0::0x0957::0x5707::MY53802060::0::INSTR',\n",
       " 'USB0::0x2A8D::0x0101::MY54505624::0::INSTR',\n",
       " 'USB0::0x2A8D::0x0101::MY57508183::0::INSTR')"
      ]
     },
     "execution_count": 1,
     "metadata": {},
     "output_type": "execute_result"
    }
   ],
   "source": [
    "# Initialization code for 3.3 V SiGe LVR Load Regulation Testing.\n",
    "# This block identifies and initializes the connected SMUs (Source Measure Units).\n",
    "# If running for the first time, ensure the SMU names are correctly referenced in the subsequent code block.\n",
    "\n",
    "# This program sweeps VIN for a fixed VREF and measures total quiescent current (IQ) and VOUT. \n",
    "# This program sets up a directory for all measurements taken at a specific temperature by prompting the user for the temperature.\n",
    "# This program creates a .csv file to save the measurements for a VREF in the temperature directory. \n",
    "\n",
    "# The setup assumes the use of two SMUs:\n",
    "# - One dedicated to VIN sweeps.\n",
    "# - One Sinks a load current and measures VOUT.\n",
    "\n",
    "import pyvisa                    # Importing the pyvisa library for instrument communication\n",
    "import time                      # Importing the time module to handle time-related tasks (e.g., delays)\n",
    "import matplotlib.pyplot as plt  # Importing matplotlib.pyplot for plotting graphs and visualizing data\n",
    "import numpy as np               # Importing numpy for numerical operations, particularly with arrays\n",
    "import pandas as dp              # Importing pandas as dp for data manipulation and analysis\n",
    "import os                        # Importing os to interact with the operating system, such as handling file paths\n",
    "import csv                       # Importing csv to read from and write to CSV files\n",
    "from datetime import date           # Importing date to read current date\n",
    "rm = pyvisa.ResourceManager()    # Create a ResourceManager object, which manages communication with instruments\n",
    "rm.list_resources()              # List all available resources (e.g., connected instruments) managed by pyvisa"
   ]
  },
  {
   "cell_type": "code",
   "execution_count": 2,
   "metadata": {},
   "outputs": [
    {
     "name": "stdout",
     "output_type": "stream",
     "text": [
      "GPIBInstrument at GPIB6::20::INSTR\n",
      "KEITHLEY INSTRUMENTS INC.,MODEL 2401,4636506,B02 Jan 20 2021 10:19:49/B01  /W/N\n",
      "GPIBInstrument at GPIB6::21::INSTR\n",
      "KEITHLEY INSTRUMENTS INC.,MODEL 2401,4636504,B02 Jan 20 2021 10:19:49/B01  /W/N\n",
      "GPIBInstrument at GPIB6::22::INSTR\n",
      "KEITHLEY INSTRUMENTS INC.,MODEL 2400,1033554,C27   Feb  4 2004 14:58:04/A02  /K/H\n",
      "GPIBInstrument at GPIB6::6::INSTR\n",
      "NNNNNNNNNNNNNNNNNN0\n"
     ]
    }
   ],
   "source": [
    "#Establishing Connection for NMOS tap SMU\n",
    "SM_NMOS = rm.open_resource('GPIB6::20::INSTR')  # Open a connection to the instrument with the address 'ASRL3::INSTR' and assign it to SM_VIN\n",
    "SM_NMOS.read_termination = '\\n'             # Set the read termination character to a newline. This tells pyvisa when to consider a message as complete when reading from the instrument.\n",
    "SM_NMOS.write_termination = '\\n'            # Set the write termination character to a newline. This ensures that each command sent to the instrument is properly terminated.\n",
    "SM_NMOS.baud_rate = 9600                    # Set the baud rate for serial communication to 9600. This is the speed at which data is transmitted over the serial connection.\n",
    "print(SM_NMOS)                              # Print the resource object (SM_VIN) to display its properties\n",
    "print(SM_NMOS.query('*IDN?'))               # Send the '*IDN?' command to the instrument and print its response. This command usually asks the instrument to identify itself (e.g., manufacturer, model number).\n",
    "\n",
    "#Establishing Connection for PMOS tap SMU\n",
    "SM_PMOS = rm.open_resource('GPIB6::21::INSTR') # Open a connection to the instrument with the address 'ASRL4::INSTR' and assign it to SM_VOUT\n",
    "SM_PMOS.read_termination = '\\n'            # Set the read termination character to a newline for SM_VOUT, similar to SM_VIN\n",
    "SM_PMOS.write_termination = '\\n'           # Set the write termination character to a newline for SM_VOUT, similar to SM_VIN\n",
    "SM_PMOS.baud_rate = 9600                   # Set the baud rate for SM_VOUT to 9600, ensuring both instruments communicate at the same speed\n",
    "print(SM_PMOS)                             # Print the resource object (SM_VOUT) to display its properties\n",
    "print(SM_PMOS.query('*IDN?'))              # Send the '*IDN?' command to the SM_VOUT instrument and print its response, identifying the instrument\n",
    "\n",
    "#Establishing Connection for VDD SMU\n",
    "SM_VDD = rm.open_resource('GPIB6::22::INSTR') # Open a connection to the instrument with the address 'ASRL4::INSTR' and assign it to SM_VOUT\n",
    "SM_VDD.read_termination = '\\n'            # Set the read termination character to a newline for SM_VOUT, similar to SM_VIN\n",
    "SM_VDD.write_termination = '\\n'           # Set the write termination character to a newline for SM_VOUT, similar to SM_VIN\n",
    "SM_VDD.baud_rate = 9600                   # Set the baud rate for SM_VOUT to 9600, ensuring both instruments communicate at the same speed\n",
    "print(SM_VDD)                             # Print the resource object (SM_VOUT) to display its properties\n",
    "print(SM_VDD.query('*IDN?'))              # Send the '*IDN?' command to the SM_VOUT instrument and print its response, identifying the instrument\n",
    "\n",
    "\n",
    "#Establishing Connection for Temperature Chamber\n",
    "CHAMBER = rm.open_resource('GPIB6::6::INSTR') \n",
    "CHAMBER.read_termination = '\\n'            \n",
    "CHAMBER.write_termination = '\\n'           \n",
    "CHAMBER.baud_rate = 9600                  \n",
    "print(CHAMBER)                            \n",
    "print(CHAMBER.query('STATUS?'))              \n",
    "\n",
    "VDD_MAX=1.2\n",
    "\n",
    "\n",
    "TEMPlist = [125, 100, 75, 50, 25, 0, -25, -50, -75, -100, -125, -150, -175]      # List of temperatures for test"
   ]
  },
  {
   "cell_type": "markdown",
   "metadata": {},
   "source": [
    "<b> Initialize Source Meter (NMOS tap) <b>"
   ]
  },
  {
   "cell_type": "code",
   "execution_count": 3,
   "metadata": {},
   "outputs": [
    {
     "name": "stdout",
     "output_type": "stream",
     "text": [
      "\"CURR:DC\"\n"
     ]
    },
    {
     "data": {
      "text/plain": [
       "12"
      ]
     },
     "execution_count": 3,
     "metadata": {},
     "output_type": "execute_result"
    }
   ],
   "source": [
    "#TODO CONFIGURE FOR NEW TEST\n",
    "SM_NMOS.write(\":CONF:CURR\")                  # Configure the SMU to measure current\n",
    "SM_NMOS.write(\"OUTP:STAT 0\")                 # Turn off the VIN source meter\n",
    "SM_NMOS.timeout = 200000                  # Set the timeout for the SMU operations to 200,000 milliseconds (200 seconds).\n",
    "print(SM_NMOS.query(\":CONF?\"))               # Query and print the current configuration of the SMU\n",
    "SM_NMOS.write(\"SOUR:VOLT:RANG 1.2\")\n",
    "SM_NMOS.write(\"SENS:CURR:PROT:LEV 0.0105\")   # Set the current protection level (compliance) to 10.5 mA. This limits the maximum current to protect the device under test.\n",
    "SM_NMOS.write(\"SENS:CURR:RANG 1E-2\")         # Set the current measurement range to 10 mA. This sets the expected maximum current for accurate measurement.\n",
    "SM_NMOS.write(\"CURR:NPLC 1\")                # Set the number of power line cycles (NPLC) for the current measurement to 10. \n",
    "                                            # This controls the integration time, with higher values leading to more accurate but slower measurements."
   ]
  },
  {
   "cell_type": "markdown",
   "metadata": {},
   "source": [
    "<b> Initialize Source Meter (PMOS tap) <b>"
   ]
  },
  {
   "cell_type": "code",
   "execution_count": 4,
   "metadata": {},
   "outputs": [
    {
     "name": "stdout",
     "output_type": "stream",
     "text": [
      "\"CURR:DC\"\n"
     ]
    },
    {
     "data": {
      "text/plain": [
       "12"
      ]
     },
     "execution_count": 4,
     "metadata": {},
     "output_type": "execute_result"
    }
   ],
   "source": [
    "SM_PMOS.write(\":CONF:CURR\")                  # Configure the SMU to measure current\n",
    "SM_PMOS.write(\"OUTP:STAT 0\")                 # Turn off the VIN source meter\n",
    "SM_PMOS.timeout = 200000                  # Set the timeout for the SMU operations to 200,000 milliseconds (200 seconds).\n",
    "print(SM_PMOS.query(\":CONF?\"))               # Query and print the current configuration of the SMU\n",
    "SM_PMOS.write(\"SOUR:VOLT:RANG 1.2\")\n",
    "SM_PMOS.write(\"SENS:CURR:PROT:LEV 0.0105\")   # Set the current protection level (compliance) to 10.5 mA. This limits the maximum current to protect the device under test.\n",
    "SM_PMOS.write(\"SENS:CURR:RANG 1E-2\")         # Set the current measurement range to 10 mA. This sets the expected maximum current for accurate measurement.\n",
    "SM_PMOS.write(\"CURR:NPLC 1\")                # Set the number of power line cycles (NPLC) for the current measurement to 10. \n",
    "                                            # This controls the integration time, with higher values leading to more accurate but slower measurements."
   ]
  },
  {
   "cell_type": "markdown",
   "metadata": {},
   "source": [
    "<b> Initialize Source Meter (VDD) <b>"
   ]
  },
  {
   "cell_type": "code",
   "execution_count": 5,
   "metadata": {},
   "outputs": [
    {
     "name": "stdout",
     "output_type": "stream",
     "text": [
      "\"CURR:DC\"\n"
     ]
    },
    {
     "data": {
      "text/plain": [
       "12"
      ]
     },
     "execution_count": 5,
     "metadata": {},
     "output_type": "execute_result"
    }
   ],
   "source": [
    "SM_VDD.write(\":CONF:CURR\")                  # Configure the SMU to measure current\n",
    "SM_VDD.write(\"OUTP:STAT 0\")                 # Turn off the VIN source meter\n",
    "SM_VDD.timeout = 200000                  # Set the timeout for the SMU operations to 200,000 milliseconds (200 seconds).\n",
    "print(SM_VDD.query(\":CONF?\"))               # Query and print the current configuration of the SMU\n",
    "SM_VDD.write(\"SOUR:VOLT:RANG 1.2\")\n",
    "SM_VDD.write(\"SENS:CURR:PROT:LEV 0.0105\")   # Set the current protection level (compliance) to 10.5 mA. This limits the maximum current to protect the device under test.\n",
    "SM_VDD.write(\"SENS:CURR:RANG 1E-2\")         # Set the current measurement range to 10 mA. This sets the expected maximum current for accurate measurement.\n",
    "SM_VDD.write(\"CURR:NPLC 1\")                # Set the number of power line cycles (NPLC) for the current measurement to 10. \n",
    "                                            # This controls the integration time, with higher values leading to more accurate but slower measurements."
   ]
  },
  {
   "cell_type": "markdown",
   "metadata": {},
   "source": [
    "<b> Initialize Temperature Chamber <b>"
   ]
  },
  {
   "cell_type": "code",
   "execution_count": null,
   "metadata": {},
   "outputs": [],
   "source": [
    "CHAMBER.write(\"ON\")\n",
    "CHAMBER.write(\"RATE=20\")            # Sets the speed at which the chamber will ramp to change TEMP\n",
    "CHAMBER.write(\"WAIT=30\")            # Sets the time that the chamber will wait once the desired temperature is reached before measurements start\n",
    "CHAMBER.write(\"HON\")                # Turns heat on\n",
    "CHAMBER.write(\"CON\")                # Turns cool on\n",
    "time.sleep(1) \n",
    "\n",
    "print(CHAMBER.query(\"RATE?\"))\n",
    "print(CHAMBER.query(\"WAIT?\"))"
   ]
  },
  {
   "cell_type": "markdown",
   "metadata": {
    "scrolled": true
   },
   "source": [
    "<b> Enter the Device under Test <b>"
   ]
  },
  {
   "cell_type": "code",
   "execution_count": null,
   "metadata": {},
   "outputs": [],
   "source": [
    "directory_name = input(\"Enter the Device under Test (DUT):\")  # Prompt the user to input the temperature of the experiment, which will be used as the directory name\n",
    "DUT=\"DUT_\"+str(directory_name)\n",
    "os.makedirs(DUT, exist_ok=True)                             # Create a directory with the given name. If the directory already exists, it won't raise an error due to exist_ok=True\n",
    "DATE=str(DUT)+\"/\"+str(date.today())                         # Create another directory for test date within DUT name\n",
    "os.makedirs(DATE, exist_ok=True) "
   ]
  },
  {
   "cell_type": "code",
   "execution_count": 6,
   "metadata": {},
   "outputs": [
    {
     "data": {
      "text/plain": [
       "9"
      ]
     },
     "execution_count": 6,
     "metadata": {},
     "output_type": "execute_result"
    }
   ],
   "source": [
    "#TURN ON DEVICE HERE\n",
    "SM_VDD.write(\":SOUR:VOLT:MODE FIX\")                             # Sets source mode to fix in case sweeps are used\n",
    "SM_NMOS.write(\":SOUR:VOLT:MODE FIX\")                    \n",
    "SM_PMOS.write(\":SOUR:VOLT:MODE FIX\")\n",
    "\n",
    "#TODO: figure out expected current range\n",
    "#SM_VDD.write(\"SENS:CURR:RANG 1E-2\")\n",
    "#SM_NMOS.write(\"SENS:CURR:RANG 1E-2\")                            \n",
    "#SM_PMOS.write(\"SENS:CURR:RANG 1E-2\")\n",
    "\n",
    "SM_VDD.write(\"SOUR:VOLT:LEV 1.2\")                               # Set VDD source value\n",
    "SM_NMOS.write(\"SOUR:VOLT:LEV 0\")  \n",
    "SM_PMOS.write(\"SOUR:VOLT:LEV 1.2\")\n",
    "\n",
    "SM_VDD.write(\":OUTP ON\")                                     # Turn on the devices\n",
    "#SM_NMOS.write(\"OUTP:STAT 1\")\n",
    "SM_NMOS.write(\":OUTP ON\")\n",
    "SM_PMOS.write(\":OUTP ON\")"
   ]
  },
  {
   "cell_type": "code",
   "execution_count": 10,
   "metadata": {},
   "outputs": [
    {
     "ename": "KeyboardInterrupt",
     "evalue": "",
     "output_type": "error",
     "traceback": [
      "\u001b[1;31m---------------------------------------------------------------------------\u001b[0m",
      "\u001b[1;31mKeyboardInterrupt\u001b[0m                         Traceback (most recent call last)",
      "Cell \u001b[1;32mIn[10], line 58\u001b[0m\n\u001b[0;32m     54\u001b[0m SM_PMOS\u001b[38;5;241m.\u001b[39mwrite(\u001b[38;5;124m\"\u001b[39m\u001b[38;5;124mINIT\u001b[39m\u001b[38;5;124m\"\u001b[39m)                             \u001b[38;5;66;03m# Initiate the sweep on SM_PMOS\u001b[39;00m\n\u001b[0;32m     57\u001b[0m \u001b[38;5;66;03m# Wait for the measurement to complete\u001b[39;00m\n\u001b[1;32m---> 58\u001b[0m SM_PMOS\u001b[38;5;241m.\u001b[39mwrite(\u001b[38;5;124m\"\u001b[39m\u001b[38;5;124m*WAI\u001b[39m\u001b[38;5;124m\"\u001b[39m)                             \u001b[38;5;66;03m# Wait until all operations complete\u001b[39;00m\n\u001b[0;32m     59\u001b[0m SM_VDD\u001b[38;5;241m.\u001b[39mwrite(\u001b[38;5;124m\"\u001b[39m\u001b[38;5;124m*WAI\u001b[39m\u001b[38;5;124m\"\u001b[39m)\n\u001b[0;32m     61\u001b[0m \u001b[38;5;66;03m# Read and store current measurements from the trace buffers of both SMUs\u001b[39;00m\n",
      "Cell \u001b[1;32mIn[10], line 58\u001b[0m\n\u001b[0;32m     54\u001b[0m SM_PMOS\u001b[38;5;241m.\u001b[39mwrite(\u001b[38;5;124m\"\u001b[39m\u001b[38;5;124mINIT\u001b[39m\u001b[38;5;124m\"\u001b[39m)                             \u001b[38;5;66;03m# Initiate the sweep on SM_PMOS\u001b[39;00m\n\u001b[0;32m     57\u001b[0m \u001b[38;5;66;03m# Wait for the measurement to complete\u001b[39;00m\n\u001b[1;32m---> 58\u001b[0m SM_PMOS\u001b[38;5;241m.\u001b[39mwrite(\u001b[38;5;124m\"\u001b[39m\u001b[38;5;124m*WAI\u001b[39m\u001b[38;5;124m\"\u001b[39m)                             \u001b[38;5;66;03m# Wait until all operations complete\u001b[39;00m\n\u001b[0;32m     59\u001b[0m SM_VDD\u001b[38;5;241m.\u001b[39mwrite(\u001b[38;5;124m\"\u001b[39m\u001b[38;5;124m*WAI\u001b[39m\u001b[38;5;124m\"\u001b[39m)\n\u001b[0;32m     61\u001b[0m \u001b[38;5;66;03m# Read and store current measurements from the trace buffers of both SMUs\u001b[39;00m\n",
      "File \u001b[1;32m_pydevd_bundle/pydevd_cython.pyx:1457\u001b[0m, in \u001b[0;36m_pydevd_bundle.pydevd_cython.SafeCallWrapper.__call__\u001b[1;34m()\u001b[0m\n",
      "File \u001b[1;32m_pydevd_bundle/pydevd_cython.pyx:701\u001b[0m, in \u001b[0;36m_pydevd_bundle.pydevd_cython.PyDBFrame.trace_dispatch\u001b[1;34m()\u001b[0m\n",
      "File \u001b[1;32m_pydevd_bundle/pydevd_cython.pyx:1395\u001b[0m, in \u001b[0;36m_pydevd_bundle.pydevd_cython.PyDBFrame.trace_dispatch\u001b[1;34m()\u001b[0m\n",
      "File \u001b[1;32m_pydevd_bundle/pydevd_cython.pyx:1344\u001b[0m, in \u001b[0;36m_pydevd_bundle.pydevd_cython.PyDBFrame.trace_dispatch\u001b[1;34m()\u001b[0m\n",
      "File \u001b[1;32m_pydevd_bundle/pydevd_cython.pyx:312\u001b[0m, in \u001b[0;36m_pydevd_bundle.pydevd_cython.PyDBFrame.do_wait_suspend\u001b[1;34m()\u001b[0m\n",
      "File \u001b[1;32mc:\\ProgramData\\anaconda3\\Lib\\site-packages\\debugpy\\_vendored\\pydevd\\pydevd.py:2070\u001b[0m, in \u001b[0;36mPyDB.do_wait_suspend\u001b[1;34m(self, thread, frame, event, arg, exception_type)\u001b[0m\n\u001b[0;32m   2067\u001b[0m             from_this_thread\u001b[38;5;241m.\u001b[39mappend(frame_custom_thread_id)\n\u001b[0;32m   2069\u001b[0m     \u001b[38;5;28;01mwith\u001b[39;00m \u001b[38;5;28mself\u001b[39m\u001b[38;5;241m.\u001b[39m_threads_suspended_single_notification\u001b[38;5;241m.\u001b[39mnotify_thread_suspended(thread_id, thread, stop_reason):\n\u001b[1;32m-> 2070\u001b[0m         keep_suspended \u001b[38;5;241m=\u001b[39m \u001b[38;5;28mself\u001b[39m\u001b[38;5;241m.\u001b[39m_do_wait_suspend(thread, frame, event, arg, suspend_type, from_this_thread, frames_tracker)\n\u001b[0;32m   2072\u001b[0m frames_list \u001b[38;5;241m=\u001b[39m \u001b[38;5;28;01mNone\u001b[39;00m\n\u001b[0;32m   2074\u001b[0m \u001b[38;5;28;01mif\u001b[39;00m keep_suspended:\n\u001b[0;32m   2075\u001b[0m     \u001b[38;5;66;03m# This means that we should pause again after a set next statement.\u001b[39;00m\n",
      "File \u001b[1;32mc:\\ProgramData\\anaconda3\\Lib\\site-packages\\debugpy\\_vendored\\pydevd\\pydevd.py:2106\u001b[0m, in \u001b[0;36mPyDB._do_wait_suspend\u001b[1;34m(self, thread, frame, event, arg, suspend_type, from_this_thread, frames_tracker)\u001b[0m\n\u001b[0;32m   2103\u001b[0m         \u001b[38;5;28mself\u001b[39m\u001b[38;5;241m.\u001b[39m_call_input_hook()\n\u001b[0;32m   2105\u001b[0m     \u001b[38;5;28mself\u001b[39m\u001b[38;5;241m.\u001b[39mprocess_internal_commands()\n\u001b[1;32m-> 2106\u001b[0m     time\u001b[38;5;241m.\u001b[39msleep(\u001b[38;5;241m0.01\u001b[39m)\n\u001b[0;32m   2108\u001b[0m \u001b[38;5;28mself\u001b[39m\u001b[38;5;241m.\u001b[39mcancel_async_evaluation(get_current_thread_id(thread), \u001b[38;5;28mstr\u001b[39m(\u001b[38;5;28mid\u001b[39m(frame)))\n\u001b[0;32m   2110\u001b[0m \u001b[38;5;66;03m# process any stepping instructions\u001b[39;00m\n",
      "\u001b[1;31mKeyboardInterrupt\u001b[0m: "
     ]
    }
   ],
   "source": [
    "# Reset both SMUs to default settings and clear errors\n",
    "#SM_PMOS.write(\"*RST; *CLS\")\n",
    "#SM_VDD.write(\"*RST; *CLS\")\n",
    "SM_PMOS.write(\"*CLS\")\n",
    "SM_VDD.write(\"*CLS\")\n",
    "\n",
    "# Clear trace buffers and triggers\n",
    "SM_PMOS.write(\"TRAC:CLE\")\n",
    "SM_VDD.write(\"TRAC:CLE\")\n",
    "SM_PMOS.write(\"TRIG:CLE\")\n",
    "SM_VDD.write(\"TRIG:CLE\")\n",
    "\n",
    "# Configure SM_PMOS (Master)\n",
    "SM_PMOS.timeout = 200000                          # Set timeout for SMU operations\n",
    "SM_PMOS.write(\"SYST:AZER ON\")                     # Enable auto-zero\n",
    "SM_PMOS.write(\"SOUR:FUNC VOLT\")                   # Set source function to voltage \n",
    "SM_PMOS.write(\"SOUR:VOLT:START 0\")                # Set start voltage\n",
    "SM_PMOS.write(\"SOUR:VOLT:STOP 1.2\")                   # Set stop voltage\n",
    "SM_PMOS.write(\"SOUR:VOLT:STEP 0.01\")             # Set voltage step size\n",
    "\n",
    "SM_PMOS.write(\"SOUR:VOLT:MODE SWE\")               # Set source mode to sweep\n",
    "#SM_PMOS.write(\":SOUR:SWE:DIRE DOW\")\n",
    "SM_PMOS.write(\"SENS:FUNC 'CURR'\")                 # Set measurement function to current\n",
    "SM_PMOS.write(\"SENS:CURR:PROT 0.00005\")           # Set current protection (compliance) to 50 µA\n",
    "SM_PMOS.write(\"SENS:CURR:RANG 0.0001\")            # Set current range\n",
    "SM_PMOS.write(\"SENS:CURR:NPLC 1\")                 # Set NPLC for current measurement to 1\n",
    "SM_PMOS.write(\"TRIG:COUN 121\")                   # Set trigger count to match sweep points\n",
    "SM_PMOS.write(\"TRIG:SOUR IMM\")                    # Immediate trigger source for the master\n",
    "SM_PMOS.write(\"TRIG:OUTP SOUR\")                   # Set trigger output to Trigger Link\n",
    "#SM_PMOS.write(\"TRIG:INP SENS\")\n",
    "SM_PMOS.write(\"OUTP ON\")                          # Enable output\n",
    "\n",
    "# Configure SM_VDD (Slave)\n",
    "SM_VDD.timeout = 200000                           # Set timeout for SMU operations\n",
    "SM_VDD.write(\"SYST:AZER ON\")                      # Enable auto-zero\n",
    "SM_VDD.write(\"SOUR:FUNC VOLT\")                    # Set source function to voltage\n",
    "SM_VDD.write(\"SOUR:VOLT:START 0\")                # Set start voltage\n",
    "SM_VDD.write(\"SOUR:VOLT:STOP 1.2\")                   # Set stop voltage\n",
    "SM_VDD.write(\"SOUR:VOLT:STEP 0.01\")             # Set voltage step size\n",
    "#SM_VDD.write(\"SOUR:SWE:DIRE DOW\")\n",
    "SM_VDD.write(\"SOUR:VOLT:MODE SWE\")               # Set source mode to sweep\n",
    "SM_VDD.write(\"SENS:FUNC 'CURR'\")                  # Set measurement function to current\n",
    "SM_VDD.write(\"SENS:CURR:PROT 0.00005\")            # Set current protection (compliance) to 50 µA\n",
    "SM_VDD.write(\"SENS:CURR:RANG 0.0001\")             # Set current range\n",
    "SM_VDD.write(\"SENS:CURR:NPLC 1\")                  # Set NPLC for current measurement to 1\n",
    "SM_VDD.write(\"TRIG:COUN 121\")                    # Set trigger count to match sweep points\n",
    "SM_VDD.write(\"TRIG:SOUR TLIN\")                    # Trigger source is Trigger Link (slave)\n",
    "SM_VDD.write(\"TRIG:INP SOUR\")                   # Set trigger output to Trigger Link\n",
    "#SM_VDD.write(\"TRIG:OUTP SOUR\")\n",
    "SM_VDD.write(\"OUTP ON\")                           # Enable output\n",
    "\n",
    "# Start the measurement\n",
    "SM_VDD.write(\"INIT\")                              # Ensure SM_VDD is also ready\n",
    "SM_PMOS.write(\"INIT\")                             # Initiate the sweep on SM_PMOS\n",
    "\n",
    "\n",
    "# Wait for the measurement to complete\n",
    "SM_PMOS.write(\"*WAI\")                             # Wait until all operations complete\n",
    "SM_VDD.write(\"*WAI\")\n",
    "\n",
    "# Read and store current measurements from the trace buffers of both SMUs\n",
    "ipmos_t = SM_PMOS.query(\"TRAC:DATA?\")             # Retrieve data from SM_PMOS trace buffer\n",
    "icc_t = SM_VDD.query(\"TRAC:DATA?\")                # Retrieve data from SM_VDD trace buffer\n",
    "\n",
    "\n",
    "\n",
    "# Return outputs back to normal\n",
    "SM_VDD.write(\":SOUR:VOLT:MODE FIX\")                             # Sets source mode to fix in case sweeps are used                 \n",
    "SM_PMOS.write(\":SOUR:VOLT:MODE FIX\")\n",
    "\n",
    "SM_VDD.write(\"SOUR:VOLT:LEV 1.2\")                               # Set VDD source value\n",
    "SM_PMOS.write(\"SOUR:VOLT:LEV 1.2\")\n",
    "\n",
    "SM_VDD.write(\"OUTP:STAT 1\")                                     # Turn on the devices\n",
    "SM_PMOS.write(\"OUTP:STAT 1\")"
   ]
  },
  {
   "cell_type": "markdown",
   "metadata": {},
   "source": [
    "<b> Test Protocol </b>"
   ]
  },
  {
   "cell_type": "code",
   "execution_count": null,
   "metadata": {},
   "outputs": [],
   "source": [
    "#TURN ON DEVICE HERE\n",
    "SM_VDD.write(\":SOUR:VOLT:MODE FIX\")                             # Sets source mode to fix in case sweeps are used\n",
    "SM_NMOS.write(\":SOUR:VOLT:MODE FIX\")                    \n",
    "SM_PMOS.write(\":SOUR:VOLT:MODE FIX\")\n",
    "\n",
    "#TODO: figure out expected current range\n",
    "#SM_VDD.write(\"SENS:CURR:RANG 1E-2\")\n",
    "#SM_NMOS.write(\"SENS:CURR:RANG 1E-2\")                            \n",
    "#SM_PMOS.write(\"SENS:CURR:RANG 1E-2\")\n",
    "\n",
    "SM_VDD.write(\"SOUR:VOLT:LEV 1.2\")                               # Set VDD source value\n",
    "SM_NMOS.write(\"SOUR:VOLT:LEV 0\")  \n",
    "SM_PMOS.write(\"SOUR:VOLT:LEV 1.2\")\n",
    "\n",
    "SM_VDD.write(\"OUTP:STAT 1\")                                     # Turn on the devices\n",
    "#SM_NMOS.write(\"OUTP:STAT 1\")\n",
    "SM_NMOS.write(\":OUTP ON\")\n",
    "SM_PMOS.write(\"OUTP:STAT 1\")\n",
    "\n",
    "\n",
    "\n",
    "for TEMP in TEMPlist:\n",
    "    local=str(DATE)+\"/TEMP_\"+str(TEMP)                           # The temperature of the experiment gets set as the sub directory name\n",
    "    os.makedirs(local, exist_ok=True)                           # Create a directory with the given name. If the directory already exists, it won't raise an error due to exist_ok=True\n",
    "    \n",
    "    CHAMBER.write(\"WAIT=30\")                                    # Resets the wait time of the temp chamber to 30 minutes so it doesn't time out mid test\n",
    "    CHAMBER.write(\"SET=\" + str(TEMP))\n",
    "    # TODO: There is probably a better way to check for temperature settling and do wait time\n",
    "    while (CHAMBER.query(\"STATUS?\")[3] == 'N'):                 # Checks if the temperature chamber has arrived at TEMP yet or not\n",
    "        time.sleep(15)\n",
    "        print(CHAMBER.query(\"STATUS?\"))  \n",
    "    print(CHAMBER.query(\"STATUS?\"))\n",
    "    time.sleep(300)                                              # Soak time\n",
    "\n",
    "    #####################################################\n",
    "    ##################### VDD Sweep #####################\n",
    "    #####################################################\n",
    "    # Reset both SMUs to default settings and clear errors\n",
    "    #SM_PMOS.write(\"*RST; *CLS\")\n",
    "    #SM_VDD.write(\"*RST; *CLS\")\n",
    "    SM_PMOS.write(\"*CLS\")\n",
    "    SM_VDD.write(\"*CLS\")\n",
    "\n",
    "    # Clear trace buffers and triggers\n",
    "    SM_PMOS.write(\"TRAC:CLE\")\n",
    "    SM_VDD.write(\"TRAC:CLE\")\n",
    "    SM_PMOS.write(\"TRIG:CLE\")\n",
    "    SM_VDD.write(\"TRIG:CLE\")\n",
    "\n",
    "    # Configure SM_PMOS (Master)\n",
    "    SM_PMOS.timeout = 200000                          # Set timeout for SMU operations\n",
    "    SM_PMOS.write(\"SYST:AZER ON\")                     # Enable auto-zero\n",
    "    SM_PMOS.write(\"SOUR:FUNC VOLT\")                   # Set source function to voltage \n",
    "    SM_PMOS.write(\"SOUR:VOLT:START 0\")                # Set start voltage\n",
    "    SM_PMOS.write(\"SOUR:VOLT:STOP 1.2\")                   # Set stop voltage\n",
    "    SM_PMOS.write(\"SOUR:VOLT:STEP 0.001\")             # Set voltage step size\n",
    "    SM_PMOS.write(\"SOUR:SWE:DIRE DOW\")\n",
    "    SM_PMOS.write(\"SOUR:VOLT:MODE SWE\")               # Set source mode to sweep\n",
    "    SM_PMOS.write(\"SENS:FUNC 'CURR'\")                 # Set measurement function to current\n",
    "    SM_PMOS.write(\"SENS:CURR:PROT 0.00005\")           # Set current protection (compliance) to 50 µA\n",
    "    SM_PMOS.write(\"SENS:CURR:RANG 0.0001\")            # Set current range\n",
    "    SM_PMOS.write(\"SENS:CURR:NPLC 1\")                 # Set NPLC for current measurement to 1\n",
    "    SM_PMOS.write(\"TRIG:COUN 1201\")                   # Set trigger count to match sweep points\n",
    "    SM_PMOS.write(\"TRIG:SOUR IMM\")                    # Immediate trigger source for the master\n",
    "    SM_PMOS.write(\"TRIG:OUTP TLIN\")                   # Set trigger output to Trigger Link\n",
    "    SM_PMOS.write(\"OUTP ON\")                          # Enable output\n",
    "\n",
    "    # Configure SM_VDD (Slave)\n",
    "    SM_VDD.timeout = 200000                           # Set timeout for SMU operations\n",
    "    SM_VDD.write(\"SYST:AZER ON\")                      # Enable auto-zero\n",
    "    SM_VDD.write(\"SOUR:FUNC VOLT\")                    # Set source function to voltage\n",
    "    SM_VDD.write(\"SOUR:VOLT:START 0\")                # Set start voltage\n",
    "    SM_VDD.write(\"SOUR:VOLT:STOP 1.2\")                   # Set stop voltage\n",
    "    SM_VDD.write(\"SOUR:VOLT:STEP 0.001\")             # Set voltage step size\n",
    "    SM_VDD.write(\"SOUR:SWE:DIRE DOW\")\n",
    "    SM_VDD.write(\"SOUR:VOLT:MODE SWE\")               # Set source mode to sweep\n",
    "    SM_VDD.write(\"SENS:FUNC 'CURR'\")                  # Set measurement function to current\n",
    "    SM_VDD.write(\"SENS:CURR:PROT 0.00005\")            # Set current protection (compliance) to 50 µA\n",
    "    SM_VDD.write(\"SENS:CURR:RANG 0.0001\")             # Set current range\n",
    "    SM_VDD.write(\"SENS:CURR:NPLC 1\")                  # Set NPLC for current measurement to 1\n",
    "    SM_VDD.write(\"TRIG:COUN 1201\")                    # Set trigger count to match sweep points\n",
    "    SM_VDD.write(\"TRIG:SOUR TLIN\")                    # Trigger source is Trigger Link (slave)\n",
    "    SM_VDD.write(\"OUTP ON\")                           # Enable output\n",
    "\n",
    "    # Start the measurement\n",
    "    SM_PMOS.write(\"INIT\")                             # Initiate the sweep on SM_PMOS\n",
    "    SM_VDD.write(\"INIT\")                              # Ensure SM_VDD is also ready\n",
    "\n",
    "    # Wait for the measurement to complete\n",
    "    SM_PMOS.write(\"*WAI\")                             # Wait until all operations complete\n",
    "    SM_VDD.write(\"*WAI\")\n",
    "\n",
    "    # Read and store current measurements from the trace buffers of both SMUs\n",
    "    ipmos_t = SM_PMOS.query(\"TRAC:DATA?\")             # Retrieve data from SM_PMOS trace buffer\n",
    "    icc_t = SM_VDD.query(\"TRAC:DATA?\")                # Retrieve data from SM_VDD trace buffer\n",
    "\n",
    "  \n",
    "\n",
    "    # Return outputs back to normal\n",
    "    SM_VDD.write(\":SOUR:VOLT:MODE FIX\")                             # Sets source mode to fix in case sweeps are used                 \n",
    "    SM_PMOS.write(\":SOUR:VOLT:MODE FIX\")\n",
    "\n",
    "    SM_VDD.write(\"SOUR:VOLT:LEV 1.2\")                               # Set VDD source value\n",
    "    SM_PMOS.write(\"SOUR:VOLT:LEV 1.2\")\n",
    "\n",
    "    SM_VDD.write(\"OUTP:STAT 1\")                                     # Turn on the devices\n",
    "    SM_PMOS.write(\"OUTP:STAT 1\")\n",
    "\n",
    "    ######################################################\n",
    "    ##################### NMOS Sweep #####################\n",
    "    ######################################################\n",
    "    SM_NMOS.write(\"*CLS\")\n",
    "    SM_NMOS.timeout = 200000                  # Set the timeout for the SMU operations to 200,000 milliseconds (200 seconds).\n",
    "    # Clear trace buffers and triggers\n",
    "    SM_NMOS.write(\"TRAC:CLE\")\n",
    "    SM_NMOS.write(\"TRIG:CLE\")\n",
    "\n",
    "    SM_NMOS.write(\":SOUR:VOLT:STAR 0\")\n",
    "    SM_NMOS.write(\":SOUR:VOLT:STOP 1.2\")\n",
    "    SM_NMOS.write(\":SOUR:VOLT:STEP .001\")\n",
    "\n",
    "    SM_NMOS.write(\":SOUR:VOLT:MODE SWE\")\n",
    "    SM_NMOS.write(\":SOUR:SWE:SPAC LIN\")\n",
    "    SM_NMOS.write(\":SOUR:SWE:RANG AUTO\")      # Set the sweep range to auto, allowing the SMU to automatically adjust the range.\n",
    "    SM_NMOS.write(\":SOUR:SWE:SPAC LIN\")       # Set the sweep spacing to linear, meaning the voltage will increase linearly between steps.\n",
    "    SM_NMOS.write(\":SOUR:SWE:CAB EARL\")       # Set the sweep to begin before the trigger event (EARL mode).\n",
    "\n",
    "    SM_NMOS.write(\":TRIG:COUN 1201\")\n",
    "    SM_NMOS.write(\":SOUR:DEL 0.001\")\n",
    "\n",
    "    # Start the measurement\n",
    "    NMOSdata = SM_NMOS.query(\":READ?\").split(',')\n",
    "    NMOSV=NMOSdata[0::5]\n",
    "    NMOSI=NMOSdata[1::5]\n",
    "\n",
    "    df = dp.DataFrame({'V NMOS':NMOSV, 'I NMOS':NMOSI})   # Create a DataFrame\n",
    "    csv_path=os.path.join(DATE, 'NMOS_Sweep.csv')                                             # Define the file path for saving the CSV file in the specified directory.\n",
    "    df.to_csv(csv_path, index=False)    \n",
    "    SM_NMOS.write(\":SOUR:VOLT:MODE:FIX \")\n",
    "    SM_NMOS.write(\"SOUR:VOLT:LEV 0\") \n",
    "    \n",
    "    ######################################################\n",
    "    ##################### PMOS Sweep #####################\n",
    "    ######################################################\n",
    "    SM_PMOS.write(\"*CLS\")\n",
    "    SM_PMOS.timeout = 200000                  # Set the timeout for the SMU operations to 200,000 milliseconds (200 seconds).\n",
    "    # Clear trace buffers and triggers\n",
    "    SM_PMOS.write(\"TRAC:CLE\")\n",
    "    SM_PMOS.write(\"TRIG:CLE\")\n",
    "\n",
    "    SM_PMOS.write(\":SOUR:VOLT:STAR 0\")\n",
    "    SM_PMOS.write(\":SOUR:VOLT:STOP 1.2\")\n",
    "    SM_PMOS.write(\":SOUR:VOLT:STEP .001\")\n",
    "    SM_PMOS.write(\":SOUR:SWE:DIRE DOW\")\n",
    "\n",
    "    SM_PMOS.write(\":SOUR:VOLT:MODE SWE\")\n",
    "    SM_PMOS.write(\":SOUR:SWE:SPAC LIN\")\n",
    "    SM_PMOS.write(\":SOUR:SWE:RANG AUTO\")      # Set the sweep range to auto, allowing the SMU to automatically adjust the range.\n",
    "    SM_PMOS.write(\":SOUR:SWE:SPAC LIN\")       # Set the sweep spacing to linear, meaning the voltage will increase linearly between steps.\n",
    "    SM_PMOS.write(\":SOUR:SWE:CAB EARL\")       # Set the sweep to begin before the trigger event (EARL mode).\n",
    "\n",
    "    SM_PMOS.write(\":TRIG:COUN 1201\")\n",
    "    SM_PMOS.write(\":SOUR:DEL 0.001\")\n",
    "\n",
    "    # Start the measurement\n",
    "    PMOSdata = SM_PMOS.query(\":READ?\").split(',')\n",
    "    PMOSV=PMOSdata[0::5]\n",
    "    PMOSI=PMOSdata[1::5]\n",
    "\n",
    "    df = dp.DataFrame({'V PMOS':PMOSV, 'I PMOS':PMOSI})   # Create a DataFrame\n",
    "    csv_path=os.path.join(DATE, 'PMOS_Sweep.csv')                                             # Define the file path for saving the CSV file in the specified directory.\n",
    "    df.to_csv(csv_path, index=False)    \n",
    "    SM_PMOS.write(\":SOUR:VOLT:MODE:FIX \")\n",
    "    SM_PMOS.write(\"SOUR:VOLT:LEV 1.2\")    \n",
    "\n",
    "    \n",
    "\n",
    "###############################################################\n",
    "##################### Shut Down Procedure #####################\n",
    "###############################################################\n",
    "SM_PMOS.write(\"OUTP:STAT 0\")                                  # Turn off the source meters\n",
    "SM_NMOS.write(\"OUTP:STAT 0\")                              \n",
    "SM_VDD.write(\"OUTP:STAT 0\")                                \n",
    "CHAMBER.write(\"SET=30\")                             # Sets the temperature back to room temp once test is complete                      \n",
    "while (CHAMBER.query(\"STATUS?\")[3] == 'N'):         # Checks if chamber has arrived at room temp\n",
    "    time.sleep(15)\n",
    "CHAMBER.write(\"STOP\")                               # Once chamber is at room temp, chamber stops operation"
   ]
  },
  {
   "cell_type": "code",
   "execution_count": null,
   "metadata": {},
   "outputs": [],
   "source": [
    "SM_PMOS.write(\"OUTP:STAT 0\")                                 # Turn off the VOUT source meter\n",
    "SM_NMOS.write(\"OUTP:STAT 0\") \n",
    "SM_VDD.write(\"OUTP:STAT 0\")"
   ]
  },
  {
   "cell_type": "code",
   "execution_count": null,
   "metadata": {},
   "outputs": [],
   "source": [
    "#CHAMBER.write(\"SET=25\")\n",
    "CHAMBER.write(\"STOP\")"
   ]
  }
 ],
 "metadata": {
  "kernelspec": {
   "display_name": "base",
   "language": "python",
   "name": "python3"
  },
  "language_info": {
   "codemirror_mode": {
    "name": "ipython",
    "version": 3
   },
   "file_extension": ".py",
   "mimetype": "text/x-python",
   "name": "python",
   "nbconvert_exporter": "python",
   "pygments_lexer": "ipython3",
   "version": "3.11.7"
  }
 },
 "nbformat": 4,
 "nbformat_minor": 4
}
