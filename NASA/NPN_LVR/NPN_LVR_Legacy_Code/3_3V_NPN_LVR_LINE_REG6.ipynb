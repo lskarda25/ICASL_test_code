{
 "cells": [
  {
   "cell_type": "markdown",
   "metadata": {
    "scrolled": true
   },
   "source": [
    "<b> Import Library, find available devices </b>"
   ]
  },
  {
   "cell_type": "code",
   "execution_count": 1,
   "metadata": {},
   "outputs": [
    {
     "data": {
      "text/plain": [
       "('USB0::0x0957::0x5707::MY53802060::INSTR',\n",
       " 'USB0::0x2A8D::0x0101::MY57508183::INSTR',\n",
       " 'ASRL3::INSTR',\n",
       " 'ASRL4::INSTR',\n",
       " 'GPIB6::6::INSTR',\n",
       " 'USB0::0x0957::0x0607::MY45002108::0::INSTR',\n",
       " 'USB0::0x0957::0x1796::MY57231548::0::INSTR',\n",
       " 'USB0::0x0957::0x1796::MY57231553::0::INSTR',\n",
       " 'USB0::0x0957::0x17B6::MY56310504::0::INSTR',\n",
       " 'USB0::0x0957::0x2C07::MY57890777::0::INSTR',\n",
       " 'USB0::0x2A8D::0x0101::MY54505624::0::INSTR')"
      ]
     },
     "execution_count": 1,
     "metadata": {},
     "output_type": "execute_result"
    }
   ],
   "source": [
    "# Initialization code for 3.3 V SiGe LVR Load Regulation Testing.\n",
    "# This block identifies and initializes the connected SMUs (Source Measure Units).\n",
    "# If running for the first time, ensure the SMU names are correctly referenced in the subsequent code block.\n",
    "\n",
    "# This program sweeps VIN for a fixed VREF and measures total quiescent current (IQ) and VOUT. \n",
    "# This program sets up a directory for all measurements taken at a specific temperature by prompting the user for the temperature.\n",
    "# This program creates a .csv file to save the measurements for a VREF in the temperature directory. \n",
    "\n",
    "# The setup assumes the use of two SMUs:\n",
    "# - One dedicated to VIN sweeps.\n",
    "# - One Sinks a load current and measures VOUT.\n",
    "\n",
    "import pyvisa                    # Importing the pyvisa library for instrument communication\n",
    "import time                      # Importing the time module to handle time-related tasks (e.g., delays)\n",
    "import matplotlib.pyplot as plt  # Importing matplotlib.pyplot for plotting graphs and visualizing data\n",
    "import numpy as np               # Importing numpy for numerical operations, particularly with arrays\n",
    "import pandas as dp              # Importing pandas as dp for data manipulation and analysis\n",
    "import os                        # Importing os to interact with the operating system, such as handling file paths\n",
    "import csv                       # Importing csv to read from and write to CSV files\n",
    "from datetime import date           # Importing date to read current date\n",
    "rm = pyvisa.ResourceManager()    # Create a ResourceManager object, which manages communication with instruments\n",
    "rm.list_resources()              # List all available resources (e.g., connected instruments) managed by pyvisa"
   ]
  },
  {
   "cell_type": "code",
   "execution_count": 2,
   "metadata": {},
   "outputs": [
    {
     "name": "stdout",
     "output_type": "stream",
     "text": [
      "SerialInstrument at ASRL3::INSTR\n",
      "KEITHLEY INSTRUMENTS INC.,MODEL 2401,4636506,B02 Jan 20 2021 10:19:49/B01  /W/N\n",
      "SerialInstrument at ASRL4::INSTR\n",
      "KEITHLEY INSTRUMENTS INC.,MODEL 2401,4636504,B02 Jan 20 2021 10:19:49/B01  /W/N\n",
      "USBInstrument at USB0::10893::257::MY57508183::0::INSTR\n",
      "Keysight Technologies,34465A,MY57508183,A.02.17-02.40-02.17-00.52-04-01\n",
      "USBInstrument at USB0::2391::22279::MY53802060::0::INSTR\n",
      "Agilent Technologies,33622A,MY53802060,A.01.11-2.25-03-64-02\n",
      "GPIBInstrument at GPIB6::6::INSTR\n",
      "YNNNYYNNYNNNNNNNNN0\n"
     ]
    }
   ],
   "source": [
    "#Establishing Connection for VIN SMU\n",
    "SM_VIN = rm.open_resource('ASRL3::INSTR')  # Open a connection to the instrument with the address 'ASRL3::INSTR' and assign it to SM_VIN\n",
    "SM_VIN.read_termination = '\\n'             # Set the read termination character to a newline. This tells pyvisa when to consider a message as complete when reading from the instrument.\n",
    "SM_VIN.write_termination = '\\n'            # Set the write termination character to a newline. This ensures that each command sent to the instrument is properly terminated.\n",
    "SM_VIN.baud_rate = 9600                    # Set the baud rate for serial communication to 9600. This is the speed at which data is transmitted over the serial connection.\n",
    "print(SM_VIN)                              # Print the resource object (SM_VIN) to display its properties\n",
    "print(SM_VIN.query('*IDN?'))               # Send the '*IDN?' command to the instrument and print its response. This command usually asks the instrument to identify itself (e.g., manufacturer, model number).\n",
    "\n",
    "#Establishing Connection for VOUT SMU\n",
    "SM_VOUT = rm.open_resource('ASRL4::INSTR') # Open a connection to the instrument with the address 'ASRL4::INSTR' and assign it to SM_VOUT\n",
    "SM_VOUT.read_termination = '\\n'            # Set the read termination character to a newline for SM_VOUT, similar to SM_VIN\n",
    "SM_VOUT.write_termination = '\\n'           # Set the write termination character to a newline for SM_VOUT, similar to SM_VIN\n",
    "SM_VOUT.baud_rate = 9600                   # Set the baud rate for SM_VOUT to 9600, ensuring both instruments communicate at the same speed\n",
    "print(SM_VOUT)                             # Print the resource object (SM_VOUT) to display its properties\n",
    "print(SM_VOUT.query('*IDN?'))              # Send the '*IDN?' command to the SM_VOUT instrument and print its response, identifying the instrument\n",
    "\n",
    "#Establishing Connection for VREF multimeter\n",
    "MM_VREF = rm.open_resource('USB0::10893::257::MY57508183::0::INSTR')\n",
    "MM_VREF.read_termination = '\\n'             # Set the read termination character to a newline. This tells pyvisa when to consider a message as complete when reading from the instrument.\n",
    "MM_VREF.write_termination = '\\n'\n",
    "MM_VREF.baud_rate = 9600\n",
    "print(MM_VREF)                             # Print the resource object (SM_VOUT) to display its properties\n",
    "print(MM_VREF.query('*IDN?'))              \n",
    "\n",
    "#Establishing Connection for VREF waveform generator\n",
    "WG_VREF = rm.open_resource('USB0::2391::22279::MY53802060::0::INSTR')\n",
    "WG_VREF.read_termination = '\\n'             # Set the read termination character to a newline. This tells pyvisa when to consider a message as complete when reading from the instrument.\n",
    "WG_VREF.write_termination = '\\n'\n",
    "WG_VREF.baud_rate = 9600\n",
    "print(WG_VREF)                             # Print the resource object (SM_VOUT) to display its properties\n",
    "print(WG_VREF.query('*IDN?'))\n",
    "\n",
    "#Establishing Connection for Temperature Chamber\n",
    "CHAMBER = rm.open_resource('GPIB6::6::INSTR') \n",
    "CHAMBER.read_termination = '\\n'            \n",
    "CHAMBER.write_termination = '\\n'           \n",
    "CHAMBER.baud_rate = 9600                  \n",
    "print(CHAMBER)                            \n",
    "print(CHAMBER.query('STATUS?'))              \n",
    "\n",
    "\n",
    "VIN_MAX=33\n",
    "VIN_STEP=1\n",
    "VIN_MIN=11\n",
    "ILMAX=-.01\n",
    "VIN=[]\n",
    "ITOT=[]\n",
    "VOUT=[]\n",
    "ILlist=[-.00001, -.00003, -.00005, -.0001, -.0003, -.0005, -.001, -.003, -.005, -.01]\n",
    "VREFlist = [0.8, 1.2, 1.6, 2.0, 2.4]\n",
    "TEMPlist = [120, 100, 80, 60, 40, 20, 0, -20, -40, -60, -80, -100, -120, -140, -160, -175]      # List of temperatures for test"
   ]
  },
  {
   "cell_type": "markdown",
   "metadata": {},
   "source": [
    "<b> Initialize Source Meter (VIN) <b>"
   ]
  },
  {
   "cell_type": "code",
   "execution_count": 3,
   "metadata": {},
   "outputs": [
    {
     "name": "stdout",
     "output_type": "stream",
     "text": [
      "\"CURR:DC\"\n"
     ]
    },
    {
     "data": {
      "text/plain": [
       "13"
      ]
     },
     "execution_count": 3,
     "metadata": {},
     "output_type": "execute_result"
    }
   ],
   "source": [
    "SM_VIN.write(\":CONF:CURR\")                  # Configure the SMU to measure current\n",
    "SM_VIN.write(\"OUTP:STAT 0\")                 # Turn off the VIN source meter\n",
    "print(SM_VIN.query(\":CONF?\"))               # Query and print the current configuration of the SMU\n",
    "SM_VIN.write(\"SOUR:VOLT:RANG 3.3\")\n",
    "SM_VIN.write(\"SENS:CURR:PROT:LEV 0.0105\")   # Set the current protection level (compliance) to 10.5 mA. This limits the maximum current to protect the device under test.\n",
    "SM_VIN.write(\"SENS:CURR:RANG 1E-2\")         # Set the current measurement range to 10 mA. This sets the expected maximum current for accurate measurement.\n",
    "SM_VIN.write(\"CURR:NPLC 10\")                # Set the number of power line cycles (NPLC) for the current measurement to 10. \n",
    "                                            # This controls the integration time, with higher values leading to more accurate but slower measurements."
   ]
  },
  {
   "cell_type": "markdown",
   "metadata": {},
   "source": [
    "<b> Initialize Source Meter (Source/Sink) <b>"
   ]
  },
  {
   "cell_type": "code",
   "execution_count": 4,
   "metadata": {},
   "outputs": [
    {
     "name": "stdout",
     "output_type": "stream",
     "text": [
      "\"VOLT:DC\"\n"
     ]
    },
    {
     "data": {
      "text/plain": [
       "12"
      ]
     },
     "execution_count": 4,
     "metadata": {},
     "output_type": "execute_result"
    }
   ],
   "source": [
    "SM_VOUT.write(\":SOUR:FUNC CURR\")             #Configure \n",
    "SM_VOUT.write(\"SOUR:CURR:RANG 0.0105\") \n",
    "SM_VOUT.write(\":CONF:VOLT\")                  # Configure the SMU to measure voltage\n",
    "SM_VOUT.write(\":SYST:RSEN 1\")                   #Configure SMU to use 4-wire voltage measurement, this minimizes voltage drop along cable\n",
    "print(SM_VOUT.query(\":CONF?\"))               # Query and print the current configuration of the SMU\n",
    "\n",
    "SM_VOUT.write(\"SENS:VOLT:PROT:LEV 2.5\")      # Set the voltage protection level (compliance) to 2.5 V. This limits the maximum voltage to protect the device under test.\n",
    "SM_VOUT.write(\"SENS:VOLT:RANG 10\")          # Set the voltage measurement range to 10 V. This sets the expected maximum voltage for accurate measurement.\n",
    "SM_VOUT.write(\"VOLT:NPLC 10\")                # Set the number of power line cycles (NPLC) for the current measurement to 10. \n",
    "                                             # This controls the integration time, with higher values leading to more accurate but slower measurements.\n",
    "SM_VOUT.write(\"OUTP:STAT 0\")                 # Turn off the VIN source meter\n"
   ]
  },
  {
   "cell_type": "markdown",
   "metadata": {},
   "source": [
    "<b> Initialize Waveform Generator <b>"
   ]
  },
  {
   "cell_type": "code",
   "execution_count": 5,
   "metadata": {},
   "outputs": [
    {
     "data": {
      "text/plain": [
       "14"
      ]
     },
     "execution_count": 5,
     "metadata": {},
     "output_type": "execute_result"
    }
   ],
   "source": [
    "##### Waveform generator is used to output VREF #####\n",
    "WG_VREF.write(\"OUTP:LOAD INF\")          # Sets the output load to infinite so no impedance matching is necessary\n",
    "WG_VREF.write(\"SOUR1:APPL:DC\")          # Sets the Waveform generator to output a DC voltage"
   ]
  },
  {
   "cell_type": "markdown",
   "metadata": {},
   "source": [
    "<b> Initialize Multi Meter <b>"
   ]
  },
  {
   "cell_type": "code",
   "execution_count": 6,
   "metadata": {},
   "outputs": [
    {
     "name": "stdout",
     "output_type": "stream",
     "text": [
      "\"VOLT +1.00000000E+01,+1.00000000E-06\"\n",
      "-5.86029196E-05\n"
     ]
    }
   ],
   "source": [
    "MM_VREF.write(\":CONF:VOLT:DC\")\n",
    "print(MM_VREF.query(\":CONF?\"))\n",
    "print(MM_VREF.query(\":READ?\"))"
   ]
  },
  {
   "cell_type": "markdown",
   "metadata": {},
   "source": [
    "<b> Initialize Temperature Chamber <b>"
   ]
  },
  {
   "cell_type": "code",
   "execution_count": null,
   "metadata": {},
   "outputs": [],
   "source": [
    "CHAMBER.write(\"ON\")\n",
    "CHAMBER.write(\"RATE=20\")            # Sets the speed at which the chamber will ramp to change TEMP\n",
    "CHAMBER.write(\"WAIT=30\")            # Sets the time that the chamber will wait once the desired temperature is reached before measurements start\n",
    "CHAMBER.write(\"HON\")                # Turns heat on\n",
    "CHAMBER.write(\"CON\")                # Turns cool on\n",
    "time.sleep(1) \n",
    "\n",
    "print(CHAMBER.query(\"RATE?\"))\n",
    "print(CHAMBER.query(\"WAIT?\"))"
   ]
  },
  {
   "cell_type": "markdown",
   "metadata": {
    "scrolled": true
   },
   "source": [
    "<b> Enter the Device under Test <b>"
   ]
  },
  {
   "cell_type": "code",
   "execution_count": null,
   "metadata": {},
   "outputs": [],
   "source": [
    "directory_name = input(\"Enter the Device under Test (DUT):\")  # Prompt the user to input the temperature of the experiment, which will be used as the directory name\n",
    "DUT=\"DUT_\"+str(directory_name)\n",
    "os.makedirs(DUT, exist_ok=True)                             # Create a directory with the given name. If the directory already exists, it won't raise an error due to exist_ok=True\n",
    "DATE=str(DUT)+\"/\"+str(date.today())                         # Create another directory for test date within DUT name\n",
    "os.makedirs(DATE, exist_ok=True) "
   ]
  },
  {
   "cell_type": "markdown",
   "metadata": {},
   "source": [
    "<b> Test Protocol </b>"
   ]
  },
  {
   "cell_type": "code",
   "execution_count": null,
   "metadata": {},
   "outputs": [],
   "source": [
    "#TURN ON DEVICE HERE\n",
    "#SM_VOUT.write(\":SOUR:CURR:MODE FIX\")                    # Sets current mode to fix in case sweeps are used\n",
    "SM_VIN.write(\"SENS:CURR:RANG 1E-2\")                             # Set the current range to 10 mA before turning anything on, prevents compliance limiting\n",
    "SM_VOUT.write(\"SENS:VOLT:RANG .8\")                              # Set the VOUT measurement range \n",
    "WG_VREF.write(\"APPL:DC DEF, DEF, .8\")                           # Sets VREF to .8 V\n",
    "SM_VOUT.write(\"SOUR:CURR:LEV -.01\")                    # Set VOUT source value\n",
    "#SM_VIN.write(\"SOUR:VOLT:RANG 3.3\")\n",
    "SM_VIN.write(\"SOUR:VOLT:LEV 3.3\")                      # Set VIN source value\n",
    "SM_VIN.write(\"OUTP:STAT 1\")                                     # Turn on the VIN source meter output\n",
    "SM_VOUT.write(\"OUTP:STAT 1\")                                    # Turn on the VOUT source meter output\n",
    "#TEMPlist = [30]\n",
    "\n",
    "for TEMP in TEMPlist:\n",
    "    local=str(DATE)+\"/TEMP_\"+str(TEMP)                           # The temperature of the experiment gets set as the sub directory name\n",
    "    os.makedirs(local, exist_ok=True)                           # Create a directory with the given name. If the directory already exists, it won't raise an error due to exist_ok=True\n",
    "    \n",
    "    CHAMBER.write(\"WAIT=30\")                                    # Resets the wait time of the temp chamber to 30 minutes so it doesn't time out mid test\n",
    "    CHAMBER.write(\"SET=\" + str(TEMP))\n",
    "    # TODO: There is probably a better way to check for temperature settling and do wait time\n",
    "    while (CHAMBER.query(\"STATUS?\")[3] == 'N'):                 # Checks if the temperature chamber has arrived at TEMP yet or not\n",
    "        time.sleep(15)\n",
    "        print(CHAMBER.query(\"STATUS?\"))  \n",
    "    print(CHAMBER.query(\"STATUS?\"))\n",
    "    time.sleep(300)                                              # Soak time\n",
    "    \n",
    "    for VREF in VREFlist:                                       # Sets VREF constant throughout test\n",
    "        SM_VOUT.write(\"SENS:VOLT:RANG \" + str(VREF))            # The voltage at VOUT should be capped by VREF, this will provide the most accurate measurement\n",
    "        time.sleep(.5) \n",
    "\n",
    "        ####### SETS VREF #######\n",
    "        WG_VREF.write(\"APPL:DC DEF, DEF, \" + str(VREF))         # Sets VREF and adjusts to be more accurate\n",
    "        VREFmeas = MM_VREF.query(\":READ?\")                      # Measure VREF\n",
    "        WGout = 2*VREF - float(VREFmeas)                            # Compares goal VREF value with measured value to create new VREF that should be closer to ideal \n",
    "        while (abs(float(VREFmeas) - VREF) > .001 *VREF):           # Will loop until the measured VREF is within .1% of ideal VREF\n",
    "            WGout = VREF + WGout - float(VREFmeas)                  # Creates new output for VREF\n",
    "            WG_VREF.write(\"APPL:DC DEF, DEF, \" + str(WGout))        # Writes to waveform generator\n",
    "            time.sleep(1)\n",
    "            VREFmeas = MM_VREF.query(\":READ?\")                      # Measures VREF\n",
    "\n",
    "        \n",
    "        ####### Creates Lists for Data #######\n",
    "        SHEET=\"VREF=\"+str(VREF)+\".csv\"                          # Create a CSV file name based on the VREF value\n",
    "        VIN=[]                                                  # Initialize an empty list to store VIN values\n",
    "        ITOT=[]                                                 # Initialize an empty list to store total current values (IQ + IL)\n",
    "        VOUT=[]                                                 # Initialize an empty list to store VOUT values\n",
    "        ILdata=[]\n",
    "        VREFdata=[]\n",
    "\n",
    "        # Bring down IL from -10mA to -10uA (or first tested value) before test to prevent compliance limiting\n",
    "        SM_VOUT.write(\"SOUR:CURR:LEV \" + str(ILlist[0]))\n",
    "\n",
    "\n",
    "        ##################### FIRST: Sweep of IL for VIN = 3.3V #####################\n",
    "        # Current starts low -10uA, sweeps up to -10mA\n",
    "        #TODO: Change to sweep function\n",
    "        #       Need to set up trigger link to grab VOUT and VIN measurement at the same time\n",
    "        #       Figure out how to range for that\n",
    "        for IL in ILlist:\n",
    "            CURRrange = .00025 + -IL                            # Sets the current range for the VIN sourcemeter. 250uA is roughly the Q current of the OP AMP\n",
    "                                                                # That plus IL is what should be expected to flow through VIN\n",
    "            if CURRrange > .01: CURRrange = .01                 # .01 should be the maximum current range used\n",
    "            SM_VIN.write(\"SENS:CURR:RANG \" + str(CURRrange))    # We are sweeping IL up so set the measurement range on VIN FIRST!\n",
    "            time.sleep(.1)   \n",
    "            SM_VOUT.write(\"SOUR:CURR:RANG \" + str(IL)) \n",
    "            time.sleep(.5)\n",
    "            SM_VOUT.write(\"SOUR:CURR:LEV \" + str(IL))           # Sets VOUT source to IL\n",
    "\n",
    "            time.sleep(.5)                                      # Wait time before measurement is taken\n",
    "            #TODO: LOOK INTO USING TRIGGER LINK\n",
    "            VOUT.append(SM_VOUT.query(\":READ?\").split(',')[0])  # READ is used instead of MEAS as it doesn't reconfigure device, which would turn on auto-range\n",
    "            ITOT.append(SM_VIN.query(\":READ?\").split(',')[1])   # Query and append the measured total current\n",
    "            ILdata.append(IL)\n",
    "            VREFdata.append(VREFmeas)                           # Appends the measured VREF from earlier. TODO: Could measure VREF everytime but would add time                            \n",
    "            VIN.append(3.3)                                     # Append the current VIN value to the VIN list\n",
    "\n",
    "\n",
    "\n",
    "        ##################### SECOND: Sweep of VIN for IL=10mA #####################\n",
    "        # VIN starts high at 3.3V and then sweeps down to 1V or VREF, whichever is higher.                                        \n",
    "        # Note: IL should already be at -10mA (ILMAX) so no changes are needed to VIN SENS range or VOUT SOURCE value\n",
    "\n",
    "        if VIN_MIN < VREF*10:                                   # Checks if the VIN_MIN value set in the first code block is less than VREF\n",
    "            new_MIN = VREF*10 - 1                               # If yes: set the new minimum to be VREF instead of VIN_MIN\n",
    "        else: new_MIN = VIN_MIN                                 # If no: continue using VIN_MIN\n",
    "\n",
    "        for i in range (VIN_MAX,int(new_MIN),-VIN_STEP):        # Loop from VIN_MAX to VIN_MIN in steps of VIN_STEP                                                            \n",
    "            val = i / 10                                        # Convert the current loop index into a floating-point voltage value\n",
    "            ############ Sets VIN voltage ############                \n",
    "            SM_VIN.write(\"SOUR:VOLT:LEV \" + str(val))          # Write the command to set the VIN voltage on the source meter\n",
    "            #time.sleep(.1)\n",
    "            #SM_VIN.write(\"SOUR:VOLT:RANG \" + str(val))                  # Set the VIN source meter voltage source range to what is being output\n",
    "                                                                            # Sets the range after new value is set because val is sweeping down\n",
    "            time.sleep(.5)                                               # Pause for .5 seconds to allow the system to stabilize\n",
    "            \n",
    "            ######## Measure ILOAD and others ########\n",
    "            VOUT.append(SM_VOUT.query(\":READ?\").split(',')[0])     \n",
    "            ITOT.append(SM_VIN.query(\":READ?\").split(',')[1])             # Query and append the measured total current through VIN\n",
    "            VREFdata.append(VREFmeas)\n",
    "            ILdata.append(ILMAX)\n",
    "            VIN.append(val)                                          # Append the current VIN value to the VIN list\n",
    "        #SM_VIN.write(\"SOUR:VOLT:RANG 3.3\")\n",
    "        SM_VIN.write(\"SOUR:VOLT:LEV 3.3\") \n",
    "        # Create a DataFrame with the collected data\n",
    "        df = dp.DataFrame({'VIN': VIN, 'ITOT': ITOT, 'IL': ILdata, 'VOUT': VOUT, 'VREF': VREFdata})      # Create a pandas DataFrame from VIN, ITOT, and VOUT lists\n",
    "\n",
    "        csv_path=os.path.join(local, SHEET)                          # Generate the file path for saving the CSV\n",
    "        df.to_csv(csv_path, index=False)                             # Save the DataFrame to a CSV file without including the index\n",
    "    # After each temperature, set VREF back to .8\n",
    "    WG_VREF.write(\"APPL:DC DEF, DEF, .8\")\n",
    "\n",
    "\n",
    "\n",
    "##################### Cold Start Test #####################\n",
    "# After temperature testing is complete, turn off the source meters\n",
    "SM_VOUT.write(\"OUTP:STAT 0\")                                 # Turn off the VOUT source meter\n",
    "SM_VIN.write(\"OUTP:STAT 0\")                                  # Turn off the VIN source meter\n",
    "WG_VREF.write(\"OUTP:STAT 0\")                                    # Turn off VREF\n",
    "CHAMBER.write(\"WAIT=30\")                                        # Reset wait time so that it doesn't time out\n",
    "time.sleep(900)                                                 # Wait 15 minutes for device to cool down\n",
    "CHAMBER.write(\"WAIT=30\")                                        # Same as above (TODO: There is probably a better way to do this)\n",
    "\n",
    "\n",
    "#TURN ON DEVICE HERE\n",
    "SM_VOUT.write(\"SENS:VOLT:RANG .8\")                              # Set the VOUT measurement range \n",
    "WG_VREF.write(\"APPL:DC DEF, DEF, .8\")                           # Sets VREF to .8 V\n",
    "WG_VREF.write(\"OUTP:STAT 1\")\n",
    "SM_VOUT.write(\"SOUR:CURR:LEV -.01\")                    # Set VOUT source value\n",
    "#SM_VIN.write(\"SOUR:VOLT:RANG 3.3\")\n",
    "SM_VIN.write(\"SOUR:VOLT:LEV 3.3\")                      # Set VIN source value\n",
    "SM_VIN.write(\"OUTP:STAT 1\")                                     # Turn on the VIN source meter output\n",
    "SM_VOUT.write(\"OUTP:STAT 1\")                                    # Turn on the VOUT source meter output\n",
    "\n",
    "#number of cold start tests: \n",
    "numCold = 2\n",
    "for i in range(numCold):\n",
    "    CHAMBER.write(\"WAIT=30\") \n",
    "    local=str(DATE)+\"/TEMP_-175C\"+str(i)\n",
    "    os.makedirs(local, exist_ok=True)\n",
    "\n",
    "    for VREF in VREFlist:                                       # Sets VREF constant throughout test\n",
    "        SM_VOUT.write(\"SENS:VOLT:RANG \" + str(VREF))            # The voltage at VOUT should be capped by VREF, this will provide the most accurate measurement\n",
    "        time.sleep(.5) \n",
    "\n",
    "        ####### SETS VREF #######\n",
    "        WG_VREF.write(\"APPL:DC DEF, DEF, \" + str(VREF))         # Sets VREF and adjusts to be more accurate\n",
    "        VREFmeas = MM_VREF.query(\":READ?\")                      # Measure VREF\n",
    "        WGout = 2*VREF - float(VREFmeas)                            # Compares goal VREF value with measured value to create new VREF that should be closer to ideal \n",
    "        while (abs(float(VREFmeas) - VREF) > .001 *VREF):           # Will loop until the measured VREF is within .1% of ideal VREF\n",
    "            WGout = VREF + WGout - float(VREFmeas)                  # Creates new output for VREF\n",
    "            WG_VREF.write(\"APPL:DC DEF, DEF, \" + str(WGout))        # Writes to waveform generator\n",
    "            time.sleep(1)\n",
    "            VREFmeas = MM_VREF.query(\":READ?\")                      # Measures VREF\n",
    "\n",
    "        \n",
    "        ####### Creates Lists for Data #######\n",
    "        SHEET=\"VREF=\"+str(VREF)+\".csv\"                          # Create a CSV file name based on the VREF value\n",
    "        VIN=[]                                                  # Initialize an empty list to store VIN values\n",
    "        ITOT=[]                                                 # Initialize an empty list to store total current values (IQ + IL)\n",
    "        VOUT=[]                                                 # Initialize an empty list to store VOUT values\n",
    "        ILdata=[]\n",
    "        VREFdata=[]\n",
    "\n",
    "        # Bring down IL from -10mA to -10uA (or first tested value) before test to prevent compliance limiting\n",
    "        SM_VOUT.write(\"SOUR:CURR:LEV \" + str(ILlist[0]))\n",
    "\n",
    "\n",
    "        ##################### FIRST: Sweep of IL for VIN = 3.3V #####################\n",
    "        # Current starts low -10uA, sweeps up to -10mA\n",
    "        #TODO: Change to sweep function\n",
    "        #       Need to set up trigger link to grab VOUT and VIN measurement at the same time\n",
    "        #       Figure out how to range for that\n",
    "        for IL in ILlist:\n",
    "            CURRrange = .00025 + -IL                            # Sets the current range for the VIN sourcemeter. 250uA is roughly the Q current of the OP AMP\n",
    "                                                                # That plus IL is what should be expected to flow through VIN\n",
    "            if CURRrange > .01: CURRrange = .01                 # .01 should be the maximum current range used\n",
    "            SM_VIN.write(\"SENS:CURR:RANG \" + str(CURRrange))    # We are sweeping IL up so set the measurement range on VIN FIRST!\n",
    "            time.sleep(.1)   \n",
    "            SM_VOUT.write(\"SOUR:CURR:RANG \" + str(IL)) \n",
    "            time.sleep(.5) \n",
    "            SM_VOUT.write(\"SOUR:CURR:LEV \" + str(IL))           # Sets VOUT source to IL\n",
    "            time.sleep(.5)                                      # Wait time before measurement is taken\n",
    "            #TODO: LOOK INTO USING TRIGGER LINK\n",
    "            VOUT.append(SM_VOUT.query(\":READ?\").split(',')[0])  # READ is used instead of MEAS as it doesn't reconfigure device, which would turn on auto-range\n",
    "            ITOT.append(SM_VIN.query(\":READ?\").split(',')[1])   # Query and append the measured total current\n",
    "            ILdata.append(IL)\n",
    "            VREFdata.append(VREFmeas)                           # Appends the measured VREF from earlier. TODO: Could measure VREF everytime but would add time                            \n",
    "            VIN.append(3.3)                                     # Append the current VIN value to the VIN list\n",
    "\n",
    "\n",
    "\n",
    "        ##################### SECOND: Sweep of VIN for IL=10mA #####################\n",
    "        # VIN starts high at 3.3V and then sweeps down to 1V or VREF, whichever is higher.                                        \n",
    "        # Note: IL should already be at -10mA (ILMAX) so no changes are needed to VIN SENS range or VOUT SOURCE value\n",
    "\n",
    "        if VIN_MIN < VREF*10:                                   # Checks if the VIN_MIN value set in the first code block is less than VREF\n",
    "            new_MIN = VREF*10 - 1                               # If yes: set the new minimum to be VREF instead of VIN_MIN\n",
    "        else: new_MIN = VIN_MIN                                 # If no: continue using VIN_MIN\n",
    "\n",
    "        for i in range (VIN_MAX,int(new_MIN),-VIN_STEP):        # Loop from VIN_MAX to VIN_MIN in steps of VIN_STEP                                                            \n",
    "            val = i / 10                                        # Convert the current loop index into a floating-point voltage value\n",
    "            ############ Sets VIN voltage ############                \n",
    "            SM_VIN.write(\"SOUR:VOLT:LEV \" + str(val))          # Write the command to set the VIN voltage on the source meter\n",
    "            #SM_VIN.write(\"SOUR:VOLT:RANG \" + str(val))                  # Set the VIN source meter voltage source range to what is being output\n",
    "                                                                            # Sets the range after new value is set because val is sweeping down\n",
    "            time.sleep(.5)                                               # Pause for .5 seconds to allow the system to stabilize\n",
    "            \n",
    "            ######## Measure ILOAD and others ########\n",
    "            VOUT.append(SM_VOUT.query(\":READ?\").split(',')[0])     \n",
    "            ITOT.append(SM_VIN.query(\":READ?\").split(',')[1])             # Query and append the measured total current through VIN\n",
    "            VREFdata.append(VREFmeas)\n",
    "            ILdata.append(ILMAX)\n",
    "            VIN.append(val)                                          # Append the current VIN value to the VIN list\n",
    "        #SM_VIN.write(\"SOUR:VOLT:RANG 3.3\")\n",
    "        SM_VIN.write(\"SOUR:VOLT:LEV 3.3\") \n",
    "        # Create a DataFrame with the collected data\n",
    "        df = dp.DataFrame({'VIN': VIN, 'ITOT': ITOT, 'IL': ILdata, 'VOUT': VOUT, 'VREF': VREFdata})      # Create a pandas DataFrame from VIN, ITOT, and VOUT lists\n",
    "\n",
    "        csv_path=os.path.join(local, SHEET)                          # Generate the file path for saving the CSV\n",
    "        df.to_csv(csv_path, index=False)                             # Save the DataFrame to a CSV file without including the index\n",
    "    WG_VREF.write(\"APPL:DC DEF, DEF, .8\")\n",
    "    if i != numCold - 1: time.sleep(500)\n",
    "\n",
    "\n",
    "##################### Shut Down Procedure #####################\n",
    "SM_VIN.write(\"OUTP:STAT 0\")                                  # Turn off the VIN source meter\n",
    "WG_VREF.write(\"OUTP:STAT 0\")                                    # Turn off VREF\n",
    "CHAMBER.write(\"SET=30\")                             # Sets the temperature back to room temp once test is complete                      \n",
    "while (CHAMBER.query(\"STATUS?\")[3] == 'N'):         # Checks if chamber has arrived at room temp\n",
    "    time.sleep(15)\n",
    "CHAMBER.write(\"STOP\")                               # Once chamber is at room temp, chamber stops operation"
   ]
  },
  {
   "cell_type": "code",
   "execution_count": null,
   "metadata": {},
   "outputs": [],
   "source": [
    "SM_VOUT.write(\"OUTP:STAT 0\")                                 # Turn off the VOUT source meter\n",
    "SM_VIN.write(\"OUTP:STAT 0\") \n",
    "WG_VREF.write(\"OUTP:STAT 0\")"
   ]
  },
  {
   "cell_type": "code",
   "execution_count": null,
   "metadata": {},
   "outputs": [],
   "source": [
    "#CHAMBER.write(\"SET=25\")\n",
    "CHAMBER.write(\"STOP\")"
   ]
  }
 ],
 "metadata": {
  "kernelspec": {
   "display_name": "base",
   "language": "python",
   "name": "python3"
  },
  "language_info": {
   "codemirror_mode": {
    "name": "ipython",
    "version": 3
   },
   "file_extension": ".py",
   "mimetype": "text/x-python",
   "name": "python",
   "nbconvert_exporter": "python",
   "pygments_lexer": "ipython3",
   "version": "3.11.7"
  }
 },
 "nbformat": 4,
 "nbformat_minor": 4
}
